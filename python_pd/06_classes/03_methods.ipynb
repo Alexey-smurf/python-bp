{
 "metadata": {
  "language_info": {
   "codemirror_mode": {
    "name": "ipython",
    "version": 3
   },
   "file_extension": ".py",
   "mimetype": "text/x-python",
   "name": "python",
   "nbconvert_exporter": "python",
   "pygments_lexer": "ipython3",
   "version": "3.9.0-final"
  },
  "orig_nbformat": 2,
  "kernelspec": {
   "name": "python3",
   "display_name": "Python 3",
   "language": "python"
  }
 },
 "nbformat": 4,
 "nbformat_minor": 2,
 "cells": [
  {
   "source": [
    "# Методы\n",
    "\n",
    "Еще одним видом атрибута являются методы. Методы это специальные функции, которые объявляются внутри класса. Обращение к методам происходит с помощью точечной нотации как и к атрибутам. Вызвать метод можно аналогично функциям, с помощью круглых скобок.\n",
    "\n",
    "Методы являются объектами типа ```method```, поэтому их не обязательно вызывать. С ними можно выполнять те же операции, что и с функциями, т.е. хранить в структурах данных, удалять, передавать в качестве аргументов, возвращать из других функций и методов."
   ],
   "cell_type": "markdown",
   "metadata": {}
  },
  {
   "cell_type": "code",
   "execution_count": 2,
   "metadata": {},
   "outputs": [
    {
     "output_type": "stream",
     "name": "stdout",
     "text": [
      "Это класс A!\ntype(a.foo) = <class 'method'>\n"
     ]
    }
   ],
   "source": [
    "class A:\n",
    "    def foo(self):\n",
    "        print(f'Это класс {self.__class__.__name__}!')\n",
    "\n",
    "a = A()\n",
    "a.foo()\n",
    "\n",
    "print(f'{type(a.foo) = }')"
   ]
  },
  {
   "source": [
    "Все методы можно разделить на три группы:\n",
    "- методы экземпляра;\n",
    "- методы класса;\n",
    "- статические методы.\n",
    "\n",
    "По умолчанию все методы являются методами экземпляра. Их отличает одна особенность. Такие методы **должны** принимать один **обязательный** аргумент - ```self```. Имя ```self``` не обязательно, оно используется по соглашению, но не рекомендуется использование других имен.\n",
    "\n",
    "Этот аргумент отвечает за передачу экземпляра класса в метод. Поэтому при вызове метода ```obj.method()``` не нужно передавать этот аргумент вручную, это делается неявно. Эту конструкцию можно переписать в эквивалентную ```Class.method(obj)```, вызвав метод у класса и, передав в качестве аргумента self экземпляр класса ```obj```. Аналогом аргумента ```self``` является ```this``` в других языках программирования."
   ],
   "cell_type": "markdown",
   "metadata": {}
  },
  {
   "cell_type": "code",
   "execution_count": 5,
   "metadata": {},
   "outputs": [
    {
     "output_type": "stream",
     "name": "stdout",
     "text": [
      "Это класс A!\nЭто класс A!\n"
     ]
    }
   ],
   "source": [
    "a.foo()\n",
    "A.foo(a)"
   ]
  },
  {
   "cell_type": "code",
   "execution_count": null,
   "metadata": {},
   "outputs": [],
   "source": []
  },
  {
   "cell_type": "code",
   "execution_count": 6,
   "metadata": {},
   "outputs": [
    {
     "output_type": "stream",
     "name": "stdout",
     "text": [
      "type(a.foo) = <class 'method'>\ntype(A.foo) = <class 'function'>\n"
     ]
    }
   ],
   "source": [
    "print(f'{type(a.foo) = }')\n",
    "print(f'{type(A.foo) = }')"
   ]
  },
  {
   "cell_type": "code",
   "execution_count": null,
   "metadata": {},
   "outputs": [],
   "source": []
  },
  {
   "source": [
    "## Методы экземпляра"
   ],
   "cell_type": "markdown",
   "metadata": {}
  },
  {
   "cell_type": "code",
   "execution_count": 18,
   "metadata": {},
   "outputs": [],
   "source": [
    "class Counter:\n",
    "    global_count = 0\n",
    "    def __init__(self, initial=0):\n",
    "        self.count = initial\n",
    "    \n",
    "    def inc(self):\n",
    "        self.count += 1\n",
    "        self.__class__.global_count += 1\n",
    "    \n",
    "    def get_global_counter(self):\n",
    "        return self.__class__.global_count"
   ]
  },
  {
   "cell_type": "code",
   "execution_count": 19,
   "metadata": {},
   "outputs": [
    {
     "output_type": "stream",
     "name": "stdout",
     "text": [
      "c_1.count = 8\nc_1.get_global_counter() = 5\nc_2.count = 2\nc_2.get_global_counter() = 5\n"
     ]
    }
   ],
   "source": [
    "c_1 = Counter(5)\n",
    "c_2 = Counter()\n",
    "\n",
    "c_1.inc()\n",
    "c_1.inc()\n",
    "c_1.inc()\n",
    "\n",
    "c_2.inc()\n",
    "c_2.inc()\n",
    "\n",
    "print(f'{c_1.count = }')\n",
    "print(f'{c_1.get_global_counter() = }')\n",
    "\n",
    "print(f'{c_2.count = }')\n",
    "print(f'{c_2.get_global_counter() = }')"
   ]
  },
  {
   "source": [
    "## Методы класса"
   ],
   "cell_type": "markdown",
   "metadata": {}
  },
  {
   "cell_type": "code",
   "execution_count": null,
   "metadata": {},
   "outputs": [],
   "source": [
    "class Date:\n",
    "    def __init__(self, day, month, year):\n",
    "        self.day = day\n",
    "        self.month = month\n",
    "        self.year = year\n",
    "    \n",
    "    @classmethod\n",
    "    def from_str(cls, date_str):\n",
    "        day, month, year = map(int, date_str.split('.'))\n",
    "        return cls(day, month, year)"
   ]
  },
  {
   "cell_type": "code",
   "execution_count": null,
   "metadata": {},
   "outputs": [],
   "source": []
  },
  {
   "source": [
    "## Статические методы"
   ],
   "cell_type": "markdown",
   "metadata": {}
  },
  {
   "cell_type": "code",
   "execution_count": null,
   "metadata": {},
   "outputs": [],
   "source": [
    "class Date:\n",
    "    def __init__(self, day, month, year):\n",
    "        self.day = day\n",
    "        self.month = month\n",
    "        self.year = year\n",
    "    \n",
    "    @classmethod\n",
    "    def from_str(cls, date_str):\n",
    "        day, month, year = map(int, date_str.split('.'))\n",
    "        return cls(day, month, year)\n",
    "    \n",
    "    @staticmethod\n",
    "    def is_valid(date_str):\n",
    "        day, month, year = map(int, date_str.split('.'))\n",
    "        return 1 <= day <= 31 and 1 <= month <= 12 and 0 <= year <= 2038"
   ]
  },
  {
   "cell_type": "code",
   "execution_count": null,
   "metadata": {},
   "outputs": [],
   "source": []
  },
  {
   "source": [
    "## Связанные и несвязанные методы"
   ],
   "cell_type": "markdown",
   "metadata": {}
  },
  {
   "cell_type": "code",
   "execution_count": null,
   "metadata": {},
   "outputs": [],
   "source": []
  },
  {
   "source": [
    "# Полезные ссылки\n",
    "\n",
    "- [Difference between staticmethod and classmethod](https://stackoverflow.com/questions/136097/difference-between-staticmethod-and-classmethod)"
   ],
   "cell_type": "markdown",
   "metadata": {}
  }
 ]
}