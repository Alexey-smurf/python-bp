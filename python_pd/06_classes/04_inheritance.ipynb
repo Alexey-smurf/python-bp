{
 "metadata": {
  "language_info": {
   "codemirror_mode": {
    "name": "ipython",
    "version": 3
   },
   "file_extension": ".py",
   "mimetype": "text/x-python",
   "name": "python",
   "nbconvert_exporter": "python",
   "pygments_lexer": "ipython3",
   "version": "3.9.0"
  },
  "orig_nbformat": 2,
  "kernelspec": {
   "name": "python3",
   "display_name": "Python 3.9.0 64-bit ('.venv': venv)"
  },
  "interpreter": {
   "hash": "178cad48488a45b94c2e1acb3bfd8ec03d0e926b0801a270a439a0363b59c19a"
  }
 },
 "nbformat": 4,
 "nbformat_minor": 2,
 "cells": [
  {
   "cell_type": "markdown",
   "source": [
    "# Наследование\r\n",
    "\r\n",
    "Наследование это одна из концепций объектно-ориентированной парадигмы\r\n",
    "программирования (ООП), соласно которой тип данных может наследовать\r\n",
    "данные и функциональность некоторого существующего типа, способствуя\r\n",
    "повторному использованию компонентов программноо обеспечения.\r\n",
    "\r\n",
    "Существует два основных вида наследования: одиночное и множественное.\r\n",
    "Python поддерживает оба этих вида. Рассмотрим некоторые основные\r\n",
    "понятия в наследовании.\r\n",
    "\r\n",
    "Подклассом (дочерним классом, наследником) принято называть класс,\r\n",
    "определенный через наследование от другого класса.\r\n",
    "\r\n",
    "Класс, стоящий на вершине иерархии наследования, называют базовым\r\n",
    "классом. Иерархию наследования можно представить в виде дерева, у\r\n",
    "которого обычно один корневой узел, которым и является базов класс.\r\n",
    "\r\n",
    "В Python классы предки указываются в скобках сразу после имени класса\r\n",
    "в его определении. При этом сам класс становиться наследником своих\r\n",
    "предков. Рассмотрим простой пример наследвоания."
   ],
   "metadata": {}
  },
  {
   "cell_type": "code",
   "execution_count": 2,
   "source": [
    "class Figure:\r\n",
    "    \"\"\"Базовый класс фигуры\"\"\"\r\n",
    "    pass\r\n",
    "\r\n",
    "\r\n",
    "class Figure2D(Figure):\r\n",
    "    \"\"\"Двумерная фигура\"\"\"\r\n",
    "    pass\r\n",
    "\r\n",
    "\r\n",
    "class Figure3D(Figure):\r\n",
    "    \"\"\"Трехмерная фигура\"\"\"\r\n",
    "    pass\r\n",
    "\r\n",
    "\r\n",
    "class Rectangle(Figure2D):\r\n",
    "    \"\"\"Двумерный прямоугольник\"\"\"\r\n",
    "    pass"
   ],
   "outputs": [],
   "metadata": {}
  },
  {
   "cell_type": "markdown",
   "source": [
    "Приведенную иерархию фигур можно представить в виде графа, приведенного\r\n",
    "на рисунке.\r\n",
    "\r\n",
    "![Граф наследования](image/inh_graph.png)\r\n",
    "\r\n",
    "Здесь класс ```Figure``` выступает базовым классом, у которого два\r\n",
    "потомка - ```Figure2D``` и ```Figure3D```. У класса ```Figure2D```, в\r\n",
    "свою очеред, также есть потомок - класс ```Rectangle```. Кроме того\r\n",
    "```Figure2D``` и ```Figure3D``` являются подтипами ```Figure```, а\r\n",
    "```Rectangle``` подтипом ```Figure2D```. Если ```Figure2D``` подтип\r\n",
    "```Figure```, а ```Rectangle``` подтип ```Figure2D```, то\r\n",
    "```Rectangle``` также является подтипом ```Figure```. Для проверки\r\n",
    "этого в Python есть встроенная функция ```issubclass```, которая может\r\n",
    "проверять типы с учетом наследования. Также у классов есть специальный\r\n",
    "атрибут ```__bases__```, который сожержит кортеж классов-предков."
   ],
   "metadata": {}
  },
  {
   "cell_type": "code",
   "execution_count": 3,
   "source": [
    "print(f'{Figure.__bases__ = }')\r\n",
    "print(f'{Figure2D.__bases__ = }')\r\n",
    "print(f'{Figure3D.__bases__ = }')\r\n",
    "print(f'{Rectangle.__bases__ = }')"
   ],
   "outputs": [
    {
     "output_type": "stream",
     "name": "stdout",
     "text": [
      "Figure.__bases__ = (<class 'object'>,)\n",
      "Figure2D.__bases__ = (<class '__main__.Figure'>,)\n",
      "Figure3D.__bases__ = (<class '__main__.Figure'>,)\n",
      "Rectangle.__bases__ = (<class '__main__.Figure2D'>,)\n"
     ]
    }
   ],
   "metadata": {}
  },
  {
   "cell_type": "markdown",
   "source": [
    "Обратите внимание, что класс ```Figure```, как и все классы в Python, неявно наследуются от базового класса ```object```."
   ],
   "metadata": {}
  },
  {
   "cell_type": "code",
   "execution_count": 5,
   "source": [
    "print(f'{issubclass(Figure, object) = }')\r\n",
    "print(f'{issubclass(Figure2D, Figure) = }')\r\n",
    "print(f'{issubclass(Figure3D, Figure) = }')\r\n",
    "print(f'{issubclass(Rectangle, Figure2D) = }')\r\n",
    "print(f'{issubclass(Rectangle, Figure) = }')\r\n",
    "\r\n",
    "# Для проверки одного из вариантов можно использовать кортеж\r\n",
    "# issubclass(Rectangle, (Figure, Figure2D))"
   ],
   "outputs": [
    {
     "output_type": "stream",
     "name": "stdout",
     "text": [
      "True\n",
      "True\n",
      "True\n",
      "True\n",
      "True\n"
     ]
    }
   ],
   "metadata": {}
  },
  {
   "cell_type": "markdown",
   "source": [
    "В Python есть еще одна Функция для проверки типов непосредственно\r\n",
    "экземпляров - ```isinstance```. Она очень похожа на ```issubclass```.\r\n",
    "На самом деле она проверяет атрибут ```obj.__class__``` у объекта и\r\n",
    "сравнивает его со значением второго аргумента. ```isinstance``` в\r\n",
    "качестве первого аргумента принимает не класс как ```issubclass```, а\r\n",
    "экземпляр. Она также учитывает наследование"
   ],
   "metadata": {}
  },
  {
   "cell_type": "code",
   "execution_count": 6,
   "source": [
    "rectangle = Rectangle()\r\n",
    "\r\n",
    "print(f'{isinstance(rectangle, Rectangle) = }')\r\n",
    "print(f'{isinstance(rectangle, Figure) = }')"
   ],
   "outputs": [
    {
     "output_type": "stream",
     "name": "stdout",
     "text": [
      "isinstance(rectangle, Rectangle) = True\n",
      "isinstance(rectangle, Figure) = True\n"
     ]
    }
   ],
   "metadata": {}
  },
  {
   "cell_type": "markdown",
   "source": [
    "Здесь есть интересный момент. Класс явялется подклассом самого себя."
   ],
   "metadata": {}
  },
  {
   "cell_type": "code",
   "execution_count": 7,
   "source": [
    "print(f'{issubclass(Figure, Figure) = }')"
   ],
   "outputs": [
    {
     "output_type": "stream",
     "name": "stdout",
     "text": [
      "issubclass(Figure, Figure) = True\n"
     ]
    }
   ],
   "metadata": {}
  },
  {
   "cell_type": "markdown",
   "source": [
    "Сохранение базоывых классов необходимо для процесса поиска атрибутов.\r\n",
    "Поиск осуществляется рекурсивно снизу вверх по иерархии наследования,\r\n",
    "начиная с класса у которого был запрошен атрибут, затем у его базовых\r\n",
    "класов и т.д. Подробнее о поиске атрибутов и методов мы поговорим\r\n",
    "позднее."
   ],
   "metadata": {}
  },
  {
   "cell_type": "markdown",
   "source": [
    "## Перегрузка методов"
   ],
   "metadata": {}
  },
  {
   "cell_type": "markdown",
   "source": [
    "## Множественное наследование"
   ],
   "metadata": {}
  },
  {
   "cell_type": "markdown",
   "source": [
    "### Классы примеси (Mixin)"
   ],
   "metadata": {}
  },
  {
   "cell_type": "code",
   "execution_count": null,
   "source": [],
   "outputs": [],
   "metadata": {}
  },
  {
   "cell_type": "markdown",
   "source": [
    "## Ромбовидное наследование"
   ],
   "metadata": {}
  },
  {
   "cell_type": "markdown",
   "source": [
    "## Поиск атрибутов и алгоритм C3\r\n",
    " "
   ],
   "metadata": {}
  },
  {
   "cell_type": "markdown",
   "source": [
    "## Управление доступом (сокрытие)\r\n",
    " "
   ],
   "metadata": {}
  },
  {
   "cell_type": "code",
   "execution_count": null,
   "source": [],
   "outputs": [],
   "metadata": {}
  },
  {
   "cell_type": "code",
   "execution_count": null,
   "source": [],
   "outputs": [],
   "metadata": {}
  },
  {
   "cell_type": "markdown",
   "source": [
    "# Полезные ссылки\r\n",
    "\r\n",
    "https://habr.com/ru/post/62203/?_ga=2.155751928.297190955.1607074309-819628869.1524645598\r\n"
   ],
   "metadata": {}
  }
 ]
}