{
 "metadata": {
  "language_info": {
   "codemirror_mode": {
    "name": "ipython",
    "version": 3
   },
   "file_extension": ".py",
   "mimetype": "text/x-python",
   "name": "python",
   "nbconvert_exporter": "python",
   "pygments_lexer": "ipython3",
   "version": 3
  },
  "orig_nbformat": 2
 },
 "nbformat": 4,
 "nbformat_minor": 2,
 "cells": [
  {
   "source": [
    "# Генераторы"
   ],
   "cell_type": "markdown",
   "metadata": {}
  },
  {
   "source": [
    "## Генераторные выражения"
   ],
   "cell_type": "markdown",
   "metadata": {}
  },
  {
   "source": [
    "## Функции генераторы "
   ],
   "cell_type": "markdown",
   "metadata": {}
  },
  {
   "source": [
    "# Полезные ссылки\n",
    "\n",
    "- [Iterables vs. Iterators vs. Generators (статья с пояснением различий этих понятий)](https://nvie.com/posts/iterators-vs-generators/)"
   ],
   "cell_type": "markdown",
   "metadata": {}
  }
 ]
}