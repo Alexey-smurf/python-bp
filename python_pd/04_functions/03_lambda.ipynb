{
 "metadata": {
  "language_info": {
   "codemirror_mode": {
    "name": "ipython",
    "version": 3
   },
   "file_extension": ".py",
   "mimetype": "text/x-python",
   "name": "python",
   "nbconvert_exporter": "python",
   "pygments_lexer": "ipython3",
   "version": "3.9.0-final"
  },
  "orig_nbformat": 2,
  "kernelspec": {
   "name": "python3",
   "display_name": "Python 3"
  }
 },
 "nbformat": 4,
 "nbformat_minor": 2,
 "cells": [
  {
   "source": [
    "# Анонимные функции\n",
    "\n",
    "Анонимные или ```lambda``` функции это один из полезных элементов функционального программирования в Python. Их синтаксис довольно прост.\n",
    "\n",
    "```Python\n",
    "lambda [аргументы]: выражение\n",
    "```\n",
    "\n",
    "Основное отличие этих функций от обычных - отсутствие имен. При создании ```lambda``` функции она не связывается и именем и поэтому создавать ее \"просто так\" не имеет смысла. Отсутствие оператора ``` return``` является другим отличием от обычных функций. Телом анонимной функции выступает одно выражение, результат которого сразу возвращается. Не стоит использовать эти функции для выполнения сложных операций."
   ],
   "cell_type": "markdown",
   "metadata": {}
  },
  {
   "cell_type": "code",
   "execution_count": 9,
   "metadata": {},
   "outputs": [
    {
     "output_type": "execute_result",
     "data": {
      "text/plain": [
       "<function __main__.<lambda>(x, y)>"
      ]
     },
     "metadata": {},
     "execution_count": 9
    }
   ],
   "source": [
    "lambda x, y: x + y"
   ]
  },
  {
   "cell_type": "code",
   "execution_count": 2,
   "metadata": {},
   "outputs": [
    {
     "output_type": "execute_result",
     "data": {
      "text/plain": [
       "3"
      ]
     },
     "metadata": {},
     "execution_count": 2
    }
   ],
   "source": [
    "(lambda x, y: x + y)(1, 2)"
   ]
  },
  {
   "source": [
    "```lambda``` функции могут использовать все возможности аргументов в Python. \n",
    "\n",
    "Анонимные функции, как и обычные, можно связать с именем, которое затем использовать."
   ],
   "cell_type": "markdown",
   "metadata": {}
  },
  {
   "cell_type": "code",
   "execution_count": 1,
   "metadata": {},
   "outputs": [
    {
     "output_type": "stream",
     "name": "stdout",
     "text": [
      "foo = <function <lambda> at 0x0000018BBBA23820>\ntype(foo) = <class 'function'>\nfoo(1, 2) = 3\n"
     ]
    }
   ],
   "source": [
    "foo = lambda x, y: x + y\n",
    "print(f'{foo = }')\n",
    "print(f'{type(foo) = }')\n",
    "print(f'{foo(1, 2) = }')"
   ]
  },
  {
   "source": [
    "В большинстве случаев такие функции используются для однократного применения. В случаях, когда нужно создать функцию \"здесь и сейчас\" и которая будет не нужна в дальнейшем. Эти функции отлично подходят для передачи в другие функции в качестве аргумента."
   ],
   "cell_type": "markdown",
   "metadata": {}
  },
  {
   "cell_type": "code",
   "execution_count": 7,
   "metadata": {},
   "outputs": [
    {
     "output_type": "stream",
     "name": "stdout",
     "text": [
      "foo(1, 2, lambda x, y: x ** y) = 1\nfoo(1, 2, lambda x, y: x + y) = 3\nfoo(1, 2, lambda x, y: x - y) = -1\n"
     ]
    }
   ],
   "source": [
    "def foo(a, b, op=None):\n",
    "    if op is None:\n",
    "        return a + b\n",
    "    return op(a, b)\n",
    "\n",
    "print(f'{foo(1, 2, lambda x, y: x ** y) = }')\n",
    "print(f'{foo(1, 2, lambda x, y: x + y) = }')\n",
    "print(f'{foo(1, 2, lambda x, y: x - y) = }')"
   ]
  },
  {
   "source": [
    "Для приведенного выше пример лучше использовать модуль ```operator```, который реализует все доступные операторы в Python."
   ],
   "cell_type": "markdown",
   "metadata": {}
  },
  {
   "cell_type": "code",
   "execution_count": 8,
   "metadata": {},
   "outputs": [
    {
     "output_type": "stream",
     "name": "stdout",
     "text": [
      "foo(1, 2, operator.pow) = 1\nfoo(1, 2, operator.add) = 3\nfoo(1, 2, operator.sub) = -1\n"
     ]
    }
   ],
   "source": [
    "import operator\n",
    "\n",
    "print(f'{foo(1, 2, operator.pow) = }')\n",
    "print(f'{foo(1, 2, operator.add) = }')\n",
    "print(f'{foo(1, 2, operator.sub) = }')"
   ]
  },
  {
   "source": [
    "Еще одним применением анонимных функций можно выделить использование для произвольной сортировки коллекций с помощью аргумента ```key``` функции ```sorted``` или метода ```sort```."
   ],
   "cell_type": "markdown",
   "metadata": {}
  },
  {
   "cell_type": "code",
   "execution_count": 5,
   "metadata": {},
   "outputs": [
    {
     "output_type": "stream",
     "name": "stdout",
     "text": [
      "ys = [8, 5, 4, 4, 3, 1, 0, -1]\nzs = [0, 4, 4, 8, -1, 1, 3, 5]\n"
     ]
    }
   ],
   "source": [
    "xs = [1, 4, 0, -1, 3, 4, 5, 8]\n",
    "\n",
    "# сортировка в обратном порядке\n",
    "# лучше использовать аргумент reverse=True\n",
    "ys = sorted(xs, key=lambda x: -x)\n",
    "\n",
    "# сортировка списка в пордяке: сначала четные по неубыванию, \n",
    "# затем нечетные по неубыванию\n",
    "zs = sorted(xs, key=lambda x: (x % 2, x))\n",
    "\n",
    "print(f'{ys = }')\n",
    "print(f'{zs = }')"
   ]
  },
  {
   "source": [
    "В Python есть и другие элементы функционального программирования:\n",
    "- ```map``` - применение функции к каждому элементу коллекции;\n",
    "- ```zip``` - поэлементное объединение коллекций;\n",
    "- ```filter``` - фильтрация коллекции.\n",
    "\n",
    "Все эти функции возвращают итераторы, лениво вычисляющие следующие значения."
   ],
   "cell_type": "markdown",
   "metadata": {}
  },
  {
   "cell_type": "code",
   "execution_count": 10,
   "metadata": {},
   "outputs": [
    {
     "output_type": "stream",
     "name": "stdout",
     "text": [
      "digits = <map object at 0x0000018BBBE7F100>\ntype(digits) = <class 'map'>\nlist(digits) = [1, 9, 6]\n"
     ]
    }
   ],
   "source": [
    "s = '196'\n",
    "\n",
    "# преобразование строки с числом в набор цифр\n",
    "digits = map(int, s)\n",
    "print(f'{digits = }')\n",
    "print(f'{type(digits) = }')\n",
    "print(f'{list(digits) = }')"
   ]
  },
  {
   "cell_type": "code",
   "execution_count": 12,
   "metadata": {},
   "outputs": [
    {
     "output_type": "stream",
     "name": "stdout",
     "text": [
      "foo = <zip object at 0x0000018BBBE77F00>\ntype(foo) = <class 'zip'>\nlist(foo) = [(1, 'a'), (2, 'b'), (3, 's'), (4, 'd')]\n"
     ]
    }
   ],
   "source": [
    "xs = [1, 2, 3, 4]\n",
    "ys = 'absd'\n",
    "\n",
    "# объединение нескольких коллекций\n",
    "foo = zip(xs, ys)\n",
    "\n",
    "print(f'{foo = }')\n",
    "print(f'{type(foo) = }')\n",
    "print(f'{list(foo) = }')"
   ]
  },
  {
   "cell_type": "code",
   "execution_count": 13,
   "metadata": {},
   "outputs": [
    {
     "output_type": "stream",
     "name": "stdout",
     "text": [
      "positive = <filter object at 0x0000018BBB7C01C0>\ntype(positive) = <class 'filter'>\nlist(positive) = [1, 4, 3, 4, 5, 8]\n"
     ]
    }
   ],
   "source": [
    "xs = [1, 4, 0, -1, 3, 4, 5, 8]\n",
    "\n",
    "# выбор только положительных чисел из списка\n",
    "positive = filter(lambda x: x > 0, xs)\n",
    "\n",
    "print(f'{positive = }')\n",
    "print(f'{type(positive) = }')\n",
    "print(f'{list(positive) = }')"
   ]
  },
  {
   "cell_type": "code",
   "execution_count": null,
   "metadata": {},
   "outputs": [],
   "source": []
  }
 ]
}