{
 "metadata": {
  "language_info": {
   "codemirror_mode": {
    "name": "ipython",
    "version": 3
   },
   "file_extension": ".py",
   "mimetype": "text/x-python",
   "name": "python",
   "nbconvert_exporter": "python",
   "pygments_lexer": "ipython3",
   "version": 3
  },
  "orig_nbformat": 2
 },
 "nbformat": 4,
 "nbformat_minor": 2,
 "cells": [
  {
   "source": [
    "# Аргументы функций"
   ],
   "cell_type": "markdown",
   "metadata": {}
  },
  {
   "source": [
    "## Позиционные аргументы"
   ],
   "cell_type": "markdown",
   "metadata": {}
  },
  {
   "source": [
    "## Ключевые аргументы"
   ],
   "cell_type": "markdown",
   "metadata": {}
  },
  {
   "source": [
    "## Обязательные и необязательные аргументы"
   ],
   "cell_type": "markdown",
   "metadata": {}
  },
  {
   "source": [
    "## Произвольное количество аргументов (упаковка и распаковка аргументов)"
   ],
   "cell_type": "markdown",
   "metadata": {}
  },
  {
   "source": [
    "аргументы:\n",
    "- обязательные и необязательные\n",
    "- позиционные и ключевые"
   ],
   "cell_type": "markdown",
   "metadata": {}
  },
  {
   "cell_type": "code",
   "execution_count": null,
   "metadata": {},
   "outputs": [],
   "source": [
    "def foo(a, b, c):\n",
    "    print(f'{a = }, {b = }, {c = }')\n",
    "\n",
    "foo(1, 2, 3)\n",
    "foo(a=1, b=2, c=3)\n",
    "foo(c=1, a=2, b=3)\n",
    "foo(1, 2, c=3)\n",
    "\n",
    "foo(a=1, b=2, 3)\n",
    "foo(1, a=2, c=3)"
   ]
  },
  {
   "cell_type": "code",
   "execution_count": null,
   "metadata": {},
   "outputs": [],
   "source": []
  },
  {
   "cell_type": "code",
   "execution_count": null,
   "metadata": {},
   "outputs": [],
   "source": [
    "def foo(a=1, b=2, /):\n",
    "    print(f'{a = }, {b = }')"
   ]
  },
  {
   "cell_type": "code",
   "execution_count": null,
   "metadata": {},
   "outputs": [],
   "source": []
  }
 ]
}