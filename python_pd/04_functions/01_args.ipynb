{
 "metadata": {
  "language_info": {
   "codemirror_mode": {
    "name": "ipython",
    "version": 3
   },
   "file_extension": ".py",
   "mimetype": "text/x-python",
   "name": "python",
   "nbconvert_exporter": "python",
   "pygments_lexer": "ipython3",
   "version": "3.9.0-final"
  },
  "orig_nbformat": 2,
  "kernelspec": {
   "name": "python3",
   "display_name": "Python 3"
  }
 },
 "nbformat": 4,
 "nbformat_minor": 2,
 "cells": [
  {
   "source": [
    "# Аргументы функций"
   ],
   "cell_type": "markdown",
   "metadata": {}
  },
  {
   "source": [
    "## Позиционные аргументы"
   ],
   "cell_type": "markdown",
   "metadata": {}
  },
  {
   "cell_type": "code",
   "execution_count": 4,
   "metadata": {},
   "outputs": [],
   "source": [
    "def foo(a, b, c):\n",
    "    print(f'{a = }, {b = }, {c = }')"
   ]
  },
  {
   "cell_type": "code",
   "execution_count": 6,
   "metadata": {},
   "outputs": [
    {
     "output_type": "stream",
     "name": "stdout",
     "text": [
      "a = 1, b = 2, c = 3\na = 1, b = 2, c = 3\na = 2, b = 3, c = 1\na = 1, b = 2, c = 3\n"
     ]
    }
   ],
   "source": [
    "foo(1, 2, 3)\n",
    "foo(a=1, b=2, c=3)\n",
    "foo(c=1, a=2, b=3)\n",
    "foo(1, 2, c=3)"
   ]
  },
  {
   "cell_type": "code",
   "execution_count": 14,
   "metadata": {},
   "outputs": [
    {
     "output_type": "error",
     "ename": "SyntaxError",
     "evalue": "positional argument follows keyword argument (<ipython-input-14-047a1339f4ed>, line 2)",
     "traceback": [
      "\u001b[1;36m  File \u001b[1;32m\"<ipython-input-14-047a1339f4ed>\"\u001b[1;36m, line \u001b[1;32m2\u001b[0m\n\u001b[1;33m    foo(a=1, b=2, 3)\u001b[0m\n\u001b[1;37m                   ^\u001b[0m\n\u001b[1;31mSyntaxError\u001b[0m\u001b[1;31m:\u001b[0m positional argument follows keyword argument\n"
     ]
    }
   ],
   "source": [
    "foo(1, a=2, c=3)\n",
    "foo(a=1, b=2, 3)"
   ]
  },
  {
   "source": [
    "## Ключевые аргументы"
   ],
   "cell_type": "markdown",
   "metadata": {}
  },
  {
   "cell_type": "code",
   "execution_count": 2,
   "metadata": {},
   "outputs": [],
   "source": [
    "def foo(a, b=1, c=196):\n",
    "    print(f'{a = }, {b = }, {c = }')"
   ]
  },
  {
   "cell_type": "code",
   "execution_count": 4,
   "metadata": {},
   "outputs": [
    {
     "output_type": "stream",
     "name": "stdout",
     "text": [
      "a = 1, b = 2, c = 3\na = 2, b = 2, c = 3\na = 3, b = 3, c = 1\na = 4, b = 1, c = 196\na = 5, b = 42, c = 196\na = 6, b = 1, c = 42\n"
     ]
    }
   ],
   "source": [
    "foo(1, 2, 3)\n",
    "foo(a=2, b=2, c=3)\n",
    "foo(c=1, a=3, b=3)\n",
    "foo(4)\n",
    "foo(5, b=42)\n",
    "foo(6, c=42)"
   ]
  },
  {
   "source": [
    "## Обязательные и необязательные аргументы"
   ],
   "cell_type": "markdown",
   "metadata": {}
  },
  {
   "cell_type": "code",
   "execution_count": 15,
   "metadata": {},
   "outputs": [],
   "source": [
    "def foo(a, b, c, d, /):  # только позиционные аргументы\n",
    "    print(f'{a = }, {b = }, {c = }, {d = }')"
   ]
  },
  {
   "cell_type": "code",
   "execution_count": 5,
   "metadata": {},
   "outputs": [],
   "source": [
    "def foo(a, b, /, c, d):  # аргументы после /\n",
    "    print(f'{a = }, {b = }, {c = }, {d = }')"
   ]
  },
  {
   "cell_type": "code",
   "execution_count": 16,
   "metadata": {},
   "outputs": [],
   "source": [
    "def foo(a, b, *, c, d):  # только обязательные ключевые аргументы\n",
    "    print(f'{a = }, {b = }, {c = }, {d = }')"
   ]
  },
  {
   "cell_type": "code",
   "execution_count": 17,
   "metadata": {},
   "outputs": [],
   "source": [
    "def foo(*, a, b, c, d):  # все обязательные ключевые аргументы\n",
    "    print(f'{a = }, {b = }, {c = }, {d = }')"
   ]
  },
  {
   "cell_type": "code",
   "execution_count": 18,
   "metadata": {},
   "outputs": [],
   "source": [
    "def foo(a, b, /, *, c, d):  # совместное использование / и *\n",
    "    print(f'{a = }, {b = }, {c = }, {d = }')"
   ]
  },
  {
   "cell_type": "code",
   "execution_count": 19,
   "metadata": {},
   "outputs": [],
   "source": [
    "def foo(a, b, /, c, *, d):  # аргументы между / и *\n",
    "    print(f'{a = }, {b = }, {c = }, {d = }')"
   ]
  },
  {
   "cell_type": "code",
   "execution_count": 7,
   "metadata": {},
   "outputs": [],
   "source": [
    "def foo(a, b, c=42, d=6174, /):  # необязательные позиционные аргументы (1)\n",
    "    print(f'{a = }, {b = }, {c = }, {d = }')"
   ]
  },
  {
   "cell_type": "code",
   "execution_count": 13,
   "metadata": {},
   "outputs": [
    {
     "output_type": "error",
     "ename": "SyntaxError",
     "evalue": "non-default argument follows default argument (<ipython-input-13-f2ab8772fc1f>, line 1)",
     "traceback": [
      "\u001b[1;36m  File \u001b[1;32m\"<ipython-input-13-f2ab8772fc1f>\"\u001b[1;36m, line \u001b[1;32m1\u001b[0m\n\u001b[1;33m    def foo(a=0, b=1, /, c, d):  # неправильно\u001b[0m\n\u001b[1;37m                            ^\u001b[0m\n\u001b[1;31mSyntaxError\u001b[0m\u001b[1;31m:\u001b[0m non-default argument follows default argument\n"
     ]
    }
   ],
   "source": [
    "def foo(a=0, b=1, /, c, d):  # неправильно\n",
    "    print(f'{a = }, {b = }, {c = }, {d = }')"
   ]
  },
  {
   "cell_type": "code",
   "execution_count": 20,
   "metadata": {},
   "outputs": [],
   "source": [
    "def foo(a, b, *, c=1, d=2):  # необязательные ключевые аргументы\n",
    "    print(f'{a = }, {b = }, {c = }, {d = }')"
   ]
  },
  {
   "source": [
    "## Произвольное количество аргументов (упаковка и распаковка аргументов)"
   ],
   "cell_type": "markdown",
   "metadata": {}
  },
  {
   "cell_type": "code",
   "execution_count": 21,
   "metadata": {},
   "outputs": [],
   "source": [
    "def foo(*args):\n",
    "    print(f'{args = }')"
   ]
  },
  {
   "cell_type": "code",
   "execution_count": 22,
   "metadata": {},
   "outputs": [],
   "source": [
    "def bar(a, *args):\n",
    "    print(f'{args = }')"
   ]
  },
  {
   "cell_type": "code",
   "execution_count": 8,
   "metadata": {},
   "outputs": [],
   "source": [
    "def baz(a, *args, c, d):\n",
    "    print(f'{args = }')"
   ]
  },
  {
   "cell_type": "code",
   "execution_count": 23,
   "metadata": {},
   "outputs": [],
   "source": [
    "def quz(a, *args, c, d=1):\n",
    "    print(f'{args = }')"
   ]
  },
  {
   "cell_type": "code",
   "execution_count": 24,
   "metadata": {},
   "outputs": [],
   "source": [
    "def foo(**kwargs):\n",
    "    print(f'{kwargs = }')"
   ]
  },
  {
   "cell_type": "code",
   "execution_count": 12,
   "metadata": {},
   "outputs": [],
   "source": [
    "def bar(a, b, c=1, d=2, **kwargs):\n",
    "    print(f'{kwargs = }')"
   ]
  },
  {
   "cell_type": "code",
   "execution_count": 11,
   "metadata": {},
   "outputs": [
    {
     "output_type": "error",
     "ename": "SyntaxError",
     "evalue": "invalid syntax (<ipython-input-11-93078ff22f37>, line 1)",
     "traceback": [
      "\u001b[1;36m  File \u001b[1;32m\"<ipython-input-11-93078ff22f37>\"\u001b[1;36m, line \u001b[1;32m1\u001b[0m\n\u001b[1;33m    def bar(**kwargs, a=0):\u001b[0m\n\u001b[1;37m                      ^\u001b[0m\n\u001b[1;31mSyntaxError\u001b[0m\u001b[1;31m:\u001b[0m invalid syntax\n"
     ]
    }
   ],
   "source": [
    "def baz(**kwargs, a=0):\n",
    "    print(f'{kwargs = }')"
   ]
  },
  {
   "cell_type": "code",
   "execution_count": 25,
   "metadata": {},
   "outputs": [],
   "source": [
    "def quz(*args, **kwargs):\n",
    "    print(f'{args = }\\n{kwargs = }')"
   ]
  },
  {
   "cell_type": "code",
   "execution_count": 26,
   "metadata": {},
   "outputs": [],
   "source": [
    "def quuz(a, b, *args, c, d=0, **kwargs):\n",
    "    print(f'{a = }, {b = }, {c = }, {d = }\\n{args = }\\n{kwargs = }')"
   ]
  },
  {
   "cell_type": "code",
   "execution_count": null,
   "metadata": {},
   "outputs": [],
   "source": []
  }
 ]
}