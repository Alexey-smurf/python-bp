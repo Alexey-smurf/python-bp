{
 "metadata": {
  "language_info": {
   "codemirror_mode": {
    "name": "ipython",
    "version": 3
   },
   "file_extension": ".py",
   "mimetype": "text/x-python",
   "name": "python",
   "nbconvert_exporter": "python",
   "pygments_lexer": "ipython3",
   "version": "3.9.0-final"
  },
  "orig_nbformat": 2,
  "kernelspec": {
   "name": "python3",
   "display_name": "Python 3"
  }
 },
 "nbformat": 4,
 "nbformat_minor": 2,
 "cells": [
  {
   "source": [
    "# Декораторы\n",
    "\n",
    "Декоратор это функция, которая в качестве одного из аргументов принимает объект и что-то возвращает. Декораторы в Python можно применять ко всему: функциям, классам и методам. Основная цель декораторов – изменить поведение объекта, не меняя сам объект. Это очень гибкая функциональная возможность языка.\n",
    "\n",
    "Декорирование функций происходит с помощью следующего синтаксиса\n",
    "\n",
    "```Python\n",
    "@decorator\n",
    "def function():\n",
    "    ...\n",
    "```\n",
    "\n",
    "Такая запись будет аналогично следующему определению:\n",
    "\n",
    "```Python\n",
    "def function():\n",
    "    ...\n",
    "\n",
    "function = decorator(function)\n",
    "```\n",
    "\n",
    "В этом случае результат выполнения функции ```decorator``` записывается обратно по имени ```function```.\n",
    "\n",
    "С помощью декораторов можно, например, измерять время выполнения функций, контролировать количество вызовов, кеширование, вывод предупреждений об использовании устаревших функций, трассировка, использование в контрактном программировании.\n",
    "\n",
    "Рассмотрим пример измерения времени выполнения кода функции."
   ],
   "cell_type": "markdown",
   "metadata": {}
  },
  {
   "cell_type": "code",
   "execution_count": 6,
   "metadata": {},
   "outputs": [
    {
     "output_type": "stream",
     "name": "stdout",
     "text": [
      "0.0019989013671875 seconds\n"
     ]
    }
   ],
   "source": [
    "import time\n",
    "\n",
    "def timeit(f):\n",
    "    def inner(*args, **kwargs):\n",
    "        start = time.time()\n",
    "        res = f(*args, **kwargs)\n",
    "        end = time.time()\n",
    "        print(f'{end - start} seconds')\n",
    "        return res\n",
    "    return inner\n",
    "\n",
    "\n",
    "@timeit\n",
    "def my_sum(*args, **kwargs):\n",
    "    \"\"\"Функция суммы\"\"\"\n",
    "    return sum(*args, **kwargs)\n",
    "\n",
    "\n",
    "res = my_sum([i for i in range(int(1e5))])"
   ]
  },
  {
   "source": [
    "В такой реализации есть несколько проблем:\n",
    "- нет возможности отключить трассировку;\n",
    "- вывод в стандартный поток вывода (```sys.stdout```);\n",
    "- пропала строка документации и атрибуты декорируемой функции."
   ],
   "cell_type": "markdown",
   "metadata": {}
  },
  {
   "cell_type": "code",
   "execution_count": 10,
   "metadata": {},
   "outputs": [
    {
     "output_type": "stream",
     "name": "stdout",
     "text": [
      "my_sum.__name__ = 'inner'\nmy_sum.__doc__ = None\nHelp on function inner in module __main__:\n\ninner(*args, **kwargs)\n\n"
     ]
    }
   ],
   "source": [
    "print(f'{my_sum.__name__ = }')\n",
    "print(f'{my_sum.__doc__ = }')\n",
    "help(my_sum)"
   ]
  },
  {
   "source": [
    "Так как в Python функции являются объектами, то их можно изменять во время выполнения. В этом кроется решение этой проблемы. Можно скопировать нужные атрибуты декорируемой функции.\n",
    "\n",
    "Чтобы не копировать каждый атрибут вручную существует готовая реализация этого функционала в модуле ```functools``` стандартной библиотеки."
   ],
   "cell_type": "markdown",
   "metadata": {}
  },
  {
   "cell_type": "code",
   "execution_count": 11,
   "metadata": {},
   "outputs": [
    {
     "output_type": "stream",
     "name": "stdout",
     "text": [
      "my_sum.__name__ = 'my_sum'\nmy_sum.__doc__ = 'Функция суммы'\nHelp on function my_sum in module __main__:\n\nmy_sum(*args, **kwargs)\n    Функция суммы\n\n"
     ]
    }
   ],
   "source": [
    "from functools import wraps\n",
    "\n",
    "def timeit(f):\n",
    "    @wraps(f)\n",
    "    def inner(*args, **kwargs):\n",
    "        start = time.time()\n",
    "        res = f(*args, **kwargs)\n",
    "        end = time.time()\n",
    "        print(f'{end - start} seconds')\n",
    "        return res\n",
    "    return inner\n",
    "\n",
    "\n",
    "@timeit\n",
    "def my_sum(*args, **kwargs):\n",
    "    \"\"\"Функция суммы\"\"\"\n",
    "    return sum(*args, **kwargs)\n",
    "\n",
    "\n",
    "print(f'{my_sum.__name__ = }')\n",
    "print(f'{my_sum.__doc__ = }')\n",
    "help(my_sum)"
   ]
  },
  {
   "source": [
    "# Параметризованные декораторы\n",
    "\n",
    "У реализованного нами декоратора сильно ограниченное применения, попробуем его расширить.\n",
    "\n",
    "Отключение декоратора можно реализовать, используя глобальную переменную, например, ```dec_enabled```, принимающую значение ```True```, если декоратор активен и ```False``` в противном случае.\n",
    "\n",
    "Возможность вывода не только в стандартный поток (```sys.stdout```), но и в поток ошибок (```sys.stderr```) или файл можно с помощью передачи аргументов. Добавление аргументов к декораторам немного усложняет задачу.\n",
    "\n",
    "```python\n",
    "@decorator(arg)\n",
    "def foo():\n",
    "    ...\n",
    "```\n",
    "\n",
    "В этом случае добавляется дополнительный этап, а именно вычисление декоратора.\n",
    "\n",
    "```python\n",
    "def foo():\n",
    "    ...\n",
    "\n",
    "dec = decorator(x)  # новый этап\n",
    "foo = dec(foo)\n",
    "```\n",
    "\n",
    "Решить проблему передачи аргументов можно несколькими способами. Первый из них, и не самый лучший заключается в добавлении еще одной вложенной функции."
   ],
   "cell_type": "markdown",
   "metadata": {}
  },
  {
   "cell_type": "code",
   "execution_count": 14,
   "metadata": {},
   "outputs": [
    {
     "output_type": "stream",
     "name": "stdout",
     "text": [
      "4999950000\n",
      "0.0009996891021728516 seconds\n"
     ]
    }
   ],
   "source": [
    "import sys\n",
    "\n",
    "dec_enabled = True\n",
    "\n",
    "def timeit(file):\n",
    "    def dec(func):\n",
    "        @wraps(func)\n",
    "        def inner(*args, **kwargs):\n",
    "            start = time.time()\n",
    "            res = func(*args, **kwargs)\n",
    "            end = time.time()\n",
    "            print(f'{end - start} seconds', file=file)\n",
    "            return res\n",
    "        return inner if dec_enabled else func\n",
    "    return dec\n",
    "\n",
    "@timeit(sys.stderr)\n",
    "def my_sum(*args, **kwargs):\n",
    "    \"\"\"Функция суммы\"\"\"\n",
    "    return sum(*args, **kwargs)\n",
    "\n",
    "res = my_sum([i for i in range(int(1e5))])\n",
    "print(res)"
   ]
  },
  {
   "source": [
    "Такой вариант будет работать при декорировании следующим образом ```@timeit(sys.stderr)```. Однако постоянно писать декораторы с тройной вложенностью это не путь питониста. Можно один раз сделать декоратор для декоратора, позволяющий передавать аргументы (да, декоратор для декоратора)."
   ],
   "cell_type": "markdown",
   "metadata": {}
  },
  {
   "cell_type": "code",
   "execution_count": 22,
   "metadata": {},
   "outputs": [],
   "source": [
    "from functools import update_wrapper\n",
    "\n",
    "def with_args(dec):\n",
    "    @wraps(dec)\n",
    "    def wrapper(*args, **kwargs):\n",
    "        def decorator(func):\n",
    "            res = dec(func, *args, **kwargs)\n",
    "            update_wrapper(res, func)\n",
    "            return res\n",
    "        return decorator\n",
    "    return wrapper"
   ]
  },
  {
   "source": [
    "Функция ```with_args``` принимает декоратор, оборачивает его в обертку ```wrapper```, внутри которой происходит создание нового декоратора. Исходный декоратор при этом не изменяется."
   ],
   "cell_type": "markdown",
   "metadata": {}
  },
  {
   "cell_type": "code",
   "execution_count": 23,
   "metadata": {},
   "outputs": [
    {
     "output_type": "stream",
     "name": "stdout",
     "text": [
      "4999950000\n",
      "0.001997709274291992 seconds\n"
     ]
    }
   ],
   "source": [
    "dec_enabled = True\n",
    "\n",
    "@with_args\n",
    "def timeit(func, file):\n",
    "    def inner(*args, **kwargs):\n",
    "        start = time.time()\n",
    "        res = func(*args, **kwargs)\n",
    "        end = time.time()\n",
    "        print(f'{end - start} seconds', file=file)\n",
    "        return res\n",
    "    return inner if dec_enabled else func\n",
    "\n",
    "@timeit(sys.stderr)\n",
    "def my_sum(*args, **kwargs):\n",
    "    \"\"\"Функция суммы\"\"\"\n",
    "    return sum(*args, **kwargs)\n",
    "\n",
    "res = my_sum([i for i in range(int(1e5))])\n",
    "print(res)"
   ]
  },
  {
   "source": [
    "Однако это все еще слишком сложно. Гораздо удобнее добавить возможность вызывать декоратор без аргументов. Попробуем воспользоваться только ключевыми аргументами."
   ],
   "cell_type": "markdown",
   "metadata": {}
  },
  {
   "cell_type": "code",
   "execution_count": 28,
   "metadata": {},
   "outputs": [],
   "source": [
    "dec_enabled = True\n",
    "\n",
    "def timeit(func=None, *, file=sys.stderr):\n",
    "    if func is None:\n",
    "        def dec(func):\n",
    "            return timeit(func, file=file)\n",
    "        return dec if dec_enabled else func\n",
    "    @wraps(func)\n",
    "    def inner(*args, **kwargs):\n",
    "        start = time.time()\n",
    "        res = func(*args, **kwargs)\n",
    "        end = time.time()\n",
    "        print(f'{end - start} seconds', file=file)\n",
    "        return res\n",
    "    return inner if dec_enabled else func"
   ]
  },
  {
   "source": [
    "Теперь декоратор ```timeit``` можно вызывать двумя способами. Во-первых, не передавая никаких аргументов. Тогда вывод будет осуществляться в стандартный поток вывода. При этом помня, что декоратор раскрывается как ```f = timeit(f)```, можно видеть, что аргумент ```func``` принимает значение функции ```f```. Тогда первое условие не будет выполнено, а будет создана обертка ```inner```."
   ],
   "cell_type": "markdown",
   "metadata": {}
  },
  {
   "cell_type": "code",
   "execution_count": 29,
   "metadata": {},
   "outputs": [
    {
     "output_type": "stream",
     "name": "stdout",
     "text": [
      "4999950000\n",
      "0.0009999275207519531 seconds\n"
     ]
    }
   ],
   "source": [
    "dec_enabled = True\n",
    "\n",
    "@timeit\n",
    "def my_sum(*args, **kwargs):\n",
    "    \"\"\"Функция суммы\"\"\"\n",
    "    return sum(*args, **kwargs)\n",
    "\n",
    "res = my_sum([i for i in range(int(1e5))])\n",
    "print(res)"
   ]
  },
  {
   "source": [
    "Во-вторых, передавая в качестве именованного аргумента ```file``` ```sys.stderr``` или имя файла. В этом случае происходит явный вызов декоратора ```timeit(file=sys.stderr)``` без передачи аргумента ```func```, в связи с этим он принимает значение ```None```, а значит, выполняется первое условие и создается обертка ```dec```."
   ],
   "cell_type": "markdown",
   "metadata": {}
  },
  {
   "cell_type": "code",
   "execution_count": 31,
   "metadata": {},
   "outputs": [
    {
     "output_type": "stream",
     "name": "stdout",
     "text": [
      "4999950000\n",
      "0.000997304916381836 seconds\n"
     ]
    }
   ],
   "source": [
    "dec_enabled = True\n",
    "\n",
    "@timeit(file=sys.stderr)\n",
    "def my_sum(*args, **kwargs):\n",
    "    \"\"\"Функция суммы\"\"\"\n",
    "    return sum(*args, **kwargs)\n",
    "\n",
    "res = my_sum([i for i in range(int(1e5))])\n",
    "print(res)"
   ]
  },
  {
   "source": [
    "Благодаря переменной ```dec_enabled``` измерение времени можно отключить. В этом случае никаких накладных расходов, связанных с вызовом дополнительных функций не будет.\n",
    "\n",
    "К одной функции можно применить сразу несколько декораторов, порядок их работы будет зависеть от порядка их применения к функции. Рассмотрим на примере гамбургера."
   ],
   "cell_type": "markdown",
   "metadata": {}
  },
  {
   "cell_type": "code",
   "execution_count": 33,
   "metadata": {},
   "outputs": [],
   "source": [
    "def with_bun(f):\n",
    "    @wraps(f)\n",
    "    def inner():\n",
    "        print('-' * 8)\n",
    "        f()\n",
    "        print('-' * 8)\n",
    "    return inner\n",
    "\n",
    "def with_vegetables(f):\n",
    "    @wraps(f)\n",
    "    def inner():\n",
    "        print(' onion')\n",
    "        f()\n",
    "        print(' tomato')\n",
    "    return inner\n",
    "\n",
    "def with_sauce(f):\n",
    "    @wraps(f)\n",
    "    def inner():\n",
    "        print(' sauce')\n",
    "        f()\n",
    "    return inner"
   ]
  },
  {
   "source": [
    "Определим основную функцию и задекорируем ее."
   ],
   "cell_type": "markdown",
   "metadata": {}
  },
  {
   "cell_type": "code",
   "execution_count": 35,
   "metadata": {},
   "outputs": [
    {
     "output_type": "stream",
     "name": "stdout",
     "text": [
      "--------\n onion\n sauce\n cutlet\n tomato\n--------\n"
     ]
    }
   ],
   "source": [
    "@with_bun\n",
    "@with_vegetables\n",
    "@with_sauce\n",
    "def burger():\n",
    "    print(' cutlet')\n",
    "\n",
    "burger()"
   ]
  },
  {
   "source": [
    "Если явно такое декорирование, то получиться следующая последовательность вызовов:"
   ],
   "cell_type": "markdown",
   "metadata": {}
  },
  {
   "cell_type": "code",
   "execution_count": 37,
   "metadata": {},
   "outputs": [
    {
     "output_type": "stream",
     "name": "stdout",
     "text": [
      "--------\n onion\n sauce\n cutlet\n tomato\n--------\n"
     ]
    }
   ],
   "source": [
    "def burger():\n",
    "    print(' cutlet')\n",
    "\n",
    "burger = with_sauce(burger)\n",
    "burger = with_vegetables(burger)\n",
    "burger = with_bun(burger)\n",
    "\n",
    "burger()"
   ]
  },
  {
   "source": [
    "Первым будет применяться самый нижний (внутренний) декоратор. Если изменить последовательность декорирования, то результат ожидаемо измениться.\n",
    "\n",
    "Вот еще пару примеров декораторов. Декоратор трассировки вызовов функций:"
   ],
   "cell_type": "markdown",
   "metadata": {}
  },
  {
   "cell_type": "code",
   "execution_count": 40,
   "metadata": {},
   "outputs": [
    {
     "output_type": "stream",
     "name": "stdout",
     "text": [
      "foo, (), {}\nNothing\n"
     ]
    }
   ],
   "source": [
    "def trace(function=None, *, file=sys.stderr):\n",
    "    if function is None:\n",
    "        def dec(function):\n",
    "            return trace(function, file=file)\n",
    "        return dec if dec_enabled else function\n",
    "    \n",
    "    @wraps(function)\n",
    "    def inner(*args, **kwargs):\n",
    "        print(f'{function.__name__}, {args}, {kwargs}')\n",
    "        return function(*args, **kwargs)\n",
    "    return inner if dec_enabled else function\n",
    "\n",
    "@trace\n",
    "def foo():\n",
    "    print('Nothing')\n",
    "\n",
    "foo()"
   ]
  },
  {
   "source": [
    "Декоратор проверки входа пользователя в систему (в упрощенном виде). "
   ],
   "cell_type": "markdown",
   "metadata": {}
  },
  {
   "cell_type": "code",
   "execution_count": 45,
   "metadata": {},
   "outputs": [
    {
     "output_type": "stream",
     "name": "stdout",
     "text": [
      "user = 'monty'\nuser = 'guido'\nПользователь pyuty перенаправлен на страницу логина: localhost/login\n"
     ]
    }
   ],
   "source": [
    "def is_authenticated(user):\n",
    "    return user in ('monty', 'guido')\n",
    "\n",
    "def login_required(function=None, login_url=''):\n",
    "    def user_passes_test(view_func):\n",
    "        @wraps(view_func)\n",
    "        def wrapped(user, *args, **kwargs):\n",
    "            if is_authenticated(user):\n",
    "                return view_func(user, *args, **kwargs)\n",
    "            print(f'Пользователь {user} перенаправлен на страницу логина: {login_url}')\n",
    "        return wrapped\n",
    "\n",
    "    if function:\n",
    "        return user_passes_test(function)\n",
    "    return user_passes_test\n",
    "\n",
    "@login_required(login_url='localhost/login')\n",
    "def foo(user):\n",
    "    print(f'{user = }')\n",
    "\n",
    "\n",
    "foo('monty')\n",
    "foo('guido')\n",
    "foo('pyuty')"
   ]
  },
  {
   "source": [
    "# Полезные ссылки\n",
    "\n",
    "- [Decorators with parameters?](https://stackoverflow.com/questions/5929107/decorators-with-parameters)\n",
    "- [Reuven M. Lerner - Practical decorators - PyCon 2019](https://www.youtube.com/watch?v=MjHpMCIvwsY&feature=youtu.be)"
   ],
   "cell_type": "markdown",
   "metadata": {}
  }
 ]
}