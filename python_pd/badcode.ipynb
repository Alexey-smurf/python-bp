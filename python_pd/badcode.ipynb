{
 "metadata": {
  "language_info": {
   "codemirror_mode": {
    "name": "ipython",
    "version": 3
   },
   "file_extension": ".py",
   "mimetype": "text/x-python",
   "name": "python",
   "nbconvert_exporter": "python",
   "pygments_lexer": "ipython3",
   "version": "3.9.0-final"
  },
  "orig_nbformat": 2,
  "kernelspec": {
   "name": "python3",
   "display_name": "Python 3"
  }
 },
 "nbformat": 4,
 "nbformat_minor": 2,
 "cells": [
  {
   "source": [
    "# Примеры плохого кода или раздел ```0xbadc0de```\n",
    "\n",
    "Добро пожаловать в раздел ```0xbadc0de```, где собраны забавные и иногда рабочие примеры кода на Python.\n",
    "\n",
    "Примеры могут быть не совсем рабочие или частично доработаны до рабочего состояния. \n"
   ],
   "cell_type": "markdown",
   "metadata": {}
  },
  {
   "cell_type": "code",
   "execution_count": 1,
   "metadata": {},
   "outputs": [
    {
     "output_type": "stream",
     "name": "stdout",
     "text": [
      "lst = []\nlst2 = []\n"
     ]
    }
   ],
   "source": [
    "# Именовать переменные нужно осмысленно, т.е. что бы по их \n",
    "# названию можно было понять для чего она предназначена. \n",
    "# Плохой практикой является использование:\n",
    "# - однобуквенных имен, кроме использования их в исторически \n",
    "# сложившихся ситуациях, таких как: i, j, k для индексов, \n",
    "# x, y, z для координат и т.д.\n",
    "# - метапеременных: foo, bar, baz и т.д. Исключеним являются \n",
    "# использование в короткий примерах.\n",
    "# - неинформативных имен: lst, lst2, dct, ...\n",
    "\n",
    "lst = []\n",
    "lst2 = []\n",
    "\n",
    "msg = 'Введите имя или stop для завершения:'\n",
    "while (name:= input(msg)):\n",
    "    lst.append(name)\n",
    "    phone = input('Введите номер телефона:')\n",
    "    lst2.append(phone)\n",
    "\n",
    "print(f'{lst = }')\n",
    "print(f'{lst2 = }')"
   ]
  },
  {
   "cell_type": "code",
   "execution_count": 2,
   "metadata": {},
   "outputs": [
    {
     "output_type": "stream",
     "name": "stdout",
     "text": [
      "[{'имя': 'Bob', 'телефоны': [{'описание': 'John Wick', 'номер': '315-194-6020'}, {'описание': 'Ghostbusters', 'номер': '555-2368'}, {'описание': 'Advertising', 'номер': '8-800-555-35-35'}]}]\n"
     ]
    }
   ],
   "source": [
    "# Нужно создать список, где сохраняются словари вида \n",
    "# {'имя': '...', 'телефоны': [{'описание': '...', 'номер': '...'}, {'описание': '...', 'номер': '...'}, ...]}\n",
    "\n",
    "# Попробуйте самостоятельно понять в чем проблема нижеприведенного кода.\n",
    "\n",
    "# Проблемы:\n",
    "# - неинформативные имена\n",
    "# - использование range(len(lst2)). В теле цикла нужны \n",
    "# элементы двух списков, в этом случае можно использовать \n",
    "# либо enumerate, либо zip для итерирования по двум \n",
    "# коллекциям одновременно\n",
    "# - совершенно неправильная работа со словарем. Словарь \n",
    "# создается один раз, затем его ключи обновляются через update. \n",
    "# Используется глубокое копирование. Здесь нужно создавать \n",
    "# словарь внутри цикла с нужными ключами и добавлть его в список.\n",
    "\n",
    "name_per = 'Bob'\n",
    "lst = ['315-194-6020', '555-2368', '8-800-555-35-35']\n",
    "lst2 = ['(1)', '(2)', '(3)']\n",
    "\n",
    "import copy\n",
    "dct = {}\n",
    "lst3 = []\n",
    "lst4 = []\n",
    "for i in range(len(lst2)):\n",
    "    dct.update({'описание': lst2[i], 'номер': lst[i]})\n",
    "    lst3.append(copy.deepcopy(dct))\n",
    "lst4.append(\n",
    "    {'имя': name_per, 'телефоны': lst3},\n",
    ")\n",
    "\n",
    "# корректная версия\n",
    "all_phones = ['315-194-6020', '555-2368', '8-800-555-35-35']\n",
    "descriptions = ['John Wick', 'Ghostbusters', 'Advertising']\n",
    "phone_book = []\n",
    "phones = []\n",
    "for description, phone in zip(descriptions, all_phones):\n",
    "    phones.append({'описание': description, 'номер': phone})\n",
    "\n",
    "phone_book.append(\n",
    "    {'имя': name_per, 'телефоны': phones},\n",
    ")\n",
    "print(phone_book)"
   ]
  },
  {
   "cell_type": "code",
   "execution_count": 3,
   "metadata": {},
   "outputs": [
    {
     "output_type": "stream",
     "name": "stdout",
     "text": [
      "x in A: True\n-1 in A\nЧто-то пошло не так\n2 in A\n3 in A\n4 in A\n5 in A\n6 in A\n7 in A\n8 in A\n9 in A\n"
     ]
    }
   ],
   "source": [
    "# проверка числа x на принадлежность множеству \n",
    "# A = {x | x ≠ 0, x ∈ [2/x, 5]}\n",
    "# Этот пример не совсем рабочий. Предлагается \n",
    "# самостоятельно подумать почему.\n",
    "\n",
    "# Исходное решение\n",
    "x = 2\n",
    "print('x in A:', 2/x <= x!=0 <= 5)\n",
    "\n",
    "# Этот цикл призван показать неправильность решения\n",
    "for i in range(-10, 10):\n",
    "    if i == 0:  # Эта проверка добавлена, чтобы избежать исключения\n",
    "        print('Что-то пошло не так')\n",
    "    elif 2/i <= i!=0 <= 5:\n",
    "        print(i, 'in A')"
   ]
  },
  {
   "cell_type": "code",
   "execution_count": 4,
   "metadata": {},
   "outputs": [
    {
     "output_type": "stream",
     "name": "stdout",
     "text": [
      "x in A: True\n-5 in A\n-4 in A\n-3 in A\n-2 in A\n-1 in A\nЧто-то пошло не так\n1 in A\n2 in A\n3 in A\n4 in A\n5 in A\n"
     ]
    }
   ],
   "source": [
    "# проверка числа x на принадлежность множеству \n",
    "# A = {x | x ≠ 0, x ∈ [2/x, 5]}\n",
    "# Этот пример работает не так как было задумано изначально\n",
    "\n",
    "# Исходное решение\n",
    "x = 2\n",
    "print('x in A:', [2/x, 3] and (x >= 2/x) and x <= 5)\n",
    "\n",
    "# Этот цикл призван показать неправильность решения\n",
    "for i in range(-5, 6):\n",
    "    if i == 0:  # Эта проверка добавлена, чтобы избежать исключения\n",
    "        print('Что-то пошло не так')\n",
    "    elif [2/x, 3] and (x >= 2/x) and x <= 5:\n",
    "        print(i, 'in A')"
   ]
  },
  {
   "cell_type": "code",
   "execution_count": 5,
   "metadata": {},
   "outputs": [
    {
     "output_type": "stream",
     "name": "stdout",
     "text": [
      "[1, 3, 5, 7, 9, 11, 13, 15]\n"
     ]
    }
   ],
   "source": [
    "# создать список нечетных чисел из интервала [0, 15]\n",
    "a = [i for i in range(16) if i%2 is not 0]\n",
    "print(a)"
   ]
  },
  {
   "cell_type": "code",
   "execution_count": 6,
   "metadata": {},
   "outputs": [
    {
     "output_type": "stream",
     "name": "stdout",
     "text": [
      "Четное\n"
     ]
    }
   ],
   "source": [
    "# проверить число x на четность\n",
    "x = 4\n",
    "if (x % 2) in [0]:\n",
    "    print('Четное')\n",
    "else:\n",
    "    print('Нечетное')"
   ]
  },
  {
   "cell_type": "code",
   "execution_count": 7,
   "metadata": {},
   "outputs": [
    {
     "output_type": "stream",
     "name": "stdout",
     "text": [
      "42 196\n"
     ]
    }
   ],
   "source": [
    "# один из способов распаковать кортеж длиной два в две переменные\n",
    "a = (42, 196)\n",
    "for i in range(len(a)):\n",
    "    globals()[f'a{i}'] = a[i]\n",
    "print(a0, a1)"
   ]
  },
  {
   "cell_type": "code",
   "execution_count": 8,
   "metadata": {},
   "outputs": [
    {
     "output_type": "stream",
     "name": "stdout",
     "text": [
      "42 196\n"
     ]
    }
   ],
   "source": [
    "# еще один способ распаковать кортеж длиной два в две переменные a и b\n",
    "x = (42, 196)\n",
    "for i in range(len(x)):\n",
    "    globals()[chr(ord('a') + i)] = x[i]\n",
    "print(a, b)"
   ]
  },
  {
   "cell_type": "code",
   "execution_count": 9,
   "metadata": {},
   "outputs": [
    {
     "output_type": "stream",
     "name": "stdout",
     "text": [
      "42 196\n"
     ]
    }
   ],
   "source": [
    "# другой вариант распаковать кортеж длиной два в две переменные a и b\n",
    "x = (42, 196)\n",
    "for i in range(len(x)):\n",
    "    if i == 0:\n",
    "        a = x[i]\n",
    "    else:\n",
    "        b = x[i]\n",
    "print(a, b)"
   ]
  },
  {
   "cell_type": "code",
   "execution_count": 10,
   "metadata": {},
   "outputs": [
    {
     "output_type": "stream",
     "name": "stdout",
     "text": [
      "wait for it...\n"
     ]
    }
   ],
   "source": [
    "# сравнение числа с заданными значениями\n",
    "k = 4\n",
    "if k == 3:\n",
    "    print('wait for it...')\n",
    "elif k == 4:\n",
    "    print('wait for it...')\n",
    "elif k == 5:\n",
    "    print('wait for it...')\n",
    "elif k != 3 or 4 or 5:\n",
    "    print('Legendary')"
   ]
  },
  {
   "cell_type": "code",
   "execution_count": 9,
   "metadata": {},
   "outputs": [
    {
     "output_type": "stream",
     "name": "stdout",
     "text": [
      "      1000        10         8         8\n      1001        11         9         9\n      1010        12        10         a\n      1011        13        11         b\n      1100        14        12         c\n      1101        15        13         d\n      1110        16        14         e\n      1111        17        15         f\n--------------------------------------------------\n      1000        10         8         8\n      1001        11         9         9\n      1010        12        10         a\n      1011        13        11         b\n      1100        14        12         c\n      1101        15        13         d\n      1110        16        14         e\n      1111        17        15         f\n"
     ]
    }
   ],
   "source": [
    "# один из способо выравнивания строки\n",
    "for i in range(8, 16):\n",
    "    s = ''\n",
    "    for base in 'bodx':\n",
    "        s += ' ' * (10 - len(f'{i:{base}}')) + f'{i:{base}}'\n",
    "    print(s)\n",
    "\n",
    "print('-' * 50)\n",
    "# правильный способ выравнивания строки\n",
    "for i in range(8, 16):\n",
    "    for base in 'bodx':\n",
    "        print(f'{i:>10{base}}', end='\\n' if base == 'x' else '')"
   ]
  },
  {
   "cell_type": "code",
   "execution_count": 11,
   "metadata": {},
   "outputs": [
    {
     "output_type": "stream",
     "name": "stdout",
     "text": [
      "(1): [42]\n(2): [42]\n(3): [42]\n(4): [42]\n(5): [1, 42]\n(6): [1, 2, 42]\n"
     ]
    }
   ],
   "source": [
    "# реализовать функцию, добавляющую к списку число 42,\n",
    "# если функция вызвана без аргументов, она должна \n",
    "# возвращать список из одного элемента: [42]\n",
    "\n",
    "# неправильная, но полностью рабочая реализация\n",
    "def foo(a=[]):\n",
    "    if a == []:\n",
    "        a = [42]\n",
    "    else:\n",
    "        a.append(42)\n",
    "    return a\n",
    "\n",
    "print('(1):', foo())\n",
    "print('(2):', foo())\n",
    "print('(3):', foo())\n",
    "print('(4):', foo([]))\n",
    "print('(5):', foo([1]))\n",
    "print('(6):', foo([1, 2]))"
   ]
  },
  {
   "cell_type": "code",
   "execution_count": 12,
   "metadata": {},
   "outputs": [
    {
     "output_type": "stream",
     "name": "stdout",
     "text": [
      "(1): [42]\n(2): [42]\n(3): [42]\n(4): [42]\n(5): [1, 42]\n(6): [1, 2, 42]\n"
     ]
    }
   ],
   "source": [
    "# реализовать функцию, добавляющую к списку число 42,\n",
    "# если функция вызвана без аргументов, она должна \n",
    "# возвращать список из одного элемента: [42]\n",
    "\n",
    "# еще одна попытка реализации\n",
    "def bar(a=None):\n",
    "    b = a\n",
    "    a = []\n",
    "    if isinstance(b, list):\n",
    "        b.append(42)\n",
    "        return b\n",
    "    else:\n",
    "        a.append(42)\n",
    "        return a\n",
    "\n",
    "print('(1):', bar())\n",
    "print('(2):', bar())\n",
    "print('(3):', bar())\n",
    "print('(4):', bar([]))\n",
    "print('(5):', bar([1]))\n",
    "print('(6):', bar([1, 2]))"
   ]
  },
  {
   "cell_type": "code",
   "execution_count": 13,
   "metadata": {},
   "outputs": [
    {
     "output_type": "stream",
     "name": "stdout",
     "text": [
      "Введите число\n",
      "Введите число\n",
      "Введите число\n",
      "Введите число\n",
      "Введите число\n",
      "Введите число\n",
      "Ввод завершен\n",
      "Ввод завершен\n",
      "Ввод завершен\n",
      "Ввод завершен\n",
      "Ввод завершен\n",
      "Ввод завершен\n",
      "Ввод завершен\n"
     ]
    }
   ],
   "source": [
    "# Пользователь вводит строку, разделенную пробелами. \n",
    "# Необходимо проверить, являются ли все элементы строки \n",
    "# числами > 0. Если ввод не удовлетворяет условию, то \n",
    "# нужно запросить повторный ввод.\n",
    "\n",
    "# Этот пример демоснтрирует сразу несколько неправильных \n",
    "# подходов. Первый заключается в зацикливании программы с \n",
    "# помощью рекурсии. Второй в несовмсем правильной проверке ввода.\n",
    "\n",
    "# Самостоятельно провертьте ввод на следующих примерах и \n",
    "# постарайтесь понять в чем проблема.\n",
    "# '1 2 3' - корректная работа\n",
    "# '1 2 q' - что-то идет не так, но работает \"почти\" правильно\n",
    "# '1 0 O O 4' - нужно больше ввода!\n",
    "def foo():\n",
    "    msg = 'Введите числа, раделенные пробелами'\n",
    "    input_arr = input(msg).split(' ')\n",
    "    for i in range(len(input_arr)):\n",
    "        if not input_arr[i].isdigit():\n",
    "            print('Введите число')\n",
    "            foo()\n",
    "    print('Ввод завершен')\n",
    "\n",
    "foo()"
   ]
  },
  {
   "source": [
    "# Пользователь вводит строку, разделенную пробелами. \n",
    "# Необходимо проверить, являются ли все элементы строки \n",
    "# числами > 0. Если ввод не удовлетворяет условию, то \n",
    "# нужно запросить повторный ввод.\n",
    "\n",
    "# Здесь проблема заключается непосредственно в проверке ввода.\n",
    "\n",
    "# Самостоятельно провертьте ввод на следующих примерах:\n",
    "# '1 2 3' - корректная работа\n",
    "# '1 2 q' - будте отсторожны\n",
    "# '1 0 O O 4' - нужно больше ввода!\n",
    "def foo():\n",
    "    msg = 'Введите числа, раделенные пробелами'\n",
    "    input_str = input(msg).split(' ')\n",
    "    for c in input_str:\n",
    "        while not c.isdigit():\n",
    "            print('Введите число')\n",
    "            input_str = input().split(' ')\n",
    "    print('Ввод завершен')\n",
    "\n",
    "foo()"
   ],
   "cell_type": "code",
   "metadata": {},
   "execution_count": 14,
   "outputs": [
    {
     "output_type": "stream",
     "name": "stdout",
     "text": [
      "Ввод завершен\n"
     ]
    }
   ]
  },
  {
   "cell_type": "code",
   "execution_count": 15,
   "metadata": {},
   "outputs": [
    {
     "output_type": "stream",
     "name": "stdout",
     "text": [
      "Вектор: (6, 4)\nДлина вектора 7.211102550927978\n"
     ]
    }
   ],
   "source": [
    "# безумная альфа версия языка программирования РУтон\n",
    "\n",
    "печать = print\n",
    "\n",
    "икс, игрек = 6, 4\n",
    "печать('Вектор:', (икс, игрек))\n",
    "\n",
    "расстояние = (икс**2 + игрек**2) ** 0.5\n",
    "печать('Длина вектора', расстояние)"
   ]
  },
  {
   "cell_type": "code",
   "execution_count": 16,
   "metadata": {},
   "outputs": [
    {
     "output_type": "stream",
     "name": "stdout",
     "text": [
      "a.coefficient = 1, a.hours = 6, a.base_price = 130\nb.coefficient = 1.5, b.hours = 3, b.base_price = 110\n"
     ]
    }
   ],
   "source": [
    "# Пример бесполезного наследования\n",
    "# Здесь пример классов вроде \"namedtuple\", но еще более бесполезны.  \n",
    "# Самостоятельно определите проблемы этого кода.\n",
    "\n",
    "class Plain:\n",
    "    coefficient = 1\n",
    "    hours = 6\n",
    "    base_price = 130\n",
    "\n",
    "class ExPlain(Plain):\n",
    "    coefficient = 1.5\n",
    "    hours = 3\n",
    "    base_price = 110\n",
    "\n",
    "\n",
    "a = Plain()\n",
    "print(f'{a.coefficient = }, {a.hours = }, {a.base_price = }')\n",
    "b = ExPlain()\n",
    "print(f'{b.coefficient = }, {b.hours = }, {b.base_price = }')"
   ]
  },
  {
   "cell_type": "code",
   "execution_count": 3,
   "metadata": {},
   "outputs": [
    {
     "output_type": "stream",
     "name": "stdout",
     "text": [
      "1 5\n2 4\n3 3\n4 2\n-------------------------\n1 5\n2 4\n3 3\n4 2\n"
     ]
    }
   ],
   "source": [
    "# Перебор с индексами\n",
    "# Здесь требуется проитерироваться по списку и использовать индексацию, начина с 1.\n",
    "\n",
    "xs = [5, 4, 3, 2]\n",
    "\n",
    "for num, i in enumerate(range(len(xs)), 1):\n",
    "    print(num, xs[i])\n",
    "print('-' * 25)\n",
    "\n",
    "# корректное решение\n",
    "for i, item in enumerate(xs):\n",
    "    print(i + 1, item)"
   ]
  },
  {
   "cell_type": "code",
   "execution_count": 5,
   "metadata": {},
   "outputs": [
    {
     "output_type": "stream",
     "name": "stdout",
     "text": [
      "Состояние списков перед выполнением программы:\nmy_list is a = False\na is b = False\na is c = False\n--------------------------------------------------\n[{'a': 'foo', 'b': 1}, {'a': 'foo', 'b': 3}]\nСостояние списков (1):\nmy_list is a = False\na is b = False\na is c = True\n--------------------------------------------------\nПревышение количества вызовов. Зацикливание!\n[{'a': 'foo', 'b': 1}, {'a': 'foo', 'b': 3}, {'a': 'foo', 'b': 1}, {'a': 'foo', 'b': 1}, {'a': 'foo', 'b': 1}]\nСостояние списков (2):\nmy_list is a = False\na is b = True\na is c = True\n--------------------------------------------------\n"
     ]
    }
   ],
   "source": [
    "# Выстрел в ногу\n",
    "# Этот пример демонстрирует отрицательные стороны использования глобальных переменных.\n",
    "# Задача довольно проста. Имеется список словарей. Необходимо сначала выбрать все элементы \n",
    "# с заданным значениям первого ключа, затем для полученного результата повторить процедуру \n",
    "# для другого ключа.\n",
    "\n",
    "# Этот пример сильно упрощен, а также добавлен небольшой кусок кода для предотвращения \n",
    "# зацикливания (его не было в исходном решении) без потери исходного смысла. Измененены \n",
    "# названия переменных на более простые.\n",
    "\n",
    "# Попробуйте самостоятельно найти проблему данного кода.\n",
    "\n",
    "# Добавка для предотвращения зацикливания\n",
    "class Counting:\n",
    "    \"\"\"Счетчик вызова функций.\n",
    "    Можно использовать как декортатор.\n",
    "    \"\"\"\n",
    "    def __init__(self, func):\n",
    "        self.count = 0\n",
    "        self.func = func\n",
    "    \n",
    "    def __call__(self, *args, **kwargs):\n",
    "        self.count += 1\n",
    "        self.func(*args, **kwargs)\n",
    "\n",
    "\n",
    "# Будем считать количество вызовов метода append\n",
    "my_append = Counting(list.append)\n",
    "\n",
    "\n",
    "# глобальные переменные\n",
    "my_list = [\n",
    "    {'a': 'foo', 'b': 1},\n",
    "    {'a': 'bar', 'b': 1},\n",
    "    {'a': 'foo', 'b': 3},\n",
    "    {'a': 'baz', 'b': 4}\n",
    "]\n",
    "a = []\n",
    "b = []\n",
    "c = []\n",
    "\n",
    "\n",
    "def quuz(list_, key, value):\n",
    "    for item in list_:\n",
    "        if value == item.get(key):\n",
    "            # для получения исходного смысла:\n",
    "            my_append(c, item)  # закомментируйте эту строку\n",
    "            # c.append(item)  # раскомментируйте эту строку\n",
    "        if my_append.count == 5:  # закомментируйте это условие\n",
    "            print('Превышение количества вызовов. Зацикливание!')\n",
    "            break\n",
    "    return c\n",
    "\n",
    "\n",
    "# демонстрация работы\n",
    "print('Состояние списков перед выполнением программы:')\n",
    "print(f'{my_list is a = }')\n",
    "print(f'{a is b = }')\n",
    "print(f'{a is c = }')    \n",
    "print('-' * 50)\n",
    "\n",
    "a = quuz(my_list, 'a', 'foo')\n",
    "print(a)\n",
    "\n",
    "print('Состояние списков (1):')\n",
    "print(f'{my_list is a = }')\n",
    "print(f'{a is b = }')\n",
    "print(f'{a is c = }')\n",
    "print('-' * 50)\n",
    "\n",
    "parametr_analiz = 'b'\n",
    "b = quuz(a, 'b', 1)\n",
    "print(b)\n",
    "\n",
    "print('Состояние списков (2):')\n",
    "print(f'{my_list is a = }')\n",
    "print(f'{a is b = }')\n",
    "print(f'{a is c = }')\n",
    "print('-' * 50)\n"
   ]
  },
  {
   "source": [
    "# Интересные ссылки\n",
    "\n",
    "- [Просто БЕЗУМНЫЕ примеры написания ```Hello, World!```](https://old.reddit.com/r/Python/comments/k7hv95/what_is_the_longest_piece_of_code_you_can_write/)"
   ],
   "cell_type": "markdown",
   "metadata": {}
  }
 ]
}