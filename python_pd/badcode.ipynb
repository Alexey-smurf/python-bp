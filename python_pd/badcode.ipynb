{
 "metadata": {
  "language_info": {
   "codemirror_mode": {
    "name": "ipython",
    "version": 3
   },
   "file_extension": ".py",
   "mimetype": "text/x-python",
   "name": "python",
   "nbconvert_exporter": "python",
   "pygments_lexer": "ipython3",
   "version": "3.9.0-final"
  },
  "orig_nbformat": 2,
  "kernelspec": {
   "name": "python3",
   "display_name": "Python 3"
  }
 },
 "nbformat": 4,
 "nbformat_minor": 2,
 "cells": [
  {
   "source": [
    "# Примеры плохого кода или раздел ```0xbadc0de```\n",
    "\n",
    "Добро пожаловать в раздел ```0xbadc0de```, где собраны забавные и иногда рабочие примеры кода на Python.\n",
    "\n",
    "Примеры могут быть не совсем рабочие или частично доработаны до рабочего состояния. \n"
   ],
   "cell_type": "markdown",
   "metadata": {}
  },
  {
   "cell_type": "code",
   "execution_count": 1,
   "metadata": {},
   "outputs": [
    {
     "output_type": "stream",
     "name": "stdout",
     "text": [
      "x in A: True\n-1 in A\nЧто-то пошло не так\n2 in A\n3 in A\n4 in A\n5 in A\n6 in A\n7 in A\n8 in A\n9 in A\n"
     ]
    }
   ],
   "source": [
    "# проверка числа x на принадлежность множеству \n",
    "# A = {x | x ≠ 0, x ∈ [2/x, 5]}\n",
    "# Этот пример не совсем рабочий. Предлагается \n",
    "# самостоятельно подумать почему.\n",
    "\n",
    "# Исходное решение\n",
    "x = 2\n",
    "print('x in A:', 2/x <= x!=0 <= 5)\n",
    "\n",
    "# Этот цикл призван показать неправильность решения\n",
    "for i in range(-10, 10):\n",
    "    if i == 0:  # Эта проверка добавлена, чтобы избежать исключения\n",
    "        print('Что-то пошло не так')\n",
    "    elif 2/i <= i!=0 <= 5:\n",
    "        print(i, 'in A')"
   ]
  },
  {
   "cell_type": "code",
   "execution_count": 2,
   "metadata": {},
   "outputs": [
    {
     "output_type": "stream",
     "name": "stdout",
     "text": [
      "x in A: True\n-5 in A\n-4 in A\n-3 in A\n-2 in A\n-1 in A\nЧто-то пошло не так\n1 in A\n2 in A\n3 in A\n4 in A\n5 in A\n"
     ]
    }
   ],
   "source": [
    "# проверка числа x на принадлежность множеству \n",
    "# A = {x | x ≠ 0, x ∈ [2/x, 5]}\n",
    "# Этот пример работает не так как было задумано изначально\n",
    "\n",
    "# Исходное решение\n",
    "x = 2\n",
    "print('x in A:', [2/x, 3] and (x >= 2/x) and x <= 5)\n",
    "\n",
    "# Этот цикл призван показать неправильность решения\n",
    "for i in range(-5, 6):\n",
    "    if i == 0:  # Эта проверка добавлена, чтобы избежать исключения\n",
    "        print('Что-то пошло не так')\n",
    "    elif [2/x, 3] and (x >= 2/x) and x <= 5:\n",
    "        print(i, 'in A')"
   ]
  },
  {
   "cell_type": "code",
   "execution_count": 3,
   "metadata": {},
   "outputs": [
    {
     "output_type": "stream",
     "name": "stdout",
     "text": [
      "[1, 3, 5, 7, 9, 11, 13, 15]\n"
     ]
    }
   ],
   "source": [
    "# создать список нечетных чисел из интервала [0, 15]\n",
    "a = [i for i in range(16) if i%2 is not 0]\n",
    "print(a)"
   ]
  },
  {
   "cell_type": "code",
   "execution_count": 4,
   "metadata": {},
   "outputs": [
    {
     "output_type": "stream",
     "name": "stdout",
     "text": [
      "Четное\n"
     ]
    }
   ],
   "source": [
    "# проверить число x на четность\n",
    "x = 4\n",
    "if (x % 2) in [0]:\n",
    "    print('Четное')\n",
    "else:\n",
    "    print('Нечетное')"
   ]
  },
  {
   "cell_type": "code",
   "execution_count": 5,
   "metadata": {},
   "outputs": [
    {
     "output_type": "stream",
     "name": "stdout",
     "text": [
      "42 196\n"
     ]
    }
   ],
   "source": [
    "# один из способов распаковать кортеж длиной два в две переменные\n",
    "a = (42, 196)\n",
    "for i in range(len(a)):\n",
    "    globals()[f'a{i}'] = a[i]\n",
    "print(a0, a1)"
   ]
  },
  {
   "cell_type": "code",
   "execution_count": 6,
   "metadata": {},
   "outputs": [
    {
     "output_type": "stream",
     "name": "stdout",
     "text": [
      "42 196\n"
     ]
    }
   ],
   "source": [
    "# еще один способ распаковать кортеж длиной два в две переменные a и b\n",
    "x = (42, 196)\n",
    "for i in range(len(x)):\n",
    "    globals()[chr(ord('a') + i)] = x[i]\n",
    "print(a, b)"
   ]
  },
  {
   "cell_type": "code",
   "execution_count": 7,
   "metadata": {},
   "outputs": [
    {
     "output_type": "stream",
     "name": "stdout",
     "text": [
      "42 196\n"
     ]
    }
   ],
   "source": [
    "# другой вариант распаковать кортеж длиной два в две переменные a и b\n",
    "x = (42, 196)\n",
    "for i in range(len(x)):\n",
    "    if i == 0:\n",
    "        a = x[i]\n",
    "    else:\n",
    "        b = x[i]\n",
    "print(a, b)"
   ]
  },
  {
   "cell_type": "code",
   "execution_count": 8,
   "metadata": {},
   "outputs": [
    {
     "output_type": "stream",
     "name": "stdout",
     "text": [
      "wait for it...\n"
     ]
    }
   ],
   "source": [
    "# сравнение числа с заданными значениямиs\n",
    "k = 4\n",
    "if k == 3:\n",
    "    print('wait for it...')\n",
    "elif k == 4:\n",
    "    print('wait for it...')\n",
    "elif k == 5:\n",
    "    print('wait for it...')\n",
    "elif k != 3 or 4 or 5:\n",
    "    print('Legendary')"
   ]
  },
  {
   "cell_type": "code",
   "execution_count": 9,
   "metadata": {},
   "outputs": [
    {
     "output_type": "stream",
     "name": "stdout",
     "text": [
      "      1000        10         8         8\n      1001        11         9         9\n      1010        12        10         a\n      1011        13        11         b\n      1100        14        12         c\n      1101        15        13         d\n      1110        16        14         e\n      1111        17        15         f\n--------------------------------------------------\n      1000        10         8         8\n      1001        11         9         9\n      1010        12        10         a\n      1011        13        11         b\n      1100        14        12         c\n      1101        15        13         d\n      1110        16        14         e\n      1111        17        15         f\n"
     ]
    }
   ],
   "source": [
    "# один из способо выравнивания строки\n",
    "for i in range(8, 16):\n",
    "    s = ''\n",
    "    for base in 'bodx':\n",
    "        s += ' ' * (10 - len(f'{i:{base}}')) + f'{i:{base}}'\n",
    "    print(s)\n",
    "\n",
    "print('-' * 50)\n",
    "# правильный способ выравнивания строки\n",
    "for i in range(8, 16):\n",
    "    for base in 'bodx':\n",
    "        print(f'{i:>10{base}}', end='\\n' if base == 'x' else '')"
   ]
  },
  {
   "cell_type": "code",
   "execution_count": 10,
   "metadata": {},
   "outputs": [
    {
     "output_type": "stream",
     "name": "stdout",
     "text": [
      "(1): [42]\n(2): [42]\n(3): [42]\n(4): [42]\n(5): [1, 42]\n(6): [1, 2, 42]\n"
     ]
    }
   ],
   "source": [
    "# реализовать функцию, добавляющую к списку число 42,\n",
    "# если функция вызвана без аргументов, она должна \n",
    "# возвращать список из одного элемента: [42]\n",
    "\n",
    "# неправильная, но полностью рабочая реализация\n",
    "def foo(a=[]):\n",
    "    if a == []:\n",
    "        a = [42]\n",
    "    else:\n",
    "        a.append(42)\n",
    "    return a\n",
    "\n",
    "print('(1):', foo())\n",
    "print('(2):', foo())\n",
    "print('(3):', foo())\n",
    "print('(4):', foo([]))\n",
    "print('(5):', foo([1]))\n",
    "print('(6):', foo([1, 2]))"
   ]
  },
  {
   "cell_type": "code",
   "execution_count": 11,
   "metadata": {},
   "outputs": [
    {
     "output_type": "stream",
     "name": "stdout",
     "text": [
      "(1): [42]\n(2): [42]\n(3): [42]\n(4): [42]\n(5): [1, 42]\n(6): [1, 2, 42]\n"
     ]
    }
   ],
   "source": [
    "# реализовать функцию, добавляющую к списку число 42,\n",
    "# если функция вызвана без аргументов, она должна \n",
    "# возвращать список из одного элемента: [42]\n",
    "\n",
    "# еще одна попытка реализации\n",
    "def bar(a=None):\n",
    "    b = a\n",
    "    a = []\n",
    "    if isinstance(b, list):\n",
    "        b.append(42)\n",
    "        return b\n",
    "    else:\n",
    "        a.append(42)\n",
    "        return a\n",
    "\n",
    "print('(1):', bar())\n",
    "print('(2):', bar())\n",
    "print('(3):', bar())\n",
    "print('(4):', bar([]))\n",
    "print('(5):', bar([1]))\n",
    "print('(6):', bar([1, 2]))"
   ]
  },
  {
   "cell_type": "code",
   "execution_count": 7,
   "metadata": {},
   "outputs": [
    {
     "output_type": "stream",
     "name": "stdout",
     "text": [
      "Введите число\n",
      "Ввод завершен\n",
      "Введите число\n",
      "Ввод завершен\n",
      "Ввод завершен\n"
     ]
    }
   ],
   "source": [
    "# Пользователь вводит строку, разделенную пробелами. \n",
    "# Необходимо проверить, являются ли все элементы строки \n",
    "# числами > 0. Если ввод не удовлетворяет условию, то \n",
    "# нужно запросить повторный ввод.\n",
    "\n",
    "# Этот пример демоснтрирует сразу несколько неправильных \n",
    "# подходов. Первый заключается в зацикливании программы с \n",
    "# помощью рекурсии. Второй в несовмсем правильной проверке ввода.\n",
    "\n",
    "# Самостоятельно провертьте ввод на следующих примерах и \n",
    "# постарайтесь понять в чем проблема.\n",
    "# '1 2 3' - корректная работа\n",
    "# '1 2 q' - что-то идет не так, но работает \"почти\" правильно\n",
    "# '1 0 O O 4' - нужно больше ввода!\n",
    "def foo():\n",
    "    msg = 'Введите числа, раделенные пробелами'\n",
    "    input_arr = input(msg).split(' ')\n",
    "    for i in range(len(input_arr)):\n",
    "        if not input_arr[i].isdigit():\n",
    "            print('Введите число')\n",
    "            foo()\n",
    "    print('Ввод завершен')\n",
    "\n",
    "foo()"
   ]
  },
  {
   "source": [
    "# Пользователь вводит строку, разделенную пробелами. \n",
    "# Необходимо проверить, являются ли все элементы строки \n",
    "# числами > 0. Если ввод не удовлетворяет условию, то \n",
    "# нужно запросить повторный ввод.\n",
    "\n",
    "# Здесь проблема заключается непосредственно в проверке ввода.\n",
    "\n",
    "# Самостоятельно провертьте ввод на следующих примерах:\n",
    "# '1 2 3' - корректная работа\n",
    "# '1 2 q' - будте отсторожны\n",
    "# '1 0 O O 4' - нужно больше ввода!\n",
    "def foo():\n",
    "    msg = 'Введите числа, раделенные пробелами'\n",
    "    input_str = input(msg).split(' ')\n",
    "    for c in input_str:\n",
    "        while not c.isdigit():\n",
    "            print('Введите число')\n",
    "            input_str = input().split(' ')\n",
    "    print('Ввод завершен')\n",
    "\n",
    "foo()"
   ],
   "cell_type": "code",
   "metadata": {},
   "execution_count": 11,
   "outputs": [
    {
     "output_type": "stream",
     "name": "stdout",
     "text": [
      "Ввод завершен\n"
     ]
    }
   ]
  },
  {
   "cell_type": "code",
   "execution_count": 12,
   "metadata": {},
   "outputs": [
    {
     "output_type": "stream",
     "name": "stdout",
     "text": [
      "Вектор: (6, 4)\nДлина вектора 7.211102550927978\n"
     ]
    }
   ],
   "source": [
    "# безумная альфа версия языка программирования РУтон\n",
    "\n",
    "печать = print\n",
    "\n",
    "икс, игрек = 6, 4\n",
    "печать('Вектор:', (икс, игрек))\n",
    "\n",
    "расстояние = (икс**2 + игрек**2) ** 0.5\n",
    "печать('Длина вектора', расстояние)"
   ]
  }
 ]
}