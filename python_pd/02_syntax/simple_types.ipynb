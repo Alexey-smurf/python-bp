{
 "metadata": {
  "language_info": {
   "codemirror_mode": {
    "name": "ipython",
    "version": 3
   },
   "file_extension": ".py",
   "mimetype": "text/x-python",
   "name": "python",
   "nbconvert_exporter": "python",
   "pygments_lexer": "ipython3",
   "version": "3.8.4-final"
  },
  "orig_nbformat": 2,
  "kernelspec": {
   "name": "python3",
   "display_name": "Python 3"
  }
 },
 "nbformat": 4,
 "nbformat_minor": 2,
 "cells": [
  {
   "source": [
    "# Простые типы данных\n",
    "## Числа\n",
    "\n",
    "В Python реализованы три вида чисел:\n",
    "\n",
    "- целые числа (```int```);\n",
    "- числа с плавающей точкой (```float```);\n",
    "- комплексные числа (```complex```).\n",
    "\n",
    "В скобках указано обозначение типов, которые используются в Python. В Python текст после символа ```#``` обозначает комментарий. Для ясности в нем указывается тип числа, а также поясняющий текст."
   ],
   "cell_type": "markdown",
   "metadata": {}
  },
  {
   "cell_type": "code",
   "execution_count": null,
   "metadata": {},
   "outputs": [],
   "source": [
    "# int\n",
    "42"
   ]
  },
  {
   "cell_type": "code",
   "execution_count": null,
   "metadata": {},
   "outputs": [],
   "source": [
    "# float\n",
    "42.0  # указывается целая и дробная часть\n",
    "0.42\n",
    "42.  # с указанием только целой части, в случае если дробная часть = 0\n",
    ".42  # с указанием только дробной части, в случае если целая часть = 0\n",
    "4.2e1  # экспоненциальная нотация (4.2 * 10**1)"
   ]
  },
  {
   "cell_type": "code",
   "execution_count": null,
   "metadata": {},
   "outputs": [],
   "source": [
    "# complex\n",
    "# в комплексных числах мнимая единица обозначается как j\n",
    "1 + 4j\n",
    "1 + 0j\n",
    "4j"
   ]
  },
  {
   "source": [
    "Python помимо чисел в десятичной системе счисления позволяет использовать двоичную, восьмеричную и шестнадцатеричную системы счисления. "
   ],
   "cell_type": "markdown",
   "metadata": {}
  },
  {
   "cell_type": "code",
   "execution_count": null,
   "metadata": {},
   "outputs": [],
   "source": [
    "0b011  # 3 в двоичной системе\n",
    "0o017  # 15 в восьмеричной системе\n",
    "0xbadc0fee  # 3134984174 в шестнадцатеричной системе"
   ]
  },
  {
   "source": [
    "## Логический тип\n",
    "\n",
    "В Python логический тип имеет обозначение ```bool```.\n",
    "\n",
    "Логический тип имеет только две константы: ```True``` (истина) и ```False``` (ложь). Они могут использоваться в различных условиях.\n"
   ],
   "cell_type": "markdown",
   "metadata": {}
  },
  {
   "cell_type": "code",
   "execution_count": null,
   "metadata": {},
   "outputs": [],
   "source": [
    "# bool\n",
    "True\n",
    "False"
   ]
  },
  {
   "source": [
    "## Странный тип или NoneType\n",
    "\n",
    "Специальный тип ```NoneType``` имеет только одну константу ```None```, буквально обозначающую \"ничего\". Константа предназначена исключительно для сравнения и использования в условиях."
   ],
   "cell_type": "markdown",
   "metadata": {}
  },
  {
   "cell_type": "code",
   "execution_count": null,
   "metadata": {},
   "outputs": [],
   "source": [
    "# Nonetype\n",
    "None"
   ]
  },
  {
   "source": [
    "## Строки\n",
    "\n",
    "В Python строки представлены типом ```str```. Создать строку можно, заключив что-либо в кавычки. Если внутри кавычек ничего нет, то строка пустая. Python разрешает использовать разные виды кавычек для обозначения строк:\n",
    "\n",
    "- одинарные ```'str'```\n",
    "- двойные ```\"str\"```\n",
    "- тройные одинарные ```'''str'''```\n",
    "- тройные двойные ```\"\"\"str\"\"\"```\n"
   ],
   "cell_type": "markdown",
   "metadata": {}
  },
  {
   "cell_type": "code",
   "execution_count": null,
   "metadata": {},
   "outputs": [],
   "source": [
    "# str\n",
    "'monty_python'\n",
    "\"monty_python\"\n",
    "'''monty_python'''\n",
    "\"\"\"monty_python\"\"\""
   ]
  },
  {
   "source": [
    "Разные кавычки позволяют использовать, например, двойные кавычки внутри одинарных и наоборот."
   ],
   "cell_type": "markdown",
   "metadata": {}
  },
  {
   "cell_type": "code",
   "execution_count": null,
   "metadata": {},
   "outputs": [],
   "source": [
    "'answer to the question is \"42\"'"
   ]
  },
  {
   "source": [
    "Тройные кавычки используются в редких случаях обозначения многострочных строк. Не используйте их для создания коротких строк. \n",
    "\n",
    "Использование двойных или одинарных кавычек остается делом вкуса. Определитесь с наиболее понравившимися кавычками и используйте их постоянно. Не стоит использовать для обозначения простых строк разные виды кавычек в разных местах программы, за исключением вложенных кавычек."
   ],
   "cell_type": "markdown",
   "metadata": {}
  }
 ]
}