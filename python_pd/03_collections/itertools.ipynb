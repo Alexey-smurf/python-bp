{
 "metadata": {
  "language_info": {
   "codemirror_mode": {
    "name": "ipython",
    "version": 3
   },
   "file_extension": ".py",
   "mimetype": "text/x-python",
   "name": "python",
   "nbconvert_exporter": "python",
   "pygments_lexer": "ipython3",
   "version": "3.9.0-final"
  },
  "orig_nbformat": 2,
  "kernelspec": {
   "name": "python3",
   "display_name": "Python 3"
  }
 },
 "nbformat": 4,
 "nbformat_minor": 2,
 "cells": [
  {
   "source": [
    "# Модуль ```itertools```"
   ],
   "cell_type": "markdown",
   "metadata": {}
  },
  {
   "source": [
    "## Бесконечные итераторы"
   ],
   "cell_type": "markdown",
   "metadata": {}
  },
  {
   "source": [
    "## Комбинаторика"
   ],
   "cell_type": "markdown",
   "metadata": {}
  },
  {
   "source": [
    "## Другие полезные итераторы"
   ],
   "cell_type": "markdown",
   "metadata": {}
  },
  {
   "cell_type": "code",
   "execution_count": 3,
   "metadata": {},
   "outputs": [
    {
     "output_type": "stream",
     "name": "stdout",
     "text": [
      "flattened = [1, 2, 3, 4, 5, 6, 7, 8, 9, 0, 1, 2]\n"
     ]
    }
   ],
   "source": [
    "import itertools\n",
    "matrix = [\n",
    "    [1, 2, 3, 4], \n",
    "    [5, 6, 7, 8], \n",
    "    [9, 0, 1, 2],\n",
    "]\n",
    "flattened = list(itertools.chain.from_iterable(matrix))\n",
    "print(f'{flattened = }')"
   ]
  },
  {
   "source": [
    "# Полезные ссылки\n",
    "\n",
    "- [Документация](https://docs.python.org/3/library/itertools.html)"
   ],
   "cell_type": "markdown",
   "metadata": {}
  }
 ]
}