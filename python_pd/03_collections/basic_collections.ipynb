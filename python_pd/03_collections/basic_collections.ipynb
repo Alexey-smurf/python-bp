{
 "metadata": {
  "language_info": {
   "codemirror_mode": {
    "name": "ipython",
    "version": 3
   },
   "file_extension": ".py",
   "mimetype": "text/x-python",
   "name": "python",
   "nbconvert_exporter": "python",
   "pygments_lexer": "ipython3",
   "version": "3.9.0-final"
  },
  "orig_nbformat": 2,
  "kernelspec": {
   "name": "python3",
   "display_name": "Python 3"
  }
 },
 "nbformat": 4,
 "nbformat_minor": 2,
 "cells": [
  {
   "source": [
    "# Базовые коллекции\n",
    "\n",
    "## Строки (```str```)\n",
    "\n",
    "[Строковый тип](https://docs.python.org/3.9/library/stdtypes.html#text-sequence-type-str) данных в Python называется ```str```. Для создания строки можно использовать либо функцию ```str``` либо строковые литералы. Их в Python четыре вида: одинарные кавычки, двойные кавычки, тройные одинарные кавычки и тройные двойные кавычки. "
   ],
   "cell_type": "markdown",
   "metadata": {}
  },
  {
   "cell_type": "code",
   "execution_count": 4,
   "metadata": {},
   "outputs": [
    {
     "output_type": "stream",
     "name": "stdout",
     "text": [
      "type(s_1) -> <class 'str'>\ntype(s_2) -> <class 'str'>\ntype(s_3) -> <class 'str'>\ntype(s_4) -> <class 'str'>\n"
     ]
    }
   ],
   "source": [
    "s_1 = ''\n",
    "s_2 = \"foo\"\n",
    "s_3 = '''bar'''\n",
    "s_4 = \"\"\"baz\"\"\"\n",
    "print('type(s_1) ->', type(s_1))\n",
    "print('type(s_2) ->', type(s_2))\n",
    "print('type(s_3) ->', type(s_3))\n",
    "print('type(s_4) ->', type(s_4))"
   ]
  },
  {
   "source": [
    "Внутри одинарных кавычек можно использовать дойные, а внутри тройных можно использовать одинарные и двойные без дополнительного экранирования. Использование одинарных кавычек внутри строки, созданной с помощью одинарных кавычек, потребует экранирования. Оно осуществляется с помощью символа ```\\```, который указывается перед экранируемым символом."
   ],
   "cell_type": "markdown",
   "metadata": {}
  },
  {
   "cell_type": "code",
   "execution_count": 7,
   "metadata": {},
   "outputs": [
    {
     "output_type": "stream",
     "name": "stdout",
     "text": [
      "\"Flying Circus\"\n'Monty Python'\n\"spam\", 'spam', spam\n"
     ]
    }
   ],
   "source": [
    "s_1 = '\"Flying Circus\"'\n",
    "s_2 = '\\'Monty Python\\''\n",
    "s_3 = '''\"spam\", 'spam', spam'''\n",
    "print(s_1)\n",
    "print(s_2)\n",
    "print(s_3)"
   ]
  },
  {
   "source": [
    "В строках есть целый ряд специальных символов, обозначающихся с помощью экранирования, например, перенос строки ```\\n```, табуляция ```\\t```, перевод каретки ```\\r```, backspace ```\\b``` и другие."
   ],
   "cell_type": "markdown",
   "metadata": {}
  },
  {
   "cell_type": "code",
   "execution_count": 9,
   "metadata": {},
   "outputs": [
    {
     "output_type": "stream",
     "name": "stdout",
     "text": [
      "\tspamalot\n2004\n"
     ]
    }
   ],
   "source": [
    "s = '\\tspamalot\\n2006\\b4'\n",
    "print(s)"
   ]
  },
  {
   "source": [
    "В Python реализовано несколько видов строк, которые обозначаются разными префиксами перед открывающей кавычкой. Обычные строки не используют никаких кавычек. Обратите внимание, что при использовании функции ```print``` специальные символы были интерпретированы как невидимые. Для того, чтобы оставить эти символы \"как есть\" в Python используется префикс ```r```, означающий \"сырые\" строки. В таких строках экранированные символы, остаются без изменений."
   ],
   "cell_type": "markdown",
   "metadata": {}
  },
  {
   "cell_type": "code",
   "execution_count": 10,
   "metadata": {},
   "outputs": [
    {
     "output_type": "stream",
     "name": "stdout",
     "text": [
      "\\tspamalot\\n2006\\b4\n"
     ]
    }
   ],
   "source": [
    "s = r'\\tspamalot\\n2006\\b4'\n",
    "print(s)"
   ]
  },
  {
   "source": [
    "Еще один вид строк - это байтовые строки. Они обозначаются префиксом ```b```. При этом тип такой строки будет уже не ```str```, а ```bytes```."
   ],
   "cell_type": "markdown",
   "metadata": {}
  },
  {
   "cell_type": "code",
   "execution_count": 13,
   "metadata": {},
   "outputs": [
    {
     "output_type": "stream",
     "name": "stdout",
     "text": [
      "b'\\tspamalot\\n2006\\x084'\ntype(s) -> <class 'bytes'>\n"
     ]
    }
   ],
   "source": [
    "s = b'\\tspamalot\\n2006\\b4'\n",
    "print(s)\n",
    "print('type(s) ->', type(s))"
   ]
  },
  {
   "source": [
    "Подробнее со спец. символами и префиксами строк можно ознакомиться в [документации](https://docs.python.org/3.9/reference/lexical_analysis.html#strings)."
   ],
   "cell_type": "markdown",
   "metadata": {}
  },
  {
   "source": [
    "### Операции со строками\n",
    "\n",
    "Строки это одна из коллекций. Одной из базовый операций с коллекциями является получение её длины. Для этого в Python используется встроенная функций ```len```. В качестве аргумента она принимает любую коллекцию."
   ],
   "cell_type": "markdown",
   "metadata": {}
  },
  {
   "cell_type": "code",
   "execution_count": 14,
   "metadata": {},
   "outputs": [
    {
     "output_type": "stream",
     "name": "stdout",
     "text": [
      "len(s) -> 7\n"
     ]
    }
   ],
   "source": [
    "s = 'foo_bar'\n",
    "print('len(s) ->', len(s))"
   ]
  },
  {
   "source": [
    "Строки - это коллекция строк. Нет, не символов. В Python нет символа как отдельного типа данных. Каждый символ также является строкой. Представление строки как коллекции позволяет выполнять ряд действий, характерных для коллекций, например, брать элемент по индексу или брать срез. Индексирование любой последовательности в Python, как и в большинстве других языков, начинается с нуля. Для получения элемента по его индексу достаточно указать коллекцию и в квадратных скобках указать его индекс."
   ],
   "cell_type": "markdown",
   "metadata": {}
  },
  {
   "cell_type": "code",
   "execution_count": 15,
   "metadata": {},
   "outputs": [
    {
     "output_type": "stream",
     "name": "stdout",
     "text": [
      "s[0] = f\ns[1] = o\ntype(s[0]) -> <class 'str'>\ntype(s[1]) -> <class 'str'>\n"
     ]
    }
   ],
   "source": [
    "s = 'foo_bar'\n",
    "print('s[0] =', s[0])\n",
    "print('s[1] =', s[1])\n",
    "print('type(s[0]) ->', type(s[0]))\n",
    "print('type(s[1]) ->', type(s[1]))"
   ]
  },
  {
   "source": [
    "Тот факт, что один символ в Python тоже является строкой позволяет бесконечно обращаться по индексу."
   ],
   "cell_type": "markdown",
   "metadata": {}
  },
  {
   "cell_type": "code",
   "execution_count": 16,
   "metadata": {},
   "outputs": [
    {
     "output_type": "stream",
     "name": "stdout",
     "text": [
      "s[2] = g\ns[2][0] = g\ns[2][0][0][0][0][0] = g\n"
     ]
    }
   ],
   "source": [
    "s = 'eggs'\n",
    "print('s[2] =', s[2])\n",
    "print('s[2][0] =', s[2][0])\n",
    "print('s[2][0][0][0][0][0] =', s[2][0][0][0][0][0])"
   ]
  },
  {
   "source": [
    "В Python существуют не только неотрицательные индексы, но и отрицательные. В этом случае индекс равный ```-1``` указывает на последний элемент коллекции. Использование отрицательных индексов, особенно ```-1```, очень полезно. Это позволяет удобно получать последний элемент коллекции, без необходимости писать длинной выражение ```len(s) - 1```. Обратите внимание, что для получения последнего элемента от длины необходимо отнять 1, т. к. индексация начинается с нуля."
   ],
   "cell_type": "markdown",
   "metadata": {}
  },
  {
   "cell_type": "code",
   "execution_count": 17,
   "metadata": {},
   "outputs": [
    {
     "output_type": "stream",
     "name": "stdout",
     "text": [
      "s[0] = s\ns[-1] = m\ns[len(s) - 1] = m\n"
     ]
    }
   ],
   "source": [
    "s = 'spiced ham'\n",
    "print('s[0] =', s[0])\n",
    "print('s[-1] =', s[-1])\n",
    "print('s[len(s) - 1] =', s[len(s) - 1])"
   ]
  },
  {
   "source": [
    "На следующей схеме показано каким индексам какие элементы соответствуют. В верхней части указаны отрицательные индексы, а в нижней неотрицательные.\n",
    "\n",
    "<img src=\"image/index.png\" align=\"center\">\n",
    "\n",
    "Стоит помнить, что обращение к несуществующим индексам вызывает ошибку ```IndexError```. "
   ],
   "cell_type": "markdown",
   "metadata": {}
  },
  {
   "cell_type": "code",
   "execution_count": 18,
   "metadata": {},
   "outputs": [
    {
     "output_type": "error",
     "ename": "IndexError",
     "evalue": "string index out of range",
     "traceback": [
      "\u001b[1;31m---------------------------------------------------------------------------\u001b[0m",
      "\u001b[1;31mIndexError\u001b[0m                                Traceback (most recent call last)",
      "\u001b[1;32m<ipython-input-18-98ddf7c25a19>\u001b[0m in \u001b[0;36m<module>\u001b[1;34m\u001b[0m\n\u001b[0;32m      1\u001b[0m \u001b[0ms\u001b[0m \u001b[1;33m=\u001b[0m \u001b[1;34m'pacman'\u001b[0m\u001b[1;33m\u001b[0m\u001b[1;33m\u001b[0m\u001b[0m\n\u001b[1;32m----> 2\u001b[1;33m \u001b[0mprint\u001b[0m\u001b[1;33m(\u001b[0m\u001b[0ms\u001b[0m\u001b[1;33m[\u001b[0m\u001b[1;36m6\u001b[0m\u001b[1;33m]\u001b[0m\u001b[1;33m)\u001b[0m\u001b[1;33m\u001b[0m\u001b[1;33m\u001b[0m\u001b[0m\n\u001b[0m",
      "\u001b[1;31mIndexError\u001b[0m: string index out of range"
     ]
    }
   ],
   "source": [
    "s = 'pacman'\n",
    "print(s[6])"
   ]
  },
  {
   "source": [
    "### Форматирование строк"
   ],
   "cell_type": "markdown",
   "metadata": {}
  },
  {
   "cell_type": "code",
   "execution_count": null,
   "metadata": {},
   "outputs": [],
   "source": []
  },
  {
   "source": [
    "## Списки (```list```)\n",
    "\n",
    "Одной из базовых коллекций в Python являются списки. Списки призваны хранить упорядоченный набор элементов, которые могут быть разных типов. Литералами списка выступают квадратные скобки ```[]```. Списки имеют тип ```list```. Для создания пустого списка достаточно использовать следующие выражения:"
   ],
   "cell_type": "markdown",
   "metadata": {}
  },
  {
   "cell_type": "code",
   "execution_count": 1,
   "metadata": {},
   "outputs": [
    {
     "output_type": "stream",
     "name": "stdout",
     "text": [
      "type(xs) -> <class 'list'>\ntype(ys) -> <class 'list'>\n"
     ]
    }
   ],
   "source": [
    "xs = []\n",
    "ys = list()\n",
    "print('type(xs) ->', type(xs))\n",
    "print('type(ys) ->', type(ys))"
   ]
  },
  {
   "source": [
    "В списках разрешено хранить объекты любых типов. Однако, их рекомендуется использовать для хранения однотипных данных, например, только чисел, только строк и тд. "
   ],
   "cell_type": "markdown",
   "metadata": {}
  },
  {
   "cell_type": "code",
   "execution_count": 2,
   "metadata": {},
   "outputs": [
    {
     "output_type": "stream",
     "name": "stdout",
     "text": [
      "[42, 42.0, 'foo_bar', [1, 2, 3], None, False]\n"
     ]
    }
   ],
   "source": [
    "xs = [42, 42., 'foo_bar', [1, 2, 3], None, False]\n",
    "print(xs)"
   ]
  },
  {
   "source": [
    "### Операции со списками"
   ],
   "cell_type": "markdown",
   "metadata": {}
  },
  {
   "cell_type": "code",
   "execution_count": null,
   "metadata": {},
   "outputs": [],
   "source": []
  },
  {
   "source": [
    "## Словари  (```dict```)"
   ],
   "cell_type": "markdown",
   "metadata": {}
  },
  {
   "cell_type": "code",
   "execution_count": null,
   "metadata": {},
   "outputs": [],
   "source": []
  },
  {
   "source": [
    "### Операции со словарями"
   ],
   "cell_type": "markdown",
   "metadata": {}
  },
  {
   "cell_type": "code",
   "execution_count": null,
   "metadata": {},
   "outputs": [],
   "source": []
  },
  {
   "source": [
    "## Кортежи (```tuple```)"
   ],
   "cell_type": "markdown",
   "metadata": {}
  },
  {
   "cell_type": "code",
   "execution_count": null,
   "metadata": {},
   "outputs": [],
   "source": []
  },
  {
   "source": [
    "### Операции с кортежами"
   ],
   "cell_type": "markdown",
   "metadata": {}
  },
  {
   "cell_type": "code",
   "execution_count": null,
   "metadata": {},
   "outputs": [],
   "source": []
  },
  {
   "source": [
    "## Множества (```set```)"
   ],
   "cell_type": "markdown",
   "metadata": {}
  },
  {
   "cell_type": "code",
   "execution_count": null,
   "metadata": {},
   "outputs": [],
   "source": []
  },
  {
   "source": [
    "### Операции со множествами"
   ],
   "cell_type": "markdown",
   "metadata": {}
  },
  {
   "cell_type": "code",
   "execution_count": null,
   "metadata": {},
   "outputs": [],
   "source": []
  },
  {
   "source": [
    "## Преобразования коллекций"
   ],
   "cell_type": "markdown",
   "metadata": {}
  },
  {
   "cell_type": "code",
   "execution_count": null,
   "metadata": {},
   "outputs": [],
   "source": []
  },
  {
   "source": [
    "## Полезные сслыки\n",
    "\n",
    "1. [Документация по структурам данных](https://docs.python.org/3/tutorial/datastructures.html)\n",
    "2. "
   ],
   "cell_type": "markdown",
   "metadata": {}
  }
 ]
}