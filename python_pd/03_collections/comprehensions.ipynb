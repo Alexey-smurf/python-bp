{
 "metadata": {
  "language_info": {
   "codemirror_mode": {
    "name": "ipython",
    "version": 3
   },
   "file_extension": ".py",
   "mimetype": "text/x-python",
   "name": "python",
   "nbconvert_exporter": "python",
   "pygments_lexer": "ipython3",
   "version": "3.9.0-final"
  },
  "orig_nbformat": 2,
  "kernelspec": {
   "name": "python3",
   "display_name": "Python 3"
  }
 },
 "nbformat": 4,
 "nbformat_minor": 2,
 "cells": [
  {
   "source": [
    "# Включения\n",
    "\n",
    "Включения - это специальные синтаксические конструкции для быстрого и короткого создания коллекций. Синтаксически конструкцию включения можно разбить на три отдельных составляющих:\n",
    "- цикл ```for``` (Обязательная часть)\n",
    "- условие фильтрации\n",
    "- условие изменения\n",
    "\n",
    "Цикл является обязательной частью включения, а оба условия не обязательны. Они могут присутствовать или отсутствовать в зависимости от задачи. Условие фильтрации отвечает за то какие элементы попадут в итоговый список, а какие будут отброшены, т.е. фильтрует значения по определенному условию. Условие изменения преобразует элементы по какому-либо правилу и заданному условию. \n",
    "\n",
    "<img src=\"image/comprehensions.png\" align=\"center\">\n",
    "\n",
    "Все конструкции включений имеют свой эквивалент в виде \"стандартной\" конструкции цикла.\n",
    "\n",
    "## Включения в список (list comprehensions)\n",
    "\n",
    "Включения в список или list comprehensions используются для создания списков. Эти конструкции записываются внутри квадратных скобок. Самая простая конструкция включения в список или спискового включения содержит только цикл. Она выглядит следующим образом."
   ],
   "cell_type": "markdown",
   "metadata": {}
  },
  {
   "source": [
    "a = [i for i in range(5)]\n",
    "print(f'{a = }')"
   ],
   "cell_type": "code",
   "metadata": {},
   "execution_count": null,
   "outputs": []
  },
  {
   "source": [
    "Создавать список чисел таким образом не совсем правильно. Гораздо более короче будет сразу преобразовать объект ```range``` в список."
   ],
   "cell_type": "markdown",
   "metadata": {}
  },
  {
   "cell_type": "code",
   "execution_count": null,
   "metadata": {},
   "outputs": [],
   "source": [
    "a = list(range(5))\n",
    "print(f'{a = }')"
   ]
  },
  {
   "source": [
    "Однако с помощью такой конструкции можно легко создать список, заполненный, например, нулями. Обратите внимание, что здесь используется нижнее подчеркивание вместо переменной ```i```, т.к. она нам не нужна."
   ],
   "cell_type": "markdown",
   "metadata": {}
  },
  {
   "cell_type": "code",
   "execution_count": null,
   "metadata": {},
   "outputs": [],
   "source": [
    "a = [0 for _ in range(5)]\n",
    "print(f'{a = }')"
   ]
  },
  {
   "source": [
    "Это простейшее включение будет эквивалентно обычной конструкции цикла, где в теле цикла будет добавляться новый элемент списка."
   ],
   "cell_type": "markdown",
   "metadata": {}
  },
  {
   "cell_type": "code",
   "execution_count": null,
   "metadata": {},
   "outputs": [],
   "source": [
    "a = []\n",
    "for i in range(5):\n",
    "    a.append(i)\n",
    "print(f'{a = }')"
   ]
  },
  {
   "cell_type": "code",
   "execution_count": null,
   "metadata": {},
   "outputs": [],
   "source": []
  },
  {
   "cell_type": "code",
   "execution_count": 17,
   "metadata": {},
   "outputs": [
    {
     "output_type": "stream",
     "name": "stdout",
     "text": [
      "a = ['сake is a lie']\n"
     ]
    }
   ],
   "source": [
    "words = ['spam', 'foo', 'python', 'bar', 'monty', 'сake is a lie']\n",
    "vowel_letters = set('eyuioa')\n",
    "a = [i for i in words if len(set(i) & vowel_letters) >= 3]\n",
    "print(f'{a = }')"
   ]
  },
  {
   "source": [
    "[L-системы](https://en.wikipedia.org/wiki/L-system)\n",
    "[кривая дракона](https://en.wikipedia.org/wiki/Dragon_curve)"
   ],
   "cell_type": "markdown",
   "metadata": {}
  },
  {
   "cell_type": "code",
   "execution_count": 26,
   "metadata": {},
   "outputs": [
    {
     "output_type": "stream",
     "name": "stdout",
     "text": [
      "0: fx\n1: fx+yf+\n2: fx+yf++-fx-yf+\n3: fx+yf++-fx-yf++-fx+yf+--fx-yf+\n4: fx+yf++-fx-yf++-fx+yf+--fx-yf++-fx+yf++-fx-yf+--fx+yf+--fx-yf+\n"
     ]
    }
   ],
   "source": [
    "s = 'fx'\n",
    "const = 'f+-'\n",
    "d = {\n",
    "    'x': 'x+yf+',\n",
    "    'y': '-fx-y',\n",
    "}\n",
    "\n",
    "print(f'{0}: {s}')\n",
    "for i in range(1, 5):\n",
    "    s = ''.join([c if c in const else d[c] for c in s])\n",
    "    print(f'{i}: {s}')"
   ]
  },
  {
   "cell_type": "code",
   "execution_count": 21,
   "metadata": {},
   "outputs": [
    {
     "output_type": "stream",
     "name": "stdout",
     "text": [
      "lemonlemonlemonlem\n"
     ]
    }
   ],
   "source": [
    "s = 'lemon'\n",
    "\n",
    "a = ''.join([s[i % len(s)] for i in range(18)])\n",
    "print(a)"
   ]
  },
  {
   "source": [
    "## Включения в словарь (dict comprehensions)"
   ],
   "cell_type": "markdown",
   "metadata": {}
  },
  {
   "cell_type": "code",
   "execution_count": 19,
   "metadata": {},
   "outputs": [
    {
     "output_type": "stream",
     "name": "stdout",
     "text": [
      "d = {97: 'a', 99: 'c', 101: 'e', 103: 'g', 105: 'i', 107: 'k', 109: 'm', 111: 'o', 113: 'q', 115: 's', 117: 'u', 119: 'w', 121: 'y'}\n"
     ]
    }
   ],
   "source": [
    "d = {i: chr(i) for i in range(97, 123, 2)}\n",
    "print(f'{d = }')"
   ]
  },
  {
   "source": [
    "## Включения в множество (set comprehensions)"
   ],
   "cell_type": "markdown",
   "metadata": {}
  },
  {
   "cell_type": "code",
   "execution_count": null,
   "metadata": {},
   "outputs": [],
   "source": [
    "a = [i for i in range(2, n+1) if i not in {j for k in range(2, n//2) for j in range(2*k, n+1, k)}]\n",
    "print(a)"
   ]
  },
  {
   "source": [
    "## Включения в кортеж"
   ],
   "cell_type": "markdown",
   "metadata": {}
  },
  {
   "cell_type": "code",
   "execution_count": null,
   "metadata": {},
   "outputs": [],
   "source": []
  },
  {
   "source": [
    "# Полезные ссылки\n",
    "\n",
    "- [Документация по list comprehensions](https://docs.python.org/3/tutorial/datastructures.html#list-comprehensions)\n",
    "- [When to Use a List Comprehension in Python](https://realpython.com/list-comprehension-python/)"
   ],
   "cell_type": "markdown",
   "metadata": {}
  }
 ]
}