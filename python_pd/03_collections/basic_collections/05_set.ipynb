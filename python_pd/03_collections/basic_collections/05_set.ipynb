{
 "metadata": {
  "language_info": {
   "codemirror_mode": {
    "name": "ipython",
    "version": 3
   },
   "file_extension": ".py",
   "mimetype": "text/x-python",
   "name": "python",
   "nbconvert_exporter": "python",
   "pygments_lexer": "ipython3",
   "version": "3.9.0-final"
  },
  "orig_nbformat": 2,
  "kernelspec": {
   "name": "python3",
   "display_name": "Python 3"
  }
 },
 "nbformat": 4,
 "nbformat_minor": 2,
 "cells": [
  {
   "source": [
    "# Множества (```set```)\n",
    "\n",
    "Множества в Python полностью аналогичны одноименным математическим объектам. Множества -- это неупорядоченный набор уникальных элементов. В Python они представлены типом ```set```. Литералами множеств являются фигурные скобки, в точности как в математической нотации. Однако нельзя создать пустое множество с помощью выражения ```{}```, в этом случае будет создан пустой словарь. Пустое множество можно создать используя вызов функции ```set()```."
   ],
   "cell_type": "markdown",
   "metadata": {}
  },
  {
   "cell_type": "code",
   "execution_count": 7,
   "metadata": {},
   "outputs": [
    {
     "output_type": "stream",
     "name": "stdout",
     "text": [
      "a = set(), type(a) = <class 'set'>\nb = {1, 2, 3}, type(b) = <class 'set'>\n"
     ]
    }
   ],
   "source": [
    "a = set()\n",
    "b = {1, 2, 3}\n",
    "print(f'{a = }, {type(a) = }')\n",
    "print(f'{b = }, {type(b) = }')"
   ]
  },
  {
   "source": [
    "Элементы множества должны быть хешируемыми, это означает, что в множествах можно хранить только неизменяемые типы. При этом само множество является изменяемым типом, а значит нехешируемо. Обратите внимание, что кортежи являются хешируемыми, только в том случае, если все их элементы хешируемы. В примере ниже в запись множества были добавлены элементы ```1``` и ```True```, которые являются эквивалентными. Поэтому при создании множества объект ```True``` был исключен как дубликат."
   ],
   "cell_type": "markdown",
   "metadata": {}
  },
  {
   "cell_type": "code",
   "execution_count": 8,
   "metadata": {},
   "outputs": [
    {
     "output_type": "stream",
     "name": "stdout",
     "text": [
      "a = {False, 1, 2.0, (1, 2, 3), None, (3+4j), <class 'tuple'>, 'monty_python'}\n"
     ]
    }
   ],
   "source": [
    "a = {\n",
    "    1, 2.0, 3 + 4j,\n",
    "    'monty_python',\n",
    "    True, False, None,\n",
    "    (1, 2, 3),\n",
    "    tuple,\n",
    "}\n",
    "print(f'{a = }')"
   ]
  },
  {
   "source": [
    "Такое поведение делает из множеств отличный инструмент для удаления дубликатов (поиск уникальных элементов) из последовательностей."
   ],
   "cell_type": "markdown",
   "metadata": {}
  },
  {
   "cell_type": "code",
   "execution_count": 9,
   "metadata": {},
   "outputs": [
    {
     "output_type": "stream",
     "name": "stdout",
     "text": [
      "set(a) = {3, 1, 42, 2}\n"
     ]
    }
   ],
   "source": [
    "a = [42, 1, 2, 1, 3, 1, 2]\n",
    "print(f'{set(a) = }')"
   ]
  },
  {
   "source": [
    "## Операции со множествами\n",
    "\n",
    "Можно узнать длину множества с помощью стандартной функции ```len```."
   ],
   "cell_type": "markdown",
   "metadata": {}
  },
  {
   "cell_type": "code",
   "execution_count": 10,
   "metadata": {},
   "outputs": [
    {
     "output_type": "stream",
     "name": "stdout",
     "text": [
      "len(a) = 3\n"
     ]
    }
   ],
   "source": [
    "a = {1, 2, 3}\n",
    "print(f'{len(a) = }')"
   ]
  },
  {
   "source": [
    "Множества в Python реализованы на основе хэш-таблиц. В связи с этим множества являются неупорядоченными коллекциями. Это приводит к тому, что во множествах нельзя обращаться к элементу по индексу и нельзя брать срез. "
   ],
   "cell_type": "markdown",
   "metadata": {}
  },
  {
   "cell_type": "code",
   "execution_count": 2,
   "metadata": {},
   "outputs": [
    {
     "output_type": "stream",
     "name": "stdout",
     "text": [
      "b = {0, 3, 'abc', -1, 42, '0'}\n"
     ]
    },
    {
     "output_type": "error",
     "ename": "TypeError",
     "evalue": "'set' object is not subscriptable",
     "traceback": [
      "\u001b[1;31m---------------------------------------------------------------------------\u001b[0m",
      "\u001b[1;31mTypeError\u001b[0m                                 Traceback (most recent call last)",
      "\u001b[1;32m<ipython-input-2-c7187d732e17>\u001b[0m in \u001b[0;36m<module>\u001b[1;34m\u001b[0m\n\u001b[0;32m      1\u001b[0m \u001b[0mb\u001b[0m \u001b[1;33m=\u001b[0m \u001b[1;33m{\u001b[0m\u001b[1;36m3\u001b[0m\u001b[1;33m,\u001b[0m \u001b[1;36m42\u001b[0m\u001b[1;33m,\u001b[0m \u001b[1;34m'abc'\u001b[0m\u001b[1;33m,\u001b[0m \u001b[1;36m0\u001b[0m\u001b[1;33m,\u001b[0m \u001b[1;33m-\u001b[0m\u001b[1;36m1\u001b[0m\u001b[1;33m,\u001b[0m \u001b[1;34m'0'\u001b[0m\u001b[1;33m}\u001b[0m\u001b[1;33m\u001b[0m\u001b[1;33m\u001b[0m\u001b[0m\n\u001b[0;32m      2\u001b[0m \u001b[0mprint\u001b[0m\u001b[1;33m(\u001b[0m\u001b[1;34mf'{b = }'\u001b[0m\u001b[1;33m)\u001b[0m\u001b[1;33m\u001b[0m\u001b[1;33m\u001b[0m\u001b[0m\n\u001b[1;32m----> 3\u001b[1;33m \u001b[0mprint\u001b[0m\u001b[1;33m(\u001b[0m\u001b[1;34mf'{b[0] = }'\u001b[0m\u001b[1;33m)\u001b[0m\u001b[1;33m\u001b[0m\u001b[1;33m\u001b[0m\u001b[0m\n\u001b[0m",
      "\u001b[1;31mTypeError\u001b[0m: 'set' object is not subscriptable"
     ]
    }
   ],
   "source": [
    "b = {3, 42, 'abc', 0, -1, '0'}\n",
    "print(f'{b = }')\n",
    "print(f'{b[0] = }')"
   ]
  },
  {
   "source": [
    "Однако, множества являются итерируемыми коллекциями. Но не стоит итерироваться по ним из-за отсутствия порядка. "
   ],
   "cell_type": "markdown",
   "metadata": {}
  },
  {
   "cell_type": "code",
   "execution_count": 3,
   "metadata": {},
   "outputs": [
    {
     "output_type": "stream",
     "name": "stdout",
     "text": [
      "0\n42\n3\nabc\n"
     ]
    }
   ],
   "source": [
    "b = {3, 42, 'abc', 0}\n",
    "\n",
    "for item in b:\n",
    "    print(f'{item}')"
   ]
  },
  {
   "source": [
    "Со множествами можно выполнять все операции, предусмотренные теорией множеств, а именно брать пересечение, объединение, разность и др. Эти операции представлены несколькими способами. Можно использовать операторы ```&```, ```|```, ```-``` и другие. В этом случае оба операнда должны иметь тип ```set```. Для всех этих операций есть представление в виде соответствующих методов. Отличие операторов от методов заключается в том, что методы могут принимать не только аргументы, которые должны иметь тип ```set```, но и любой итерируемый объект. Кроме этого методы могут принимать любое количество аргументов. Дополнительно у этих операторов есть аналоги в виде in-line операторов и соответствующие методы для изменения множеств \"на месте\"."
   ],
   "cell_type": "markdown",
   "metadata": {}
  },
  {
   "source": [
    "a = {1, 2, 3, 4}\n",
    "b = {3, 4, 5, 6}\n",
    "\n",
    "print(f'Пересечение: {a & b = }')  # a и b должны быть типа set\n",
    "# a должна быть типа set, b любой итерируемый объект, может \n",
    "# принимать любое количество аргументов.\n",
    "print(f'Пересечение: {a.intersection(b) = }')\n",
    "print(f'Разность: {a - b = }')\n",
    "\n",
    "a &= b\n",
    "print(f'Пересечение (in-place): {a = }')"
   ],
   "cell_type": "code",
   "metadata": {},
   "execution_count": 6,
   "outputs": [
    {
     "output_type": "stream",
     "name": "stdout",
     "text": [
      "Пересечение: a & b = {3, 4}\nПересечение: a.intersection(b) = {3, 4}\nРазность: a - b = {1, 2}\nПересечение (in-place): a = {3, 4}\n"
     ]
    }
   ]
  },
  {
   "source": [
    "В таблице приведены операторы и методы для этих операций.\n",
    "\n",
    "| Операция                | Оператор | Метод                             |\n",
    "|-------------------------|:--------:|-----------------------------------|\n",
    "| Пересечение             | ```&```  | ```intersection```                |\n",
    "|                         | ```&=``` | ```intersection_update```         |\n",
    "| Объединение             | ```|```  | ```union```                       |\n",
    "|                         | ```|=``` | ```update```                      |\n",
    "| Разность                | ```-```  | ```difference```                  |\n",
    "|                         | ```-=``` | ```difference_update```           |\n",
    "| Симметрическая разность | ```^```  | ```symmetric_difference```        |\n",
    "|                         | ```^=``` | ```symmetric_difference_update``` |\n",
    "\n",
    "Кроме этих математический операций существует набор операций сравнения, включая оператор ```in``` для проверки элемента на вхождение в множество."
   ],
   "cell_type": "markdown",
   "metadata": {}
  },
  {
   "cell_type": "code",
   "execution_count": 11,
   "metadata": {},
   "outputs": [
    {
     "output_type": "stream",
     "name": "stdout",
     "text": [
      "Проверка наличия элемента: 1 in a = True\nb влючено в a (подмножество): b <= a = True\nb строго влючено в a (подмножество): b < a = True\nb включает a (надмножество): b >= a = False\nb строго включает a (надмножество): b > a = False\n"
     ]
    }
   ],
   "source": [
    "a = {1, 2, 3, 4}\n",
    "b = {3, 4}\n",
    "\n",
    "print(f'Проверка наличия элемента: {1 in a = }')\n",
    "print(f'b влючено в a (подмножество): {b <= a = }')\n",
    "print(f'b строго влючено в a (подмножество): {b < a = }')\n",
    "print(f'b включает a (надмножество): {b >= a = }')\n",
    "print(f'b строго включает a (надмножество): {b > a = }')"
   ]
  },
  {
   "source": [
    "Так как множества -- это изменяемый тип, то для них есть набор методов для их изменения."
   ],
   "cell_type": "markdown",
   "metadata": {}
  },
  {
   "cell_type": "code",
   "execution_count": 12,
   "metadata": {},
   "outputs": [],
   "source": [
    "a = {1, 2, 3, 4}\n",
    "a.add(5)  # добавить элемент\n",
    "b = a.pop()  # удалить элемент\n",
    "a.remove(2)  # удалить элемент по значению\n",
    "a.discard(5)  # удалить элемент по значению, если есть"
   ]
  },
  {
   "source": [
    "# Полезные ссылки\n",
    "\n",
    "- [Python и теория множеств](https://habr.com/ru/post/516858/#otnosheniya-mezhdu-mnozhestvami)"
   ],
   "cell_type": "markdown",
   "metadata": {}
  }
 ]
}