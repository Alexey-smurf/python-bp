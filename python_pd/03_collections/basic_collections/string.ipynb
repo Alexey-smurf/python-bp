{
 "metadata": {
  "language_info": {
   "codemirror_mode": {
    "name": "ipython",
    "version": 3
   },
   "file_extension": ".py",
   "mimetype": "text/x-python",
   "name": "python",
   "nbconvert_exporter": "python",
   "pygments_lexer": "ipython3",
   "version": "3.9.0-final"
  },
  "orig_nbformat": 2,
  "kernelspec": {
   "name": "python3",
   "display_name": "Python 3"
  }
 },
 "nbformat": 4,
 "nbformat_minor": 2,
 "cells": [
  {
   "source": [
    "# Строки (```str```)\n",
    "\n",
    "[Строковый тип](https://docs.python.org/3.9/library/stdtypes.html#text-sequence-type-str) данных в Python называется ```str```. Для создания строки можно использовать либо функцию ```str``` либо строковые литералы. Их в Python четыре вида: одинарные кавычки, двойные кавычки, тройные одинарные кавычки и тройные двойные кавычки. "
   ],
   "cell_type": "markdown",
   "metadata": {}
  },
  {
   "cell_type": "code",
   "execution_count": 1,
   "metadata": {},
   "outputs": [
    {
     "output_type": "stream",
     "name": "stdout",
     "text": [
      "type(s_1) -> <class 'str'>\ntype(s_2) -> <class 'str'>\ntype(s_3) -> <class 'str'>\ntype(s_4) -> <class 'str'>\n"
     ]
    }
   ],
   "source": [
    "s_1 = ''\n",
    "s_2 = \"foo\"\n",
    "s_3 = '''bar'''\n",
    "s_4 = \"\"\"baz\"\"\"\n",
    "print('type(s_1) ->', type(s_1))\n",
    "print('type(s_2) ->', type(s_2))\n",
    "print('type(s_3) ->', type(s_3))\n",
    "print('type(s_4) ->', type(s_4))"
   ]
  },
  {
   "source": [
    "Длинные строки можно оформлять в несколько строк для этого используются либо круглые скобки, либо символ ```\\```. Обрамление строки в круглые скобки позволяет переносить ее части на разные строки. Отсутствие запятых является обязательным, иначе получится не строка, а кортеж - одна из коллекций. Символ ```\\``` означает, что текущая строка не закончена, и она будет объединена со следующей."
   ],
   "cell_type": "markdown",
   "metadata": {}
  },
  {
   "cell_type": "code",
   "execution_count": 5,
   "metadata": {},
   "outputs": [
    {
     "output_type": "stream",
     "name": "stdout",
     "text": [
      "foobarbaz\nfoobarbaz\n"
     ]
    }
   ],
   "source": [
    "long_str_1 = (\n",
    "    'foo' \n",
    "    'bar' \n",
    "    'baz'\n",
    ")\n",
    "long_str_2 = 'foo' \\\n",
    "             'bar' \\\n",
    "             'baz'\n",
    "print(long_str_1)\n",
    "print(long_str_2)"
   ]
  },
  {
   "source": [
    "Внутри одинарных кавычек можно использовать дойные, а внутри тройных можно использовать одинарные и двойные без дополнительного экранирования. Использование одинарных кавычек внутри строки, созданной с помощью одинарных кавычек, потребует экранирования. Оно осуществляется с помощью символа ```\\```, который указывается перед экранируемым символом."
   ],
   "cell_type": "markdown",
   "metadata": {}
  },
  {
   "cell_type": "code",
   "execution_count": 2,
   "metadata": {},
   "outputs": [
    {
     "output_type": "stream",
     "name": "stdout",
     "text": [
      "\"Flying Circus\"\n'Monty Python'\n\"spam\", 'spam', spam\n"
     ]
    }
   ],
   "source": [
    "s_1 = '\"Flying Circus\"'\n",
    "s_2 = '\\'Monty Python\\''\n",
    "s_3 = '''\"spam\", 'spam', spam'''\n",
    "print(s_1)\n",
    "print(s_2)\n",
    "print(s_3)"
   ]
  },
  {
   "source": [
    "В строках есть целый ряд специальных символов, обозначающихся с помощью экранирования, например, перенос строки ```\\n```, табуляция ```\\t```, перевод каретки ```\\r```, backspace ```\\b``` и другие."
   ],
   "cell_type": "markdown",
   "metadata": {}
  },
  {
   "cell_type": "code",
   "execution_count": 3,
   "metadata": {},
   "outputs": [
    {
     "output_type": "stream",
     "name": "stdout",
     "text": [
      "\tspamalot\n2004\n"
     ]
    }
   ],
   "source": [
    "s = '\\tspamalot\\n2006\\b4'\n",
    "print(s)"
   ]
  },
  {
   "source": [
    "В Python реализовано несколько видов строк, которые обозначаются разными префиксами перед открывающей кавычкой. Обычные строки не используют никаких кавычек. Обратите внимание, что при использовании функции ```print``` специальные символы были интерпретированы как невидимые. Для того, чтобы оставить эти символы \"как есть\" в Python используется префикс ```r```, означающий \"сырые\" строки. В таких строках экранированные символы, остаются без изменений."
   ],
   "cell_type": "markdown",
   "metadata": {}
  },
  {
   "cell_type": "code",
   "execution_count": 4,
   "metadata": {},
   "outputs": [
    {
     "output_type": "stream",
     "name": "stdout",
     "text": [
      "\\tspamalot\\n2006\\b4\n"
     ]
    }
   ],
   "source": [
    "s = r'\\tspamalot\\n2006\\b4'\n",
    "print(s)"
   ]
  },
  {
   "source": [
    "Еще один вид строк - это байтовые строки. Они обозначаются префиксом ```b```. При этом тип такой строки будет уже не ```str```, а ```bytes```."
   ],
   "cell_type": "markdown",
   "metadata": {}
  },
  {
   "cell_type": "code",
   "execution_count": 5,
   "metadata": {},
   "outputs": [
    {
     "output_type": "stream",
     "name": "stdout",
     "text": [
      "b'\\tspamalot\\n2006\\x084'\n",
      "type(s) -> <class 'bytes'>\n"
     ]
    }
   ],
   "source": [
    "s = b'\\tspamalot\\n2006\\b4'\n",
    "print(s)\n",
    "print('type(s) ->', type(s))"
   ]
  },
  {
   "source": [
    "Подробнее со спец. символами и префиксами строк можно ознакомиться в [документации](https://docs.python.org/3.9/reference/lexical_analysis.html#strings)."
   ],
   "cell_type": "markdown",
   "metadata": {}
  },
  {
   "source": [
    "## Операции со строками\n",
    "\n",
    "Строки позволяют использовать некоторые арифметические операторы и их in-place аналоги. Например, ```+``` для конкатенации (объединения), а ```*``` для размножения строки."
   ],
   "cell_type": "markdown",
   "metadata": {}
  },
  {
   "cell_type": "code",
   "execution_count": 7,
   "metadata": {},
   "outputs": [
    {
     "output_type": "stream",
     "name": "stdout",
     "text": [
      "a + b = -*\na * 10 = ----------\na += b -> -*\na *= 10 -> -*-*-*-*-*-*-*-*-*-*\n"
     ]
    }
   ],
   "source": [
    "a = '-'\n",
    "b = '*'\n",
    "print('a + b =', a + b)\n",
    "print('a * 10 =', a * 10)\n",
    "\n",
    "a += b\n",
    "print('a += b ->', a)\n",
    "a *= 10\n",
    "print('a *= 10 ->', a)"
   ]
  },
  {
   "source": [
    "Строки это одна из коллекций. Одной из базовый операций с коллекциями является получение её длины. Для этого в Python используется встроенная функций ```len```. В качестве аргумента она принимает любую коллекцию."
   ],
   "cell_type": "markdown",
   "metadata": {}
  },
  {
   "cell_type": "code",
   "execution_count": 6,
   "metadata": {},
   "outputs": [
    {
     "output_type": "stream",
     "name": "stdout",
     "text": [
      "len(s) -> 7\n"
     ]
    }
   ],
   "source": [
    "s = 'foo_bar'\n",
    "print('len(s) ->', len(s))"
   ]
  },
  {
   "source": [
    "Строки - это коллекция строк. Нет, не символов. В Python нет символа как отдельного типа данных. Каждый символ также является строкой. Представление строки как коллекции позволяет выполнять ряд действий, характерных для коллекций, например, брать элемент по индексу или брать срез. Индексирование любой последовательности в Python, как и в большинстве других языков, начинается с нуля. Для получения элемента по его индексу достаточно указать коллекцию и в квадратных скобках указать его индекс."
   ],
   "cell_type": "markdown",
   "metadata": {}
  },
  {
   "cell_type": "code",
   "execution_count": 7,
   "metadata": {},
   "outputs": [
    {
     "output_type": "stream",
     "name": "stdout",
     "text": [
      "s[0] = f\ns[1] = o\ntype(s[0]) -> <class 'str'>\ntype(s[1]) -> <class 'str'>\n"
     ]
    }
   ],
   "source": [
    "s = 'foo_bar'\n",
    "print('s[0] =', s[0])\n",
    "print('s[1] =', s[1])\n",
    "print('type(s[0]) ->', type(s[0]))\n",
    "print('type(s[1]) ->', type(s[1]))"
   ]
  },
  {
   "source": [
    "Тот факт, что один символ в Python тоже является строкой позволяет бесконечно обращаться по индексу."
   ],
   "cell_type": "markdown",
   "metadata": {}
  },
  {
   "cell_type": "code",
   "execution_count": 8,
   "metadata": {},
   "outputs": [
    {
     "output_type": "stream",
     "name": "stdout",
     "text": [
      "s[2] = g\ns[2][0] = g\ns[2][0][0][0][0][0] = g\n"
     ]
    }
   ],
   "source": [
    "s = 'eggs'\n",
    "print('s[2] =', s[2])\n",
    "print('s[2][0] =', s[2][0])\n",
    "print('s[2][0][0][0][0][0] =', s[2][0][0][0][0][0])"
   ]
  },
  {
   "source": [
    "В Python существуют не только неотрицательные индексы, но и отрицательные. В этом случае индекс равный ```-1``` указывает на последний элемент коллекции. Использование отрицательных индексов, особенно ```-1```, очень полезно. Это позволяет удобно получать последний элемент коллекции, без необходимости писать длинной выражение ```len(s) - 1```. Обратите внимание, что для получения последнего элемента от длины необходимо отнять 1, т. к. индексация начинается с нуля."
   ],
   "cell_type": "markdown",
   "metadata": {}
  },
  {
   "cell_type": "code",
   "execution_count": 9,
   "metadata": {},
   "outputs": [
    {
     "output_type": "stream",
     "name": "stdout",
     "text": [
      "s[0] = s\ns[-1] = m\ns[len(s) - 1] = m\n"
     ]
    }
   ],
   "source": [
    "s = 'spiced ham'\n",
    "print('s[0] =', s[0])\n",
    "print('s[-1] =', s[-1])\n",
    "print('s[len(s) - 1] =', s[len(s) - 1])"
   ]
  },
  {
   "source": [
    "На следующей схеме показано каким индексам какие элементы соответствуют. В верхней части указаны отрицательные индексы, а в нижней неотрицательные.\n",
    "\n",
    "<img src=\"../image/index.png\" align=\"center\">\n",
    "\n",
    "Стоит помнить, что обращение к несуществующим индексам вызывает ошибку ```IndexError```. "
   ],
   "cell_type": "markdown",
   "metadata": {}
  },
  {
   "cell_type": "code",
   "execution_count": 10,
   "metadata": {},
   "outputs": [
    {
     "output_type": "error",
     "ename": "IndexError",
     "evalue": "string index out of range",
     "traceback": [
      "\u001b[1;31m---------------------------------------------------------------------------\u001b[0m",
      "\u001b[1;31mIndexError\u001b[0m                                Traceback (most recent call last)",
      "\u001b[1;32m<ipython-input-10-98ddf7c25a19>\u001b[0m in \u001b[0;36m<module>\u001b[1;34m\u001b[0m\n\u001b[0;32m      1\u001b[0m \u001b[0ms\u001b[0m \u001b[1;33m=\u001b[0m \u001b[1;34m'pacman'\u001b[0m\u001b[1;33m\u001b[0m\u001b[1;33m\u001b[0m\u001b[0m\n\u001b[1;32m----> 2\u001b[1;33m \u001b[0mprint\u001b[0m\u001b[1;33m(\u001b[0m\u001b[0ms\u001b[0m\u001b[1;33m[\u001b[0m\u001b[1;36m6\u001b[0m\u001b[1;33m]\u001b[0m\u001b[1;33m)\u001b[0m\u001b[1;33m\u001b[0m\u001b[1;33m\u001b[0m\u001b[0m\n\u001b[0m",
      "\u001b[1;31mIndexError\u001b[0m: string index out of range"
     ]
    }
   ],
   "source": [
    "s = 'pacman'\n",
    "print(s[6])"
   ]
  },
  {
   "source": [
    "Взятие среза (```slice```) - это операция выбора подпоследовательности из исходной последовательности. Срезы получают, используя квадратные скобки и указывая три значения: начальное значение ```start```, конечное значение ```stop``` и шаг ```step```. Синтаксически это выглядит следующим образом:\n",
    "\n",
    "```python\n",
    "sequence[start:stop:step]\n",
    "```\n",
    "\n",
    "Начальное значение или ```start``` определяет начиная с какого элемента будет браться подпоследовательность или срез. Конечное значение или ```stop``` определяет верхнюю границу. Шаг (```step```) задает интервалы, через которые берутся элементы, например можно взять каждый второй элемент. Синтаксис среза аналогичен математическому интервалу $[start, stop)$, т. е. граница ```stop``` не включается. Все эти элементы не обязательны. По умолчанию ```start``` равен нулю, ```stop``` равен длине последовательности, а ```step``` равен 1."
   ],
   "cell_type": "markdown",
   "metadata": {}
  },
  {
   "cell_type": "code",
   "execution_count": 21,
   "metadata": {},
   "outputs": [
    {
     "output_type": "stream",
     "name": "stdout",
     "text": [
      "Все последовательность: 123456789\nВсе последовательность: 123456789\nПоследовательность в обратном порядке: 987654321\nСрез одного элемента: 1\nПервые три символа: 123\nПоследние 4-е символа: 6789\nКаждый второй символ: 13579\nКаждый второй символ от 7-го до 2-го (в обратном порядке): 864\nКаждый третий символ от 2-го до 7-го: 36\n"
     ]
    }
   ],
   "source": [
    "s = '123456789'\n",
    "print('Все последовательность:', s[:])\n",
    "print('Все последовательность:', s[::])\n",
    "print('Последовательность в обратном порядке:', s[::-1])\n",
    "print('Срез одного элемента:', s[0:1])\n",
    "print('Первые три символа:', s[:3])\n",
    "print('Последние 4-е символа:', s[-4:])\n",
    "print('Каждый второй символ:', s[::2])\n",
    "print('Каждый второй символ от 7-го до 2-го (в обратном порядке):', s[7:2:-2])\n",
    "print('Каждый третий символ от 2-го до 7-го:', s[2:7:3])"
   ]
  },
  {
   "source": [
    "Срезы несколько отличаются от простого индексирования. Границы среза могут выходить за допустимые границы коллекции. При этом никаких исключений появляться не будет. Если указан срез, который не может содержать никаких элементов, например, как в последнем примере ниже, то такой срез будет возвращать пустую коллекцию."
   ],
   "cell_type": "markdown",
   "metadata": {}
  },
  {
   "cell_type": "code",
   "execution_count": 20,
   "metadata": {},
   "outputs": [
    {
     "output_type": "stream",
     "name": "stdout",
     "text": [
      "stop больше длины коллекции: 16\nstop больше длины коллекции: 94\nstep больше длины коллекции: 1\nstart больше длины коллекции: \n"
     ]
    }
   ],
   "source": [
    "s = '123456789'\n",
    "print('stop больше длины коллекции:', s[:20:5])\n",
    "print('stop больше длины коллекции:', s[:-20:-5])\n",
    "print('step больше длины коллекции:', s[::10])\n",
    "print('start больше длины коллекции:', s[10:])"
   ]
  },
  {
   "cell_type": "code",
   "execution_count": 30,
   "metadata": {},
   "outputs": [
    {
     "output_type": "stream",
     "name": "stdout",
     "text": [
      "Положительные границы и отрицательный шаг: 7654\nОтрицательные границы и отрицательный шаг: 7654\n"
     ]
    }
   ],
   "source": [
    "s = '123456789'\n",
    "print('Положительные границы и отрицательный шаг:', s[6:2:-1])\n",
    "print('Отрицательные границы и отрицательный шаг:', s[-3:-7:-1])"
   ]
  },
  {
   "source": [
    "Бывают ситуации, когда нужно брать один и тот же срез в разных местах программы. В этом случае постоянно писать его было бы не удобно. Для этого в Python существует специальный объект ```slice```. Его можно создать с помощью одноименной функции ```slice```. Эта функция может принимать от одного до трех аргументов, соответствующих значениям ```start```, ```stop```, ```step```. Применять срезы, созданные таким образом, достаточно просто. \n",
    "\n",
    "```python\n",
    "sequence[my_slice]\n",
    "```\n",
    "\n",
    "Это существенно повышает читаемость кода, когда необходимо использовать один и тот же срез несколько раз."
   ],
   "cell_type": "markdown",
   "metadata": {}
  },
  {
   "cell_type": "code",
   "execution_count": 33,
   "metadata": {},
   "outputs": [
    {
     "output_type": "stream",
     "name": "stdout",
     "text": [
      "год: 2020\nмесяц: 11\nдень: 08\n"
     ]
    }
   ],
   "source": [
    "YEAR = slice(4)  # указан только stop\n",
    "MONTH = slice(5, 7)  # указаны start и stop, step поумолчанию равен 1\n",
    "DAY = slice(8, 10)\n",
    "\n",
    "date = '2020-11-08'\n",
    "print('год:', date[YEAR])\n",
    "print('месяц:', date[MONTH])\n",
    "print('день:', date[DAY])"
   ]
  },
  {
   "source": [
    "## Методы строк\n",
    "\n",
    "Строки имеют большое количество разных методов, которые предлагают разные способы обработки строк. Все эти методы можно разделить на две группы. Первая группа - это методы для проверки каких-либо правил, обычно они начинаются с префикса ```is``` и возвращают ```True``` или ```False```. Вторая группа - это методы для манипуляции строкой.\n",
    "\n",
    "В строках префиксом называют подстроку, с которой начинается строка. У строки может быть несколько префиксов. Суффикс -- это, наоборот, подстрока, которой заканчивается исходная строка.\n",
    "\n",
    "<img src=\"../image/prefix_suffix.png\" align=\"center\">\n",
    "\n",
    "Вот некоторые методы проверок:\n",
    "- ```isdigit``` - строка состоит из цифр\n",
    "- ```isalpha``` - строка состоит из буквенных символов\n",
    "- ```islower``` - строка в нижнем регистре\n",
    "- ```isspace``` - строка состоит только из пробельных символов\n",
    "- и [другие](https://docs.python.org/3.9/library/stdtypes.html#text-sequence-type-str)"
   ],
   "cell_type": "markdown",
   "metadata": {}
  },
  {
   "cell_type": "code",
   "execution_count": 35,
   "metadata": {},
   "outputs": [
    {
     "output_type": "stream",
     "name": "stdout",
     "text": [
      "\"42\".isdigit() -> True\n\"-42\".isdigit() -> False\n\"42.0\".isdigit() -> False\n\"42.5\".isdigit() -> False\n"
     ]
    }
   ],
   "source": [
    "print('\"42\".isdigit() ->', '42'.isdigit())\n",
    "print('\"-42\".isdigit() ->', '-42'.isdigit())\n",
    "print('\"42.0\".isdigit() ->', '42.0'.isdigit())\n",
    "print('\"42.5\".isdigit() ->', '42.5'.isdigit())"
   ]
  },
  {
   "cell_type": "code",
   "execution_count": 37,
   "metadata": {},
   "outputs": [
    {
     "output_type": "stream",
     "name": "stdout",
     "text": [
      "\"abc\".isalpha() -> True\n\"rZЩ\".isalpha() -> True\n\"ab!\".isalpha() -> False\n\"ab3\".isalpha() -> False\n"
     ]
    }
   ],
   "source": [
    "print('\"abc\".isalpha() ->', 'abc'.isalpha())\n",
    "print('\"rZЩ\".isalpha() ->', 'rZЩ'.isalpha())\n",
    "print('\"ab!\".isalpha() ->', 'ab!'.isalpha())\n",
    "print('\"ab3\".isalpha() ->', 'ab3'.isalpha())"
   ]
  },
  {
   "source": [
    "Методов манипуляции строкой достаточно много:\n",
    "- ```removeprefix``` - удаление префикса (>= 3.9) ([PEP 616](https://www.python.org/dev/peps/pep-0616/))\n",
    "- ```removesuffix``` - удаление суффикса (>= 3.9) ([PEP 616](https://www.python.org/dev/peps/pep-0616/))\n",
    "- ```find``` - поиск подстроки в строке\n",
    "- ```lower``` - приведение строки к нижнему регистру\n",
    "- ```upper``` - приведение строки к верхнему регистру\n",
    "- ```split``` - разбиение строки по разделителю\n",
    "- ```strip``` - удаление символов с начала и конца строки\n",
    "- и [другие](https://docs.python.org/3.9/library/stdtypes.html#text-sequence-type-str)"
   ],
   "cell_type": "markdown",
   "metadata": {}
  },
  {
   "cell_type": "code",
   "execution_count": 45,
   "metadata": {},
   "outputs": [
    {
     "output_type": "stream",
     "name": "stdout",
     "text": [
      "find -> 6\nupper -> MONTY_PYTHON\nsplit -> ['monty', 'python']\nremoveprefix -> python\nremovesuffix -> monty\n"
     ]
    }
   ],
   "source": [
    "s = 'monty_python'\n",
    "\n",
    "# метод поиска подстроки в строке find стоит использовать, \n",
    "# когда нужно найти положение, иначе лучше воспользоваться in\n",
    "print('find ->', s.find('python'))\n",
    "\n",
    "print('upper ->', s.upper())\n",
    "print('split ->', s.split('_'))\n",
    "\n",
    "# эти два метода ввели в версии 3.9\n",
    "print('removeprefix ->', s.removeprefix('monty_'))\n",
    "print('removesuffix ->', s.removesuffix('_python'))"
   ]
  },
  {
   "source": [
    "Одними из самых полезных операций над строками являются замена подстрок на другие. "
   ],
   "cell_type": "markdown",
   "metadata": {}
  },
  {
   "cell_type": "code",
   "execution_count": 82,
   "metadata": {},
   "outputs": [
    {
     "output_type": "stream",
     "name": "stdout",
     "text": [
      "baz_bar\nfaa_bar\n"
     ]
    }
   ],
   "source": [
    "# Заменить подстроку 'foo' на 'baz'\n",
    "print('foo_bar'.replace('foo', 'baz'))\n",
    "\n",
    "# replace по умолчанию заменяет все схождения\n",
    "print('foo_bar'.replace('o', 'a'))"
   ]
  },
  {
   "source": [
    "Проблемой становиться ситуация, когда нужно заменить несколько разных подстрок на несколько других подстрок. Писать несколько ```replace``` подряд не выход. Для этого можно воспользоваться методом ```translate```. \n",
    "\n",
    "Ниже приведен пример замены нескольких подстрок одновременно. Здесь используются новые структуры данных, такие как словарь и список, которые будут рассмотрены далее."
   ],
   "cell_type": "markdown",
   "metadata": {}
  },
  {
   "cell_type": "code",
   "execution_count": 86,
   "metadata": {},
   "outputs": [
    {
     "output_type": "stream",
     "name": "stdout",
     "text": [
      "Словарь замен: {',': '', '.': '', ':': '', '!': '', '(': '', ')': '', ' ': '_'}\nстрока_со_знаками_препинания_и_пробелами\n"
     ]
    }
   ],
   "source": [
    "s = 'строка: (со знаками), препинания. и, пробелами!'\n",
    "\n",
    "# подготовим словарь замен. \n",
    "# знаки препинания ,.:!() будут заменяться на пустую строку, \n",
    "# т.е. удаляться\n",
    "d = dict.fromkeys(list(',.:!()'), '')\n",
    "# дополнительно все пробелы заменим на нижнее подчеркивание\n",
    "d[' '] = '_'\n",
    "print('Словарь замен:', d)\n",
    "\n",
    "# Создания таблицы замен\n",
    "tran_tab = str.maketrans(d)\n",
    "# замена символов в исходной строке\n",
    "print(s.translate(tran_tab))"
   ]
  },
  {
   "source": [
    "## Форматирование строк\n",
    "\n",
    "Существуют несколько способов форматирования строк:\n",
    "- оператор ```%```\n",
    "- метод ```format```\n",
    "- ```f```-строки\n",
    "- шаблонные строки (```Template```)\n",
    "\n",
    "Использование оператора ```%``` называют \"классическим\" форматированием строки. Этот оператор применяется к строке и принимает один аргумент. Эта операция может использовать спецификаторы формата, например, ```%x```. Спецификаторы формата - это специальные конструкции, размещаемые внутри строки. Они выполняют несколько функций:\n",
    "- указывают место вставки аргумента (не актуально для ```f```-строк);\n",
    "- преобразования значения аргумента;\n",
    "- дополнительные возможности, такие как: указания длины, точности, выравнивание и др.\n",
    "\n",
    "Например, следующий код преобразует некоторое целочисленное значение в строковое и представляет его в шестнадцатеричной системе:"
   ],
   "cell_type": "markdown",
   "metadata": {}
  },
  {
   "cell_type": "code",
   "execution_count": 46,
   "metadata": {},
   "outputs": [
    {
     "output_type": "stream",
     "name": "stdout",
     "text": [
      "badc0ffee\n"
     ]
    }
   ],
   "source": [
    "errno = 50159747054\n",
    "s = '%x'\n",
    "print(s % errno)"
   ]
  },
  {
   "cell_type": "code",
   "execution_count": 51,
   "metadata": {},
   "outputs": [
    {
     "output_type": "stream",
     "name": "stdout",
     "text": [
      "π =   3.1416\n"
     ]
    }
   ],
   "source": [
    "pi = 3.141592653589793\n",
    "s = 'π = % 8.4f'\n",
    "print(s % pi)"
   ]
  },
  {
   "source": [
    "В связи с тем, что оператор ```%``` принимает только один аргумент, для передачи нескольких значений необходимо передавать кортеж. Это одна из других структур данных, о ней речь пойдет чуть позже. Тогда каждое значение будет поставлено на соответствующее место."
   ],
   "cell_type": "markdown",
   "metadata": {}
  },
  {
   "cell_type": "code",
   "execution_count": 53,
   "metadata": {},
   "outputs": [
    {
     "output_type": "stream",
     "name": "stdout",
     "text": [
      "0xbadc0ffee: I’m a teapot\n"
     ]
    }
   ],
   "source": [
    "msg = 'I’m a teapot'\n",
    "errno = 50159747054\n",
    "s = '0x%x: %s'\n",
    "print(s % (errno, msg))"
   ]
  },
  {
   "source": [
    "Можно также передавать словарь, тогда в строке появляется возможность указывать имена переменных."
   ],
   "cell_type": "markdown",
   "metadata": {}
  },
  {
   "cell_type": "code",
   "execution_count": 54,
   "metadata": {},
   "outputs": [
    {
     "output_type": "stream",
     "name": "stdout",
     "text": [
      "0xbadc0ffee: I’m a teapot\n"
     ]
    }
   ],
   "source": [
    "msg = 'I’m a teapot'\n",
    "errno = 50159747054\n",
    "s = '0x%(errno)x: %(msg)s'\n",
    "print(s % {'errno': errno, 'msg': msg})"
   ]
  },
  {
   "source": [
    "Спецификаторы формата способны решать самые разные задачи. О том какие бывают спецификаторы читайте в [документации](https://docs.python.org/3.9/library/string.html#formatstrings).\n",
    "\n",
    "Метод \"классического\" форматирования строк на сегодняшний день уже устарел.\n",
    "\n",
    "Следующий способ форматирования называется \"современным\". Он заключается в использовании метода ```format```. Появился этот метод в 3-ей версии Python. Этот метод существенно расширяет возможности форматирования и делает его более простым. "
   ],
   "cell_type": "markdown",
   "metadata": {}
  },
  {
   "cell_type": "code",
   "execution_count": 56,
   "metadata": {},
   "outputs": [
    {
     "output_type": "stream",
     "name": "stdout",
     "text": [
      "50159747054: I’m a teapot\n50159747054: I’m a teapot\n50159747054: I’m a teapot\n"
     ]
    }
   ],
   "source": [
    "msg = 'I’m a teapot'\n",
    "errno = 50159747054\n",
    "\n",
    "# простое позиционирвоание, аргументы вставляются \n",
    "# по порядку на мето фигурных скобок\n",
    "print('{}: {}'.format(errno, msg))\n",
    "\n",
    "# пощиционирование на основе индексов\n",
    "print('{1}: {0}'.format(msg, errno))\n",
    "\n",
    "# использование именованных аргументов и имен \n",
    "# переменнных внутри фигурных скобок \n",
    "# (порядок следование не важен)\n",
    "print('{errno}: {msg}'.format(errno=errno, msg=msg))"
   ]
  },
  {
   "source": [
    "Метод ```format``` использует спецификаторы формата с несколько измененным синтаксисом. Здесь используется префикс в виде двоеточия, спецификатор формата следует после него."
   ],
   "cell_type": "markdown",
   "metadata": {}
  },
  {
   "cell_type": "code",
   "execution_count": 61,
   "metadata": {},
   "outputs": [
    {
     "output_type": "stream",
     "name": "stdout",
     "text": [
      "0xbadc0ffee: I’m a teapot\n"
     ]
    }
   ],
   "source": [
    "msg = 'I’m a teapot'\n",
    "errno = 50159747054\n",
    "print('{0:#x}: {1}'.format(errno, msg))"
   ]
  },
  {
   "source": [
    "Как уже упоминалось, функционал форматирования строк стал в разы мощнее благодаря введению этого метода. Например, можно использовать вложенные фигурные скобки.\n",
    "\n",
    "В качестве примера приведена таблица чисел в разных системах счисления."
   ],
   "cell_type": "markdown",
   "metadata": {}
  },
  {
   "cell_type": "code",
   "execution_count": 64,
   "metadata": {},
   "outputs": [
    {
     "output_type": "stream",
     "name": "stdout",
     "text": [
      "      7       7       7     111 \n      8       8      10    1000 \n      9       9      11    1001 \n     10       A      12    1010 \n     11       B      13    1011 \n     12       C      14    1100 \n     13       D      15    1101 \n     14       E      16    1110 \n     15       F      17    1111 \n     16      10      20   10000 \n"
     ]
    }
   ],
   "source": [
    "for i in range(7, 17):\n",
    "    for base in 'dXob':\n",
    "        print('{0:{1}{2}}'.format(i, 7, base), end=' ')\n",
    "    print()"
   ]
  },
  {
   "source": [
    "На сегодняшний день метод \"современного\" форматирования тоже можно считать устаревшим. Его рекомендуется использовать в случаях работы с интерпретатором, чья версия меньше 3.6. Начиная с версии 3.6 в Python появился \"суперсовременный\" метод форматирования строк. Его называют ```f```-строки или интерполяцией строковых литералов.\n",
    "\n",
    "```f```-строки создаются путем использования префикса ```f``` или ```F``` перед строкой. ```f```-строки можно комбинировать с \"сырыми\" строками, указывая префиксы ```fr``` или ```FR```. "
   ],
   "cell_type": "markdown",
   "metadata": {}
  },
  {
   "cell_type": "code",
   "execution_count": 65,
   "metadata": {},
   "outputs": [
    {
     "output_type": "stream",
     "name": "stdout",
     "text": [
      "50159747054\n"
     ]
    }
   ],
   "source": [
    "errno = 50159747054\n",
    "s = f'{errno}'\n",
    "print(s)"
   ]
  },
  {
   "source": [
    "```f```-строки используют фигурные скобки, внутри которых может находиться любой выражение, начиная от обращения к переменной, заканчивая вычислениями. ```f```-строки несколько отличаются от ```str.format()```. Выражения внутри фигурных скобок ```f```-строк имеют полный доступ к локальным и глобальным переменным и вычисляются в процессе выполнения. Это означает, что они завяся от контекста в котором находятся. Если выражение внутри фигурных скобок невозможно вычислить, возникнет исключение. ```str.format()``` в этом смысле отличается. Шаблон можно создать в любой момент, а осуществить подстановку - во время вызова метода ```format```."
   ],
   "cell_type": "markdown",
   "metadata": {}
  },
  {
   "cell_type": "code",
   "execution_count": 66,
   "metadata": {},
   "outputs": [
    {
     "output_type": "stream",
     "name": "stdout",
     "text": [
      "a * b = 42\n"
     ]
    }
   ],
   "source": [
    "a, b = 2, 21\n",
    "print(f'a * b = {a * b}')"
   ]
  },
  {
   "source": [
    "Эти конструкции очень удобно использовать для отладки программ. Например, конструкцию выше можно упростить, указав знак ```=``` после выражения внутри фигурных скобок."
   ],
   "cell_type": "markdown",
   "metadata": {}
  },
  {
   "cell_type": "code",
   "execution_count": 67,
   "metadata": {},
   "outputs": [
    {
     "output_type": "stream",
     "name": "stdout",
     "text": [
      "a * b = 42\n"
     ]
    }
   ],
   "source": [
    "a, b = 2, 21\n",
    "print(f'{a * b = }')"
   ]
  },
  {
   "source": [
    "Под капотом интерполяция строковых литералов преобразует строки в серию констант и выражений. После чего они объединяются, формируя окончательное представление строки. Одним из существенных плюсов этих строк, помимо удобства, является их скорость. Это одни из самых быстрых строк в Python."
   ],
   "cell_type": "markdown",
   "metadata": {}
  },
  {
   "cell_type": "code",
   "execution_count": 70,
   "metadata": {},
   "outputs": [
    {
     "output_type": "stream",
     "name": "stdout",
     "text": [
      "0xbadc0ffee: I’m a teapot\n"
     ]
    }
   ],
   "source": [
    "msg = 'I’m a teapot'\n",
    "errno = 50159747054\n",
    "s = f'{errno:#x}: {msg}'\n",
    "print(s)"
   ]
  },
  {
   "cell_type": "code",
   "execution_count": 141,
   "metadata": {},
   "outputs": [
    {
     "output_type": "stream",
     "name": "stdout",
     "text": [
      "3_234_512_922\n3,234,512,922\n3,234,512,922.000\n"
     ]
    }
   ],
   "source": [
    "number = 3234512922\n",
    "\n",
    "# кастомизация числа\n",
    "print(f'{number:_}')\n",
    "print(f'{number:,}')"
   ]
  },
  {
   "source": [
    "Печать таблицы чисел в разных системах счисления можно переписать, используя ```f```-строки."
   ],
   "cell_type": "markdown",
   "metadata": {}
  },
  {
   "cell_type": "code",
   "execution_count": 76,
   "metadata": {},
   "outputs": [
    {
     "output_type": "stream",
     "name": "stdout",
     "text": [
      "      7       7       7     111 \n      8       8      10    1000 \n      9       9      11    1001 \n     10       A      12    1010 \n     11       B      13    1011 \n     12       C      14    1100 \n     13       D      15    1101 \n     14       E      16    1110 \n     15       F      17    1111 \n     16      10      20   10000 \n"
     ]
    }
   ],
   "source": [
    "for i in range(7, 17):\n",
    "    for base in 'dXob':\n",
    "        print(f'{i:7{base}}', end=' ')\n",
    "    print()"
   ]
  },
  {
   "source": [
    "Еще один пример использования форматирования строк - это преобразования в другие системы счисления."
   ],
   "cell_type": "markdown",
   "metadata": {}
  },
  {
   "cell_type": "code",
   "execution_count": 77,
   "metadata": {},
   "outputs": [
    {
     "output_type": "stream",
     "name": "stdout",
     "text": [
      "0101100000\n0000000010011001\n"
     ]
    }
   ],
   "source": [
    "def to_binary(number, bits):\n",
    "    # преобразования чисел в двоичную систему\n",
    "    # и заполнение незначащими нулями до заданной длины\n",
    "    return f'{number:0{bits}b}'\n",
    "\n",
    "print(to_binary(352, 10))\n",
    "print(to_binary(153, 16))"
   ]
  },
  {
   "source": [
    "Рассмотренные ```f```-строки могут вносить уязвимости в программу. Например, через них можно получать доступ к произвольным переменным в программе."
   ],
   "cell_type": "markdown",
   "metadata": {}
  },
  {
   "cell_type": "code",
   "execution_count": 126,
   "metadata": {},
   "outputs": [
    {
     "output_type": "execute_result",
     "data": {
      "text/plain": [
       "'2fgDfw5Hj9N'"
      ]
     },
     "metadata": {},
     "execution_count": 126
    }
   ],
   "source": [
    "SECRET_KEY = '2fgDfw5Hj9N'\n",
    "\n",
    "def foo():\n",
    "    pass\n",
    "\n",
    "user_input = '{obj.__globals__[SECRET_KEY]}'\n",
    "user_input.format(obj=foo)  # уязвимость"
   ]
  },
  {
   "source": [
    "Дополнительным методом форматирования строк в Python используются шаблонные строки. Этот инструмент менее гибкий и мощный по сравнению с предыдущими вариантами. Одним из минусов такого подхода является отсутствие поддержки спецификаторов формата, что добавляет работы.\n",
    "\n",
    "Создание шаблонов происходит с помощью специального класса ```Template```, который находится в модуле ```string```"
   ],
   "cell_type": "markdown",
   "metadata": {}
  },
  {
   "cell_type": "code",
   "execution_count": 80,
   "metadata": {},
   "outputs": [
    {
     "output_type": "execute_result",
     "data": {
      "text/plain": [
       "'0xbadc0ffee: I’m a teapot'"
      ]
     },
     "metadata": {},
     "execution_count": 80
    }
   ],
   "source": [
    "from string import Template\n",
    "\n",
    "msg = 'I’m a teapot'\n",
    "errno = 50159747054\n",
    "\n",
    "# создание шаблона, для обозначения перменных \n",
    "# используется знак $ и имя переменной\n",
    "t = Template('$errno: $msg')\n",
    "\n",
    "# подстановка значений с помощью метода substitute\n",
    "print(t.substitute(errno=hex(errno), msg=msg))"
   ]
  },
  {
   "source": [
    "За счет простоты шаблонных строк они являются более безопасными. Их можно использовать при обработке строк, сгенерированных пользователями. Во всех остальных случаях рекомендуется использовать ```f```-строки.\n",
    "\n",
    "## Способы итерирования по строкам\n",
    "\n",
    "Для обхода строк можно использовать цикл ```for```. Первый вариант - самый простой. Используется, когда необходимо только перебрать всю строку."
   ],
   "cell_type": "markdown",
   "metadata": {}
  },
  {
   "cell_type": "code",
   "execution_count": 8,
   "metadata": {},
   "outputs": [
    {
     "output_type": "stream",
     "name": "stdout",
     "text": [
      "a\nb\nc\n"
     ]
    }
   ],
   "source": [
    "for s in 'abc':\n",
    "    print(s)"
   ]
  },
  {
   "source": [
    "В некоторых случаях нужно не просто итерироваться по коллекции, но и знать индекс текущего элемента. Эту задачу можно решить двумя способами. Первый заключается в использовании ```range```, о нем мы поговорим позднее. В этом варианте итерирование происходит по индексам строки, поэтому в теле цикла необходимо отдельно получать символ строки по его индексу."
   ],
   "cell_type": "markdown",
   "metadata": {}
  },
  {
   "cell_type": "code",
   "execution_count": 9,
   "metadata": {},
   "outputs": [
    {
     "output_type": "stream",
     "name": "stdout",
     "text": [
      "letters[0] = a\nletters[1] = b\nletters[2] = c\n"
     ]
    }
   ],
   "source": [
    "letters = 'abc'\n",
    "for i in range(len(letters)):\n",
    "    print(f'letters[{i}] = {letters[i]}')"
   ]
  },
  {
   "source": [
    "Более правильным способом итерирования по строке в случае, если нужно одновременно использовать элемент коллекции и его индекс, будет использование функции ```enumerate```. Здесь необходимо указывать сразу две переменные после ключевого слова ```for```, в первой будет находиться индекс, а во второй - элемент."
   ],
   "cell_type": "markdown",
   "metadata": {}
  },
  {
   "cell_type": "code",
   "execution_count": 10,
   "metadata": {},
   "outputs": [
    {
     "output_type": "stream",
     "name": "stdout",
     "text": [
      "letters[0] = a\nletters[1] = b\nletters[2] = c\n"
     ]
    }
   ],
   "source": [
    "letters = 'abc'\n",
    "for i, s in enumerate(letters):\n",
    "    print(f'letters[{i}] = {s}')"
   ]
  },
  {
   "source": [
    "# Модуль ```string```\n",
    "\n",
    "Стандартная библиотека Python довольно обширна. Она включает в себя множество дополнительных модулей, покрывающих широкий круг задач. Модуль ```string``` один из них. Он обеспечивает приятные дополнения при работе со строками. "
   ],
   "cell_type": "markdown",
   "metadata": {}
  },
  {
   "cell_type": "code",
   "execution_count": 128,
   "metadata": {},
   "outputs": [
    {
     "output_type": "stream",
     "name": "stdout",
     "text": [
      "Латинские буквы: abcdefghijklmnopqrstuvwxyzABCDEFGHIJKLMNOPQRSTUVWXYZ\nЛатинские буквы в нижнем регистре: abcdefghijklmnopqrstuvwxyz\nЛатинские буквы в верхнем регистре: ABCDEFGHIJKLMNOPQRSTUVWXYZ\nЦифры: 0123456789\nЗнаки пунктуации !\"#$%&'()*+,-./:;<=>?@[\\]^_`{|}~\n"
     ]
    }
   ],
   "source": [
    "import string\n",
    "\n",
    "# разные строковые константы\n",
    "print(f'Латинские буквы: {string.ascii_letters}')\n",
    "print(f'Латинские буквы в нижнем регистре: {string.ascii_lowercase}')\n",
    "print(f'Латинские буквы в верхнем регистре: {string.ascii_uppercase}')\n",
    "print(f'Цифры: {string.digits}')\n",
    "print(f'Знаки пунктуации {string.punctuation}')"
   ]
  },
  {
   "source": [
    "Это не все константы, предоставляемые модулем ```string```. Кроме констант он предоставляет возможность реализовать свой собственный метод форматирования строк."
   ],
   "cell_type": "markdown",
   "metadata": {}
  },
  {
   "source": [
    "## Полезные сслыки\n",
    "\n",
    "1. [Документация по структурам данных](https://docs.python.org/3/tutorial/datastructures.html)\n",
    "2. [Документация по модулю ```string```](https://docs.python.org/3.9/library/string.html)\n",
    "3. [Сравнение методов форматирования строк](https://shultais.education/blog/python-f-strings)\n",
    "4. [О безопасности методов форматирования строк](https://lucumr.pocoo.org/2016/12/29/careful-with-str-format/)\n",
    "5. [73 примера использования ```f```-строк](https://miguendes.me/73-examples-to-help-you-master-pythons-f-strings)"
   ],
   "cell_type": "markdown",
   "metadata": {}
  }
 ]
}