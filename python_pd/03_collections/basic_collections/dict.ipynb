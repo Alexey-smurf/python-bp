{
 "metadata": {
  "language_info": {
   "codemirror_mode": {
    "name": "ipython",
    "version": 3
   },
   "file_extension": ".py",
   "mimetype": "text/x-python",
   "name": "python",
   "nbconvert_exporter": "python",
   "pygments_lexer": "ipython3",
   "version": "3.9.0-final"
  },
  "orig_nbformat": 2,
  "kernelspec": {
   "name": "python3",
   "display_name": "Python 3"
  }
 },
 "nbformat": 4,
 "nbformat_minor": 2,
 "cells": [
  {
   "source": [
    "# Словари (```dict```)\n",
    "\n",
    "Словари это еще одна фундаментальная структура данных. Другое название словарей - ассоциативные массивы или хеш-таблицы. В отличие от списков, индексируемых числами, словари индексируются ключами, которые могут быть любыми неизменяемыми или хешируемыми типами данных. Об изменяемых и неизменяемых типах данных будет подробнее рассмотрено в следующих разделах. Вот список некоторых неизменяемых типов, значения которых могут выступать в качестве ключей в словарях:\n",
    "- любые числа (```int```, ```float```, ```complex```)\n",
    "- ```str```\n",
    "- ```None```\n",
    "- ```bool```\n",
    "- ```tuple``` (этот тип будет рассмотрен в следующих разделах)\n",
    "- функции\n",
    "\n",
    "Словари ставят в соответствие какому-либо ключу определенное значение, в связи с этим их называют ассоциативными массивами. Такое соответствие достигается за счет вычисления [хеша](https://en.wikipedia.org/wiki/Hash_function) от объекта. Хеш это некоторое число, которое должно быть уникально для объектов с разными значениями, но одинаковым для объектов с одинаковыми значениями. В Python, используя функцию ```hash```, можно получить число, которое выступает в качестве хеша. У малых целых чисел хеш совпадает со значением числа."
   ],
   "cell_type": "markdown",
   "metadata": {}
  },
  {
   "cell_type": "code",
   "execution_count": 15,
   "metadata": {},
   "outputs": [
    {
     "output_type": "stream",
     "name": "stdout",
     "text": [
      "hash(42) = 42\nhash(42.5) = 1152921504606847018\nhash(\"42\") = 4658212807576788527\n"
     ]
    }
   ],
   "source": [
    "print(f'{hash(42) = }')\n",
    "print(f'{hash(42.5) = }')\n",
    "print(f'{hash(\"42\") = }')"
   ]
  },
  {
   "source": [
    "Другими словами, хеш ключа выступает в качестве индекса, который указывает, где храниться определенный объект. Схематично это можно представить следующим образом:\n",
    "\n",
    "<img src=\"../image/dict.png\">\n",
    "\n",
    "На сегодняшний день не существует \"идеальной\" хеш-функции, которая вычисляет хеш. Это приводит к тому, что не все ячейки в массиве будут заполнены. Время от времени в процессе расширения хеш-таблицы ее размер необходимо увеличивать и, соответственно, копировать в новое место в памяти. В Python поддерживается заполненность таблицы примерно на $2/3$.\n",
    "\n",
    "Ниже приведён пример работы хеш-таблицы и проблемы \"наложения\" хеша или коллизий:"
   ],
   "cell_type": "markdown",
   "metadata": {}
  },
  {
   "cell_type": "code",
   "execution_count": 31,
   "metadata": {},
   "outputs": [
    {
     "output_type": "stream",
     "name": "stdout",
     "text": [
      "['abcdefx']\n"
     ]
    }
   ],
   "source": [
    "import string\n",
    "\n",
    "# строки с повторяющимися хешами будем сохранять в список\n",
    "repetitions = []\n",
    "\n",
    "# будем искать повторения с заданной строкой\n",
    "prefix = 'abcdef'\n",
    "hash_s = hash(prefix) % 16\n",
    "\n",
    "# перебор всех символов\n",
    "for c in string.ascii_lowercase:\n",
    "    # добавим новый символ к префиксу и сравним хеши\n",
    "    if hash(prefix + c) % 16 == hash_s:\n",
    "        # если совпадают, то добавим в список\n",
    "        repetitions.append(prefix + c)\n",
    "\n",
    "# таблица размером 16 будет иметь 1 совпадение\n",
    "print(repetitions)"
   ]
  },
  {
   "source": [
    "Литералом словаря или хеш-таблицы являются фигурные скобки ```{}```. Для создания пустого словаря можно использовать либо фигурные скобки, либо встроенную функцию ```dict()```:"
   ],
   "cell_type": "markdown",
   "metadata": {}
  },
  {
   "cell_type": "code",
   "execution_count": null,
   "metadata": {},
   "outputs": [],
   "source": [
    "d_1 = {}\n",
    "d_2 = dict()\n",
    "print(f'{type(d_1) = }')\n",
    "print(f'{type(d_2) = }')"
   ]
  },
  {
   "source": [
    "Создать непустой словарь можно аналогичным способом, передав пары ```ключ: значение```, разделенные между собой запятыми. В качестве значений словари могут содержать произвольные объекты."
   ],
   "cell_type": "markdown",
   "metadata": {}
  },
  {
   "cell_type": "code",
   "execution_count": null,
   "metadata": {},
   "outputs": [],
   "source": [
    "d = {'a': 1, 2: 'str', None: [1, 2, 3], True: False}"
   ]
  },
  {
   "cell_type": "code",
   "execution_count": null,
   "metadata": {},
   "outputs": [],
   "source": [
    "d = {'a': 1, 'b': 2, 'a': 42}\n",
    "print(f'{d = }')"
   ]
  },
  {
   "source": [
    "Ключи в словаре должны быть уникальными. Это приводит к тому, что предыдущие значения у повторяющихся ключей будут перезаписаны. Это приводит к тому, что ```1```, ```1.0```, ```1 + 0j``` и ```True```, а также ```0```, ```0.0```, ```0 + 0j``` и ```False``` считаются одинаковыми. В этом случае, в словарь попадет первый ключ и последнее значение дублирующего ключа."
   ],
   "cell_type": "markdown",
   "metadata": {}
  },
  {
   "cell_type": "code",
   "execution_count": 32,
   "metadata": {},
   "outputs": [
    {
     "output_type": "stream",
     "name": "stdout",
     "text": [
      "d = {1: 'd'}\n"
     ]
    }
   ],
   "source": [
    "d = {1: 'a', 1.: 'b', 1 + 0j: 'c', True: 'd'}\n",
    "print(f'{d = }')"
   ]
  },
  {
   "source": [
    "Словари можно создать из другой последовательности с помощью метода ```fromkeys```, передав ему коллекцию ключей и значение \"по умолчанию\". Это значение будет установлено для всех ключей. Если значение не передано, будет установлено ```None```."
   ],
   "cell_type": "markdown",
   "metadata": {}
  },
  {
   "cell_type": "code",
   "execution_count": 33,
   "metadata": {},
   "outputs": [
    {
     "output_type": "stream",
     "name": "stdout",
     "text": [
      "d = {'a': 1, 'b': 1, 'c': 1}\n"
     ]
    }
   ],
   "source": [
    "d = dict.fromkeys('abc', 1)\n",
    "print(f'{d = }')"
   ]
  },
  {
   "source": [
    "## Операции над словарями\n",
    "\n",
    "У словарей можно узнать длину с помощью функции ```len```:"
   ],
   "cell_type": "markdown",
   "metadata": {}
  },
  {
   "cell_type": "code",
   "execution_count": 34,
   "metadata": {},
   "outputs": [
    {
     "output_type": "stream",
     "name": "stdout",
     "text": [
      "len(d) = 3\n"
     ]
    }
   ],
   "source": [
    "d = {'a': 1, 'b': 2, 'c': 3}\n",
    "print(f'{len(d) = }')"
   ]
  },
  {
   "source": [
    "Обращение по ключу у списков осуществляется по аналогии со списками. Для этого нужно использовать квадратные скобки. Другим способом является использование метода ```get```."
   ],
   "cell_type": "markdown",
   "metadata": {}
  },
  {
   "cell_type": "code",
   "execution_count": 35,
   "metadata": {},
   "outputs": [
    {
     "output_type": "stream",
     "name": "stdout",
     "text": [
      "d[\"a\"] = 1\nd.get(\"c\") = 3\n"
     ]
    }
   ],
   "source": [
    "d = {'a': 1, 'b': 2, 'c': 3}\n",
    "print(f'{d[\"a\"] = }')\n",
    "print(f'{d.get(\"c\") = }')"
   ]
  },
  {
   "source": [
    "В случае обращения по несуществующему ключу, словарь возвращает исключение ```KeyError```."
   ],
   "cell_type": "markdown",
   "metadata": {}
  },
  {
   "cell_type": "code",
   "execution_count": 36,
   "metadata": {},
   "outputs": [
    {
     "output_type": "error",
     "ename": "KeyError",
     "evalue": "'g'",
     "traceback": [
      "\u001b[1;31m---------------------------------------------------------------------------\u001b[0m",
      "\u001b[1;31mKeyError\u001b[0m                                  Traceback (most recent call last)",
      "\u001b[1;32m<ipython-input-36-aefea57349df>\u001b[0m in \u001b[0;36m<module>\u001b[1;34m\u001b[0m\n\u001b[0;32m      1\u001b[0m \u001b[0md\u001b[0m \u001b[1;33m=\u001b[0m \u001b[1;33m{\u001b[0m\u001b[1;34m'a'\u001b[0m\u001b[1;33m:\u001b[0m \u001b[1;36m1\u001b[0m\u001b[1;33m,\u001b[0m \u001b[1;34m'b'\u001b[0m\u001b[1;33m:\u001b[0m \u001b[1;36m2\u001b[0m\u001b[1;33m,\u001b[0m \u001b[1;34m'c'\u001b[0m\u001b[1;33m:\u001b[0m \u001b[1;36m3\u001b[0m\u001b[1;33m}\u001b[0m\u001b[1;33m\u001b[0m\u001b[1;33m\u001b[0m\u001b[0m\n\u001b[1;32m----> 2\u001b[1;33m \u001b[0mprint\u001b[0m\u001b[1;33m(\u001b[0m\u001b[1;34mf'{d[\"g\"] = }'\u001b[0m\u001b[1;33m)\u001b[0m\u001b[1;33m\u001b[0m\u001b[1;33m\u001b[0m\u001b[0m\n\u001b[0m",
      "\u001b[1;31mKeyError\u001b[0m: 'g'"
     ]
    }
   ],
   "source": [
    "d = {'a': 1, 'b': 2, 'c': 3}\n",
    "print(f'{d[\"g\"] = }')"
   ]
  },
  {
   "source": [
    "Метод ```get``` нужно использовать, когда не известен факт наличия ключа в словаре. Метод принимает два аргумента. Первым аргументом передается ключ. Второй является необязательным и представляет собой значение, которое будет возвращено в случае отсутствия ключа. Он имеет значение по умолчанию равное ```None```."
   ],
   "cell_type": "markdown",
   "metadata": {}
  },
  {
   "cell_type": "code",
   "execution_count": 37,
   "metadata": {},
   "outputs": [
    {
     "output_type": "stream",
     "name": "stdout",
     "text": [
      "d.get(\"d\") = None\nd.get(\"f\", 42) = 42\n"
     ]
    }
   ],
   "source": [
    "d = {'a': 1, 'b': 2, 'c': 3}\n",
    "print(f'{d.get(\"d\") = }')\n",
    "print(f'{d.get(\"f\", 42) = }')"
   ]
  },
  {
   "cell_type": "code",
   "execution_count": null,
   "metadata": {},
   "outputs": [],
   "source": [
    "d = {'a': 1, 'b': 2}\n",
    "print(f'{d = }')\n",
    "\n",
    "d['a'] = 0\n",
    "d['c'] = 5\n",
    "print(f'{d = }')"
   ]
  },
  {
   "cell_type": "code",
   "execution_count": null,
   "metadata": {},
   "outputs": [],
   "source": [
    "d = {'a': 1, 'b': 2}\n",
    "print(f'{\"a\" in d = }')\n",
    "print(f'{\"c\" in d = }')\n",
    "print(f'{\"g\" not in d = }')"
   ]
  },
  {
   "cell_type": "code",
   "execution_count": null,
   "metadata": {},
   "outputs": [],
   "source": [
    "foo = {'a': 1, 'b': 2}\n",
    "bar = {'c': 3, 'd': 4}\n",
    "print(f'{ foo | bar = }')\n",
    "print(f'{ {**foo, **bar} = }')"
   ]
  },
  {
   "cell_type": "code",
   "execution_count": 7,
   "metadata": {},
   "outputs": [
    {
     "output_type": "stream",
     "name": "stdout",
     "text": [
      "foo = {'a': 1, 'b': 2, 'e': 5, 'f': 6}\nbar = {'c': 3, 'd': 4, 'e': 5, 'f': 6}\n"
     ]
    }
   ],
   "source": [
    "foo = {'a': 1, 'b': 2}\n",
    "bar = {'c': 3, 'd': 4}\n",
    "baz = {'e': 5, 'f': 6}\n",
    "\n",
    "foo |= baz\n",
    "bar.update(baz)\n",
    "\n",
    "print(f'{foo = }')\n",
    "print(f'{bar = }')"
   ]
  },
  {
   "source": [
    "## Итерирование по словарям"
   ],
   "cell_type": "markdown",
   "metadata": {}
  },
  {
   "cell_type": "code",
   "execution_count": 9,
   "metadata": {},
   "outputs": [
    {
     "output_type": "stream",
     "name": "stdout",
     "text": [
      "d.keys() = dict_keys(['a', 'b', 'c'])\nd.values() = dict_values([1, 2, 3])\nd.items() = dict_items([('a', 1), ('b', 2), ('c', 3)])\n"
     ]
    }
   ],
   "source": [
    "d = {'a': 1, 'b': 2, 'c': 3}\n",
    "print(f'{d.keys() = }')\n",
    "print(f'{d.values() = }')\n",
    "print(f'{d.items() = }')"
   ]
  },
  {
   "cell_type": "code",
   "execution_count": 10,
   "metadata": {},
   "outputs": [
    {
     "output_type": "stream",
     "name": "stdout",
     "text": [
      "a: 1\nb: 2\nc: 3\n-------------------------\na: 1\nb: 2\nc: 3\n-------------------------\nvalue = 1\nvalue = 2\nvalue = 3\n-------------------------\na: 1\nb: 2\nc: 3\n-------------------------\n0: a - 1\n1: b - 2\n2: c - 3\n"
     ]
    }
   ],
   "source": [
    "d = {'a': 1, 'b': 2, 'c': 3}\n",
    "\n",
    "for key in d:\n",
    "    print(f'{key}: {d[key]}')\n",
    "print('-' * 25)\n",
    "\n",
    "for key in d.keys():\n",
    "    print(f'{key}: {d[key]}')\n",
    "print('-' * 25)\n",
    "\n",
    "for value in d.values():\n",
    "    print(f'{value = }')\n",
    "print('-' * 25)\n",
    "\n",
    "for key, value in d.items():\n",
    "    print(f'{key}: {value}')\n",
    "print('-' * 25)\n",
    "\n",
    "for i, (k, v) in enumerate(d.items()):\n",
    "    print(f'{i}: {k} - {v}')"
   ]
  },
  {
   "source": [
    "# Полезные ссылки\n",
    "\n",
    "- [Что делает хеш в Python](https://stackoverflow.com/questions/17585730/what-does-hash-do-in-python)"
   ],
   "cell_type": "markdown",
   "metadata": {}
  }
 ]
}