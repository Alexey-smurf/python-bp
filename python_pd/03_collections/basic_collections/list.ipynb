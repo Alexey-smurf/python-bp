{
 "metadata": {
  "language_info": {
   "codemirror_mode": {
    "name": "ipython",
    "version": 3
   },
   "file_extension": ".py",
   "mimetype": "text/x-python",
   "name": "python",
   "nbconvert_exporter": "python",
   "pygments_lexer": "ipython3",
   "version": 3
  },
  "orig_nbformat": 2
 },
 "nbformat": 4,
 "nbformat_minor": 2,
 "cells": [
  {
   "source": [
    "# Списки (```list```)\n",
    "\n",
    "Одной из базовых коллекций в Python являются списки. Списки призваны хранить упорядоченный набор элементов, которые могут быть разных типов. Литералами списка выступают квадратные скобки ```[]```. Списки имеют тип ```list```. Для создания пустого списка достаточно использовать следующие выражения:"
   ],
   "cell_type": "markdown",
   "metadata": {}
  },
  {
   "cell_type": "code",
   "execution_count": null,
   "metadata": {},
   "outputs": [],
   "source": [
    "xs = []\n",
    "ys = list()\n",
    "print(f'{type(xs) = }')\n",
    "print(f'{type(ys) = }')"
   ]
  },
  {
   "source": [
    "В списках разрешено хранить объекты любых типов. Однако, их рекомендуется использовать для хранения однотипных данных, например, только чисел, только строк и тд. "
   ],
   "cell_type": "markdown",
   "metadata": {}
  },
  {
   "cell_type": "code",
   "execution_count": null,
   "metadata": {},
   "outputs": [],
   "source": [
    "xs = [42, 42., 'foo_bar', [1, 2, 3], None, False]\n",
    "print(f'{xs = }')"
   ]
  },
  {
   "source": [
    "## Операции со списками\n",
    "\n",
    "Список это упорядоченная коллекция. Как и у любой коллекции они имеют длину, которую можно получить используя функцию ```len```."
   ],
   "cell_type": "markdown",
   "metadata": {}
  },
  {
   "cell_type": "code",
   "execution_count": null,
   "metadata": {},
   "outputs": [],
   "source": [
    "xs = [1, 2, 3, 4]\n",
    "print(f'{len(xs) = }')"
   ]
  },
  {
   "source": [
    "Со списками работают некоторые арифметические операторы. Так можно использовать ```+``` для конкатенации списков, а ```*``` для их размножения."
   ],
   "cell_type": "markdown",
   "metadata": {}
  },
  {
   "cell_type": "code",
   "execution_count": null,
   "metadata": {},
   "outputs": [],
   "source": [
    "xs = [1, 2, 3, 4]\n",
    "ys = [5, 6, 7]\n",
    "print(f'{xs + ys = }')\n",
    "print(f'{3 * xs = }')"
   ]
  },
  {
   "source": [
    "У списков есть ряд методов, обеспечивающих специфические операции. Например:\n",
    "- ```append(x)``` - добавление элемента ```x``` в конец списка;\n",
    "- ```pop()``` - удаление элемента, если не указан аргумент, то удаление происходит с конца, иначе (```pop(i)```) удаляется по индексу ```i```;\n",
    "- ```insert(i, x)``` - вставка элемента ```x``` в нужное место ```i```;\n",
    "- ```extend(ys)``` - объединение списков;\n",
    "- ```count(x)``` - подсчитать количество элементов, совпадающих с ```x```;\n",
    "- ```index(x)``` - получить индекс первого вхождения ```x```;\n",
    "- ```reverse()``` - перевернуть список;\n",
    "- и [другие](https://docs.python.org/3.9/tutorial/datastructures.html#).\n",
    "\n",
    "Все эти операции изменяют список \"на месте\", т.е. они ничего не возвращают."
   ],
   "cell_type": "markdown",
   "metadata": {}
  },
  {
   "cell_type": "code",
   "execution_count": null,
   "metadata": {},
   "outputs": [],
   "source": [
    "xs = [1, 2, 3, 4]\n",
    "ys = [5, 6, 7]\n",
    "\n",
    "xs.append(42)\n",
    "print(f'(1): {xs = }')\n",
    "\n",
    "# метод pop удобен, когда нужно использовать удаленный элемент\n",
    "x = xs.pop()\n",
    "print(f'(2): {x = }, {xs = }')\n",
    "x = xs.pop(2)\n",
    "print(f'(3): {x = }, {xs = }')\n",
    "\n",
    "# еще один способ удалить элемент по индексу\n",
    "del xs[2]\n",
    "print(f'(4): {xs = }')\n",
    "\n",
    "xs.insert(1, 196)\n",
    "print(f'(5): {xs = }')\n",
    "\n",
    "xs.extend(ys)\n",
    "print(f'(6): {xs = }')\n",
    "\n",
    "xs.reverse()\n",
    "print(f'{xs = }')"
   ]
  },
  {
   "cell_type": "code",
   "execution_count": null,
   "metadata": {},
   "outputs": [],
   "source": [
    "xs = [1, 3, 2, 3, 3, 4]\n",
    "print(f'{4 in xs = }')\n",
    "print(f'{xs.count(3) = }')\n",
    "print(f'{xs.index(3) = }')"
   ]
  },
  {
   "source": [
    "Сортировка в Python использует алгоритм [TimSort](https://en.wikipedia.org/wiki/Timsort). Есть два способа отсортировать список: \"на месте\" и создав новый список. Метод ```sort``` сортирует текущий список, не создавая при этом новый. Функция ```sorted``` принимает список в качестве одного из аргументов, а возвращает новый отсортированный список. Обе функции сортируют список по неубыванию. Передавая аргумент ```reverse```, можно указать способ сортировки. По умолчанию он принимает значение ```False``` и сортировка происходит по неубыванию. Указав ```reverse=True```, сортировка будет происходить по невозрастанию.\n",
    "\n",
    "Сортировать можно списки из элементов одного типа. Строки сортируются в лексикографическом порядке."
   ],
   "cell_type": "markdown",
   "metadata": {}
  },
  {
   "cell_type": "code",
   "execution_count": null,
   "metadata": {},
   "outputs": [],
   "source": [
    "xs = [3, 5, 1, 2, 7, 0]\n",
    "ys = ['v', 'a', 'b', 'c', 'e']\n",
    "\n",
    "xs.sort()\n",
    "ys.sort(reverse=True)\n",
    "\n",
    "print(f'{xs = }')\n",
    "print(f'{ys = }')"
   ]
  },
  {
   "source": [
    "Списки можно создавать из других коллекций, используя функцию ```list```. Например, преобразование строки в список разобъет ее на отдельные символы."
   ],
   "cell_type": "markdown",
   "metadata": {}
  },
  {
   "source": [
    "xs = list('monty_python')\n",
    "print(f'{xs = }')"
   ],
   "cell_type": "code",
   "metadata": {},
   "execution_count": null,
   "outputs": []
  },
  {
   "source": [
    "Преобразование списка в строку осуществляется с помощью функции ```str```. Такое представление повторяет вид списка в интерпретаторе Python. Содержимое полученной строки можно скопировать и вставить в REPL, и это будет корректным выражением."
   ],
   "cell_type": "markdown",
   "metadata": {}
  },
  {
   "cell_type": "code",
   "execution_count": null,
   "metadata": {},
   "outputs": [],
   "source": [
    "xs = [1, 2, 3, 4]\n",
    "print(f'{str(xs) = :>18}')\n",
    "print(f'{str(xs)[1:-1] = }')"
   ]
  },
  {
   "source": [
    "Как и любая коллекция списки поддерживают индексацию, которая начинается с нуля. Индексы могут быть и отрицательными."
   ],
   "cell_type": "markdown",
   "metadata": {}
  },
  {
   "cell_type": "code",
   "execution_count": null,
   "metadata": {},
   "outputs": [],
   "source": [
    "xs = list('monty_python')\n",
    "print(f'{xs = }')\n",
    "print(f'{xs[0] = }')\n",
    "print(f'{xs[5] = }')\n",
    "print(f'{xs[-1] = }')\n",
    "print(f'{xs[-7] = }')"
   ]
  },
  {
   "cell_type": "code",
   "execution_count": null,
   "metadata": {},
   "outputs": [],
   "source": [
    "xs = list('monty_python')\n",
    "print(f'{xs = }')\n",
    "print(f'{xs[:] = }')\n",
    "print(f'{xs[::-1] = }')\n",
    "print(f'{xs[:5] = }')\n",
    "print(f'{xs[6:] = }')\n",
    "print(f'{xs[3:7] = }')\n",
    "print(f'{xs[3:8:2] = }')\n",
    "print(f'{xs[4::-1] = }')"
   ]
  },
  {
   "cell_type": "code",
   "execution_count": null,
   "metadata": {},
   "outputs": [],
   "source": [
    "r = range(5)\n",
    "print(f'{r = }')\n",
    "print(f'{type(r) = }')\n",
    "print(f'{len(r) = }')\n",
    "print(f'{list(r) = }')\n",
    "print(f'{str(r) = }')"
   ]
  },
  {
   "cell_type": "code",
   "execution_count": null,
   "metadata": {},
   "outputs": [],
   "source": [
    "r = range(10, 20, 2)\n",
    "print(f'{r = }')\n",
    "print(f'{type(r) = }')\n",
    "print(f'{len(r) = }')\n",
    "print(f'{list(r) = }')\n",
    "print(f'{str(r) = }')"
   ]
  },
  {
   "cell_type": "code",
   "execution_count": null,
   "metadata": {},
   "outputs": [],
   "source": []
  },
  {
   "source": [
    "# Полезные сслыки\n",
    "\n",
    "1. [Алгоритм сортировки TimSort](https://habr.com/ru/company/infopulse/blog/133303/)"
   ],
   "cell_type": "markdown",
   "metadata": {}
  }
 ]
}