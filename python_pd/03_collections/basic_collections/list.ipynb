{
 "metadata": {
  "language_info": {
   "codemirror_mode": {
    "name": "ipython",
    "version": 3
   },
   "file_extension": ".py",
   "mimetype": "text/x-python",
   "name": "python",
   "nbconvert_exporter": "python",
   "pygments_lexer": "ipython3",
   "version": "3.9.0-final"
  },
  "orig_nbformat": 2,
  "kernelspec": {
   "name": "python3",
   "display_name": "Python 3"
  }
 },
 "nbformat": 4,
 "nbformat_minor": 2,
 "cells": [
  {
   "source": [
    "# Списки (```list```)\n",
    "\n",
    "Одной из базовых коллекций в Python являются списки. Списки призваны хранить упорядоченный набор элементов, которые могут быть разных типов. Литералами списка выступают квадратные скобки ```[]```. Списки имеют тип ```list```. Для создания пустого списка достаточно использовать следующие выражения:"
   ],
   "cell_type": "markdown",
   "metadata": {}
  },
  {
   "cell_type": "code",
   "execution_count": 1,
   "metadata": {},
   "outputs": [
    {
     "output_type": "stream",
     "name": "stdout",
     "text": [
      "type(xs) = <class 'list'>\ntype(ys) = <class 'list'>\n"
     ]
    }
   ],
   "source": [
    "xs = []\n",
    "ys = list()\n",
    "print(f'{type(xs) = }')\n",
    "print(f'{type(ys) = }')"
   ]
  },
  {
   "source": [
    "В списках разрешено хранить объекты любых типов. Однако, их рекомендуется использовать для хранения однотипных данных, например, только чисел, только строк и тд. "
   ],
   "cell_type": "markdown",
   "metadata": {}
  },
  {
   "cell_type": "code",
   "execution_count": 2,
   "metadata": {},
   "outputs": [
    {
     "output_type": "stream",
     "name": "stdout",
     "text": [
      "xs = [42, 42.0, 'foo_bar', [1, 2, 3], None, False]\n"
     ]
    }
   ],
   "source": [
    "xs = [42, 42., 'foo_bar', [1, 2, 3], None, False]\n",
    "print(f'{xs = }')"
   ]
  },
  {
   "source": [
    "Списки в Python аналогичны динамическим массивам из других языков. Любые массивы хранятся в памяти последовательно. При создании\n",
    "4\n",
    "списка под него выделяется больше памяти, чем необходимо. Это делается для того, чтобы при добавлении элементов не перезаписывать массив слишком часто. Об этом стоит помнить, происходит активное изменение длины списка. Примерная схема роста списка в Python: 0, 4, 8, 16, 25, 35, 46, 58, 72, 88, … Таким образом, при добавлении первого элемента в пустой список произойдет выделение памяти сразу для 4 элементов. Если в процессе работы программы нужно создать большой список, то лучше создать его заранее, заполним, например, нулями. В результате удастся избежать частого копирования списка в памяти.\n",
    "\n",
    "## Операции со списками\n",
    "\n",
    "Список - это упорядоченная коллекция. Как и у любой коллекции они имеют длину, которую можно получить, используя функцию ```len```."
   ],
   "cell_type": "markdown",
   "metadata": {}
  },
  {
   "cell_type": "code",
   "execution_count": 3,
   "metadata": {},
   "outputs": [
    {
     "output_type": "stream",
     "name": "stdout",
     "text": [
      "len(xs) = 4\n"
     ]
    }
   ],
   "source": [
    "xs = [1, 2, 3, 4]\n",
    "print(f'{len(xs) = }')"
   ]
  },
  {
   "source": [
    "Со списками работают некоторые арифметические операторы. Так можно использовать ```+``` для конкатенации списков, а ```*``` для их размножения."
   ],
   "cell_type": "markdown",
   "metadata": {}
  },
  {
   "cell_type": "code",
   "execution_count": 4,
   "metadata": {},
   "outputs": [
    {
     "output_type": "stream",
     "name": "stdout",
     "text": [
      "xs + ys = [1, 2, 3, 4, 5, 6, 7]\n3 * xs = [1, 2, 3, 4, 1, 2, 3, 4, 1, 2, 3, 4]\n"
     ]
    }
   ],
   "source": [
    "xs = [1, 2, 3, 4]\n",
    "ys = [5, 6, 7]\n",
    "print(f'{xs + ys = }')\n",
    "print(f'{3 * xs = }')"
   ]
  },
  {
   "source": [
    "У списков есть ряд методов, обеспечивающих специфические операции. Например:\n",
    "- ```append(x)``` - добавление элемента ```x``` в конец списка;\n",
    "- ```pop()``` - удаление элемента, если не указан аргумент, то удаление происходит с конца, иначе (```pop(i)```) удаляется по индексу ```i```;\n",
    "- ```insert(i, x)``` - вставка элемента ```x``` в нужное место ```i```;\n",
    "- ```extend(ys)``` - объединение списков;\n",
    "- ```count(x)``` - подсчитать количество элементов, совпадающих с ```x```;\n",
    "- ```index(x)``` - получить индекс первого вхождения ```x```;\n",
    "- ```reverse()``` - перевернуть список;\n",
    "- и [другие](https://docs.python.org/3.9/tutorial/datastructures.html#).\n",
    "\n",
    "Все эти операции изменяют список \"на месте\", т.е. они ничего не возвращают."
   ],
   "cell_type": "markdown",
   "metadata": {}
  },
  {
   "cell_type": "code",
   "execution_count": 5,
   "metadata": {},
   "outputs": [
    {
     "output_type": "stream",
     "name": "stdout",
     "text": [
      "(1): xs = [1, 2, 3, 4, 42]\n(2): x = 42, xs = [1, 2, 3, 4]\n(3): x = 3, xs = [1, 2, 4]\n(4): xs = [1, 2]\n(5): xs = [1, 196, 2]\n(6): xs = [1, 196, 2, 5, 6, 7]\nxs = [7, 6, 5, 2, 196, 1]\n"
     ]
    }
   ],
   "source": [
    "xs = [1, 2, 3, 4]\n",
    "ys = [5, 6, 7]\n",
    "\n",
    "xs.append(42)\n",
    "print(f'(1): {xs = }')\n",
    "\n",
    "# метод pop удобен, когда нужно использовать удаленный элемент\n",
    "x = xs.pop()\n",
    "print(f'(2): {x = }, {xs = }')\n",
    "x = xs.pop(2)\n",
    "print(f'(3): {x = }, {xs = }')\n",
    "\n",
    "# еще один способ удалить элемент по индексу\n",
    "del xs[2]\n",
    "print(f'(4): {xs = }')\n",
    "\n",
    "xs.insert(1, 196)\n",
    "print(f'(5): {xs = }')\n",
    "\n",
    "xs.extend(ys)\n",
    "print(f'(6): {xs = }')\n",
    "\n",
    "xs.reverse()\n",
    "print(f'{xs = }')"
   ]
  },
  {
   "cell_type": "code",
   "execution_count": 6,
   "metadata": {},
   "outputs": [
    {
     "output_type": "stream",
     "name": "stdout",
     "text": [
      "4 in xs = True\nxs.count(3) = 3\nxs.index(3) = 1\n"
     ]
    }
   ],
   "source": [
    "xs = [1, 3, 2, 3, 3, 4]\n",
    "print(f'{4 in xs = }')\n",
    "print(f'{xs.count(3) = }')\n",
    "print(f'{xs.index(3) = }')"
   ]
  },
  {
   "source": [
    "Сортировка в Python использует алгоритм [TimSort](https://en.wikipedia.org/wiki/Timsort). Есть два способа отсортировать список: \"на месте\" и создав новый список. Метод ```sort``` сортирует текущий список, не создавая при этом новый. Функция ```sorted``` принимает список в качестве одного из аргументов, а возвращает новый отсортированный список. Обе функции сортируют список по неубыванию. Передавая аргумент ```reverse```, можно указать способ сортировки. По умолчанию он принимает значение ```False``` и сортировка происходит по неубыванию. Указав ```reverse=True```, сортировка будет происходить по невозрастанию.\n",
    "\n",
    "Сортировать можно списки из элементов одного типа. Строки сортируются в лексикографическом порядке."
   ],
   "cell_type": "markdown",
   "metadata": {}
  },
  {
   "cell_type": "code",
   "execution_count": 7,
   "metadata": {},
   "outputs": [
    {
     "output_type": "stream",
     "name": "stdout",
     "text": [
      "xs = [0, 1, 2, 3, 5, 7]\nys = ['v', 'e', 'c', 'b', 'a']\n"
     ]
    }
   ],
   "source": [
    "xs = [3, 5, 1, 2, 7, 0]\n",
    "ys = ['v', 'a', 'b', 'c', 'e']\n",
    "\n",
    "xs.sort()\n",
    "ys.sort(reverse=True)\n",
    "\n",
    "print(f'{xs = }')\n",
    "print(f'{ys = }')"
   ]
  },
  {
   "source": [
    "Списки можно создавать из других коллекций, используя функцию ```list```. Например, преобразование строки в список разобъет ее на отдельные символы."
   ],
   "cell_type": "markdown",
   "metadata": {}
  },
  {
   "source": [
    "xs = list('monty_python')\n",
    "print(f'{xs = }')"
   ],
   "cell_type": "code",
   "metadata": {},
   "execution_count": 8,
   "outputs": [
    {
     "output_type": "stream",
     "name": "stdout",
     "text": [
      "xs = ['m', 'o', 'n', 't', 'y', '_', 'p', 'y', 't', 'h', 'o', 'n']\n"
     ]
    }
   ]
  },
  {
   "source": [
    "Преобразование списка в строку осуществляется с помощью функции ```str```. Такое представление повторяет вид списка в интерпретаторе Python. Содержимое полученной строки можно скопировать и вставить в REPL, и это будет корректным выражением."
   ],
   "cell_type": "markdown",
   "metadata": {}
  },
  {
   "cell_type": "code",
   "execution_count": 9,
   "metadata": {},
   "outputs": [
    {
     "output_type": "stream",
     "name": "stdout",
     "text": [
      "str(xs) =       [1, 2, 3, 4]\nstr(xs)[1:-1] = '1, 2, 3, 4'\n"
     ]
    }
   ],
   "source": [
    "xs = [1, 2, 3, 4]\n",
    "print(f'{str(xs) = :>18}')\n",
    "print(f'{str(xs)[1:-1] = }')"
   ]
  },
  {
   "source": [
    "Как и любая коллекция списки поддерживают индексацию, которая начинается с нуля, и взятие срезов. Индексы могут быть и отрицательными."
   ],
   "cell_type": "markdown",
   "metadata": {}
  },
  {
   "cell_type": "code",
   "execution_count": 10,
   "metadata": {},
   "outputs": [
    {
     "output_type": "stream",
     "name": "stdout",
     "text": [
      "xs = ['m', 'o', 'n', 't', 'y', '_', 'p', 'y', 't', 'h', 'o', 'n']\nxs[0] = 'm'\nxs[5] = '_'\nxs[-1] = 'n'\nxs[-7] = '_'\n"
     ]
    }
   ],
   "source": [
    "xs = list('monty_python')\n",
    "print(f'{xs = }')\n",
    "print(f'{xs[0] = }')\n",
    "print(f'{xs[5] = }')\n",
    "print(f'{xs[-1] = }')\n",
    "print(f'{xs[-7] = }')"
   ]
  },
  {
   "cell_type": "code",
   "execution_count": 11,
   "metadata": {},
   "outputs": [
    {
     "output_type": "stream",
     "name": "stdout",
     "text": [
      "xs = ['m', 'o', 'n', 't', 'y', '_', 'p', 'y', 't', 'h', 'o', 'n']\nxs[:] = ['m', 'o', 'n', 't', 'y', '_', 'p', 'y', 't', 'h', 'o', 'n']\nxs[::-1] = ['n', 'o', 'h', 't', 'y', 'p', '_', 'y', 't', 'n', 'o', 'm']\nxs[:5] = ['m', 'o', 'n', 't', 'y']\nxs[6:] = ['p', 'y', 't', 'h', 'o', 'n']\nxs[3:7] = ['t', 'y', '_', 'p']\nxs[3:8:2] = ['t', '_', 'y']\nxs[4::-1] = ['y', 't', 'n', 'o', 'm']\n"
     ]
    }
   ],
   "source": [
    "xs = list('monty_python')\n",
    "print(f'{xs = }')\n",
    "print(f'{xs[:] = }')\n",
    "print(f'{xs[::-1] = }')\n",
    "print(f'{xs[:5] = }')\n",
    "print(f'{xs[6:] = }')\n",
    "print(f'{xs[3:7] = }')\n",
    "print(f'{xs[3:8:2] = }')\n",
    "print(f'{xs[4::-1] = }')"
   ]
  },
  {
   "source": [
    "## Коротко об объекте ```range```\n",
    "\n",
    "С помощью функции ```range()``` можно создать специальный объект ```range```, передав параметры, аналогичные срезам: ```start```, ```stop```, ```step```. Этот объект представляет собой целочисленную последовательность из интервала $[start, stop)$ с заданным шагом $step$. Вызвать функцию можно тремя способами:\n",
    "- ```range(stop)``` - указана только верхняя граница, эквивалентно интервалу $[0, stop)$, шаг по умолчанию равен 1;\n",
    "- ```range(start, stop)``` - указаны нижняя и верхняя границы, эквивалентно интервалу $[start, stop)$, шаг по умолчанию равен 1;\n",
    "- ```range(start, stop, step)``` - указаны обе границы, эквивалентно интервалу $[start, stop)$, шаг равен $step$;\n",
    "\n",
    "Более подробно этот объект будет рассмотрен в разделе об итераторах."
   ],
   "cell_type": "markdown",
   "metadata": {}
  },
  {
   "cell_type": "code",
   "execution_count": 12,
   "metadata": {},
   "outputs": [
    {
     "output_type": "stream",
     "name": "stdout",
     "text": [
      "r = range(0, 5)\ntype(r) = <class 'range'>\nlen(r) = 5\nlist(r) = [0, 1, 2, 3, 4]\nstr(r) = 'range(0, 5)'\n"
     ]
    }
   ],
   "source": [
    "r = range(5)\n",
    "print(f'{r = }')\n",
    "print(f'{type(r) = }')\n",
    "print(f'{len(r) = }')\n",
    "print(f'{list(r) = }')\n",
    "print(f'{str(r) = }')"
   ]
  },
  {
   "cell_type": "code",
   "execution_count": 13,
   "metadata": {},
   "outputs": [
    {
     "output_type": "stream",
     "name": "stdout",
     "text": [
      "r = range(10, 20, 2)\ntype(r) = <class 'range'>\nlen(r) = 5\nlist(r) = [10, 12, 14, 16, 18]\nstr(r) = 'range(10, 20, 2)'\n"
     ]
    }
   ],
   "source": [
    "r = range(10, 20, 2)\n",
    "print(f'{r = }')\n",
    "print(f'{type(r) = }')\n",
    "print(f'{len(r) = }')\n",
    "print(f'{list(r) = }')\n",
    "print(f'{str(r) = }')"
   ]
  },
  {
   "source": [
    "## Итерирование по спискам\n",
    "\n",
    "Итерирование по списку аналогично итерированию по строке:\n",
    "- простой перебор\n",
    "- с помощью ```enumerate```\n",
    "- с помощью ```range``` (если не нужны элементы коллекции)"
   ],
   "cell_type": "markdown",
   "metadata": {}
  },
  {
   "cell_type": "code",
   "execution_count": 14,
   "metadata": {},
   "outputs": [
    {
     "output_type": "stream",
     "name": "stdout",
     "text": [
      "4\n3\n2\n1\n"
     ]
    }
   ],
   "source": [
    "xs = [4, 3, 2, 1]\n",
    "\n",
    "for x in xs:\n",
    "    print(x)"
   ]
  },
  {
   "cell_type": "code",
   "execution_count": 15,
   "metadata": {},
   "outputs": [
    {
     "output_type": "stream",
     "name": "stdout",
     "text": [
      "xs[0] = 4\nxs[1] = 3\nxs[2] = 2\nxs[3] = 1\n"
     ]
    }
   ],
   "source": [
    "xs = [4, 3, 2, 1]\n",
    "\n",
    "for i, x in enumerate(xs):\n",
    "    print(f'xs[{i}] = {x}')"
   ]
  },
  {
   "cell_type": "code",
   "execution_count": 16,
   "metadata": {},
   "outputs": [
    {
     "output_type": "stream",
     "name": "stdout",
     "text": [
      "xs[0] = 4\n",
      "xs[1] = 3\n",
      "xs[2] = 2\n",
      "xs[3] = 1\n"
     ]
    }
   ],
   "source": [
    "xs = [4, 3, 2, 1]\n",
    "\n",
    "for i in range(len(xs)):\n",
    "    print(f'xs[{i}] = {xs[i]}')"
   ]
  },
  {
   "source": [
    "# Варианты применения списков\n",
    "\n",
    "Помимо простого использования списка как контейнера для элементов и совершения над ним различных операций, списки могут быть использованы для моделирования специализированных структур данных, таких как стек и очередь. У списко для этого есть все необходимое. \n",
    "\n",
    "## Список как стек\n",
    "\n",
    "[Стек](https://en.wikipedia.org/wiki/Stack_(abstract_data_type)) - это структура данных, представляющая собой список, организованных по принципу \"последним пришел - первым ушел\" или LIFO (Last In First Out). Другими словами, добавлять новые элементы можно только в конец, и с него же элементы можно убирать. В \"классической\" версии стека доступ по индексу отсутствует. Добраться до последнего элемента (первого добавленного в стек) можно лишь вынув все элементы из стека.  Другой конец списка остается недоступным. Схематично это можно представить следующим образом:\n",
    "\n",
    "<img src=\"../image/stack.png\" align=\"center\">\n",
    "\n",
    "Таким образом, стек требует реализации двух операций:\n",
    "- ```append``` - добавление элемента на вершину стека\n",
    "- ```pop``` - удаление элемента с вершины стека\n",
    "\n",
    "Обе эти операции реализованы у типа ```list```. "
   ],
   "cell_type": "markdown",
   "metadata": {}
  },
  {
   "cell_type": "code",
   "execution_count": 17,
   "metadata": {},
   "outputs": [
    {
     "output_type": "stream",
     "name": "stdout",
     "text": [
      "stack.pop() = 6\nstack = [1, 2, 3, 4, 5]\nstack = [1, 2, 3, 4, 5, 7]\n"
     ]
    }
   ],
   "source": [
    "stack = [1, 2, 3, 4, 5, 6]\n",
    "print(f'{stack.pop() = }')\n",
    "print(f'{stack = }')\n",
    "stack.append(7)\n",
    "print(f'{stack = }')"
   ]
  },
  {
   "source": [
    "Стек широко применяется на практике. Одним из его применений является анализ выражений. Ниже приведен пример простой проверки скобочной последовательности."
   ],
   "cell_type": "markdown",
   "metadata": {}
  },
  {
   "cell_type": "code",
   "execution_count": 18,
   "metadata": {},
   "outputs": [
    {
     "output_type": "stream",
     "name": "stdout",
     "text": [
      "check(5 + 2) = True\ncheck(2 * (3 + 4)) = True\ncheck(((2 / (3 + 1)) * (2 + 3))) = True\ncheck(() = False\ncheck()) = False\ncheck(1 + 2) - 4) = False\ncheck(1 + (2 * (3 + 5)) = False\n"
     ]
    }
   ],
   "source": [
    "expressions = [\n",
    "    '5 + 2', \n",
    "    '2 * (3 + 4)', \n",
    "    '((2 / (3 + 1)) * (2 + 3))', \n",
    "    '(', \n",
    "    ')',\n",
    "    '1 + 2) - 4', \n",
    "    '1 + (2 * (3 + 5)',\n",
    "]\n",
    "\n",
    "def check_brackets(expr):\n",
    "    stack = []\n",
    "    for c in expr:\n",
    "        if c == '(':\n",
    "            stack.append(c)\n",
    "        elif c == ')':\n",
    "            if stack:\n",
    "                stack.pop()\n",
    "            else:\n",
    "                return False\n",
    "    if stack:\n",
    "        return False\n",
    "    else:\n",
    "        return True\n",
    "\n",
    "\n",
    "for s in expressions:\n",
    "    print(f'check({s}) = {check_brackets(s)}')\n"
   ]
  },
  {
   "source": [
    "## Список как очередь\n",
    "\n",
    "[Очередь](https://en.wikipedia.org/wiki/Queue_(abstract_data_type)) - это другая структура данных, схожая с обычной очередью в магазине. Это коллекция элементов организованная по принципу \"первым пришел - первым ушел\" или FIFO (First In First Out). Добавление новых элементов в очередь происходит в ее конец посредством операции ```append```, а получение элемента из очереди возможно только с ее начала с помощью ```pop```. Схематично очередь можно представить следующим образом. Обычно, доступа по индексу в очереди не предусмотрено.\n",
    "\n",
    "<img src=\"../image/deque.png\">\n",
    "\n",
    "Очереди бывают разных видов, например, с ограниченным количеством элементов (ограниченной длины), с приоритетом и другие.\n",
    "\n",
    "Однако, моделирование очереди с помощью списков (```list```) или массивов не является эффективным (не только в Python). Это происходит из-за того, что при удалении элемента с начала списка все остальные элементы нужно сдвинуть на 1 влево. Эта операция очень затратная по времени. Стоит учитывать и дополнительное выделение памяти у списков для добавления новых элементов.\n",
    "\n",
    "<img src=\"../image/array_shift.png\">\n",
    "\n",
    "\n",
    "Эффективность разных структур данных в Python будет рассмотрена позднее.  "
   ],
   "cell_type": "markdown",
   "metadata": {}
  },
  {
   "cell_type": "code",
   "execution_count": 19,
   "metadata": {},
   "outputs": [
    {
     "output_type": "stream",
     "name": "stdout",
     "text": [
      "Первый элемент: 1\ndeque = [2, 3, 4, 5]\ndeque = [2, 3, 4, 5, 6]\n"
     ]
    }
   ],
   "source": [
    "deque = [1, 2, 3, 4, 5]\n",
    "fifo = deque.pop(0)\n",
    "print(f'Первый элемент: {fifo}')\n",
    "print(f'{deque = }')\n",
    "deque.append(6)\n",
    "print(f'{deque = }')"
   ]
  },
  {
   "source": [
    "# Полезные сслыки\n",
    "\n",
    "1. [Алгоритм сортировки TimSort](https://habr.com/ru/company/infopulse/blog/133303/)\n",
    "2. [Реализация Python списка](https://www.laurentluce.com/posts/python-list-implementation/)"
   ],
   "cell_type": "markdown",
   "metadata": {}
  }
 ]
}