{
 "metadata": {
  "language_info": {
   "codemirror_mode": {
    "name": "ipython",
    "version": 3
   },
   "file_extension": ".py",
   "mimetype": "text/x-python",
   "name": "python",
   "nbconvert_exporter": "python",
   "pygments_lexer": "ipython3",
   "version": "3.9.0-final"
  },
  "orig_nbformat": 2,
  "kernelspec": {
   "name": "python3",
   "display_name": "Python 3"
  }
 },
 "nbformat": 4,
 "nbformat_minor": 2,
 "cells": [
  {
   "source": [
    "# Модуль ```collections```\n",
    "\n",
    "## Именованные кортежи (```namedtuple```)\n",
    "\n",
    "[документация](https://docs.python.org/3/library/collections.html#collections.namedtuple)"
   ],
   "cell_type": "markdown",
   "metadata": {}
  },
  {
   "cell_type": "code",
   "execution_count": 2,
   "metadata": {},
   "outputs": [
    {
     "output_type": "stream",
     "name": "stdout",
     "text": [
      "point_1 = Point(x=1, y=2)\npoint_2 = Point(x=1, y=2)\ntype(point_1) = <class '__main__.Point'>\ntype(point_2) = <class '__main__.Point'>\n"
     ]
    }
   ],
   "source": [
    "from collections import namedtuple\n",
    "\n",
    "Point_2d = namedtuple('Point', ('x', 'y'))\n",
    "\n",
    "point_1 = Point_2d(x=1, y=2)\n",
    "point_2 = Point_2d(1, 2)\n",
    "\n",
    "print(f'{point_1 = }')\n",
    "print(f'{point_2 = }')\n",
    "print(f'{type(point_1) = }')\n",
    "print(f'{type(point_2) = }')"
   ]
  },
  {
   "cell_type": "code",
   "execution_count": 3,
   "metadata": {},
   "outputs": [
    {
     "output_type": "stream",
     "name": "stdout",
     "text": [
      "point_1.x = 1, point_1.y = 2\npoint_1[0] = 1, point_1[1] = 2\n"
     ]
    }
   ],
   "source": [
    "print(f'{point_1.x = }, {point_1.y = }')\n",
    "print(f'{point_1[0] = }, {point_1[1] = }')\n",
    "\n",
    "x, y = point_1\n",
    "print(f'{x = }, {y = }')"
   ]
  },
  {
   "cell_type": "code",
   "execution_count": 4,
   "metadata": {},
   "outputs": [
    {
     "output_type": "error",
     "ename": "AttributeError",
     "evalue": "can't set attribute",
     "traceback": [
      "\u001b[1;31m---------------------------------------------------------------------------\u001b[0m",
      "\u001b[1;31mAttributeError\u001b[0m                            Traceback (most recent call last)",
      "\u001b[1;32m<ipython-input-4-4cf3fb623096>\u001b[0m in \u001b[0;36m<module>\u001b[1;34m\u001b[0m\n\u001b[1;32m----> 1\u001b[1;33m \u001b[0mpoint_1\u001b[0m\u001b[1;33m.\u001b[0m\u001b[0mx\u001b[0m \u001b[1;33m=\u001b[0m \u001b[1;36m0\u001b[0m\u001b[1;33m\u001b[0m\u001b[1;33m\u001b[0m\u001b[0m\n\u001b[0m",
      "\u001b[1;31mAttributeError\u001b[0m: can't set attribute"
     ]
    }
   ],
   "source": [
    "point_1.x = 0"
   ]
  },
  {
   "cell_type": "code",
   "execution_count": 9,
   "metadata": {},
   "outputs": [
    {
     "output_type": "stream",
     "name": "stdout",
     "text": [
      "point_1 = Point(x=1, y=2), point_3 = Point(x=1, y=0)\n"
     ]
    }
   ],
   "source": [
    "point_3 = point_1._replace(y=0)\n",
    "print(f'{point_1 = }, {point_3 = }')"
   ]
  },
  {
   "cell_type": "code",
   "execution_count": null,
   "metadata": {},
   "outputs": [],
   "source": [
    "p_1 = Point_2d._make([1, 2])\n",
    "p_2 = Point_2d._make({'x': 1, 'y': 2})\n",
    "\n",
    "print(f'{p_1 = }, {p_2 = }')"
   ]
  },
  {
   "cell_type": "code",
   "execution_count": 5,
   "metadata": {},
   "outputs": [
    {
     "output_type": "stream",
     "name": "stdout",
     "text": [
      "point_1._fields = ('x', 'y')\n"
     ]
    }
   ],
   "source": [
    "print(f'{point_1._fields = }')"
   ]
  },
  {
   "cell_type": "code",
   "execution_count": 8,
   "metadata": {},
   "outputs": [
    {
     "output_type": "stream",
     "name": "stdout",
     "text": [
      "point_1._asdict() = {'x': 1, 'y': 2}\ntuple(point_1) = (1, 2)\n"
     ]
    }
   ],
   "source": [
    "print(f'{point_1._asdict() = }')\n",
    "print(f'{tuple(point_1) = }')"
   ]
  },
  {
   "source": [
    "## ```Counter```\n",
    "\n",
    "[документация](https://docs.python.org/3/library/collections.html#collections.Counter)"
   ],
   "cell_type": "markdown",
   "metadata": {}
  },
  {
   "cell_type": "code",
   "execution_count": null,
   "metadata": {},
   "outputs": [],
   "source": [
    "from collections import Counter"
   ]
  },
  {
   "source": [
    "## ```deque```\n",
    "\n",
    "[документация](https://docs.python.org/3/library/collections.html#collections.deque)"
   ],
   "cell_type": "markdown",
   "metadata": {}
  },
  {
   "cell_type": "code",
   "execution_count": null,
   "metadata": {},
   "outputs": [],
   "source": [
    "from collections import deque"
   ]
  },
  {
   "source": [
    "## ```ChainMap```\n",
    "\n",
    "[документация](https://docs.python.org/3/library/collections.html#collections.ChainMap)"
   ],
   "cell_type": "markdown",
   "metadata": {}
  },
  {
   "cell_type": "code",
   "execution_count": null,
   "metadata": {},
   "outputs": [],
   "source": [
    "from collections import ChainMap"
   ]
  },
  {
   "source": [
    "## ```defaultdict```\n",
    "\n",
    "[документация](https://docs.python.org/3/library/collections.html#collections.defaultdict)"
   ],
   "cell_type": "markdown",
   "metadata": {}
  },
  {
   "cell_type": "code",
   "execution_count": null,
   "metadata": {},
   "outputs": [],
   "source": [
    "from collections import defaultdict"
   ]
  },
  {
   "cell_type": "code",
   "execution_count": null,
   "metadata": {},
   "outputs": [],
   "source": [
    "def tree():\n",
    "    return defaultdict(tree)\n",
    "\n",
    "df = defaultdict(tree)\n",
    "print(df[1])\n",
    "print(df[1][2][3])\n",
    "print(df[1][4])"
   ]
  },
  {
   "source": [
    "# Ссылки\n",
    "\n",
    "- [Документация](https://docs.python.org/3/library/collections.html)\n"
   ],
   "cell_type": "markdown",
   "metadata": {}
  }
 ]
}